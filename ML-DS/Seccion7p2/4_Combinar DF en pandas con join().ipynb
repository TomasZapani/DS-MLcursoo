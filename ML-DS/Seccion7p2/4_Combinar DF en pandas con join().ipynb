{
 "cells": [
  {
   "cell_type": "code",
   "execution_count": 12,
   "id": "74422fd0-9b9a-40e1-ae4b-ca7d765f3d1c",
   "metadata": {
    "editable": true,
    "slideshow": {
     "slide_type": ""
    },
    "tags": []
   },
   "outputs": [],
   "source": [
    "import pandas as pd\n",
    "#Creación de los DFs\n",
    "\n",
    "df1 = pd.DataFrame(\n",
    "    #Diccionario para transf en el df1\n",
    "    {\n",
    "    'Salario':[30000,450000,380000],\n",
    "    'Antiguedad':[9,12,13]},\n",
    "    \n",
    "    #índices del df1            \n",
    "    index = [1,2,3]\n",
    ")\n",
    "\n",
    "\n",
    "df2 = pd.DataFrame(\n",
    "    #Diccionario para transf en el df1\n",
    "    {\n",
    "    'Ciudad':['Madrid','Barcelona','Valencia'],\n",
    "    'Jerarquía':['Baja','Alta','Media']}, \n",
    "    \n",
    "     #índices del df1  \n",
    "     index = [1,2,4]\n",
    ")\n"
   ]
  },
  {
   "cell_type": "code",
   "execution_count": 9,
   "id": "2d84d7ad-31ca-4532-920a-bcb4cd12fd4b",
   "metadata": {},
   "outputs": [
    {
     "data": {
      "text/html": [
       "<div>\n",
       "<style scoped>\n",
       "    .dataframe tbody tr th:only-of-type {\n",
       "        vertical-align: middle;\n",
       "    }\n",
       "\n",
       "    .dataframe tbody tr th {\n",
       "        vertical-align: top;\n",
       "    }\n",
       "\n",
       "    .dataframe thead th {\n",
       "        text-align: right;\n",
       "    }\n",
       "</style>\n",
       "<table border=\"1\" class=\"dataframe\">\n",
       "  <thead>\n",
       "    <tr style=\"text-align: right;\">\n",
       "      <th></th>\n",
       "      <th>Salario</th>\n",
       "      <th>Antiguedad</th>\n",
       "    </tr>\n",
       "  </thead>\n",
       "  <tbody>\n",
       "    <tr>\n",
       "      <th>1</th>\n",
       "      <td>30000</td>\n",
       "      <td>9</td>\n",
       "    </tr>\n",
       "    <tr>\n",
       "      <th>2</th>\n",
       "      <td>450000</td>\n",
       "      <td>12</td>\n",
       "    </tr>\n",
       "    <tr>\n",
       "      <th>3</th>\n",
       "      <td>380000</td>\n",
       "      <td>13</td>\n",
       "    </tr>\n",
       "  </tbody>\n",
       "</table>\n",
       "</div>"
      ],
      "text/plain": [
       "   Salario  Antiguedad\n",
       "1    30000           9\n",
       "2   450000          12\n",
       "3   380000          13"
      ]
     },
     "execution_count": 9,
     "metadata": {},
     "output_type": "execute_result"
    }
   ],
   "source": [
    "df1"
   ]
  },
  {
   "cell_type": "code",
   "execution_count": 10,
   "id": "c2e2f9e8-17eb-46e1-a742-20e11b2cb9e6",
   "metadata": {},
   "outputs": [
    {
     "data": {
      "text/html": [
       "<div>\n",
       "<style scoped>\n",
       "    .dataframe tbody tr th:only-of-type {\n",
       "        vertical-align: middle;\n",
       "    }\n",
       "\n",
       "    .dataframe tbody tr th {\n",
       "        vertical-align: top;\n",
       "    }\n",
       "\n",
       "    .dataframe thead th {\n",
       "        text-align: right;\n",
       "    }\n",
       "</style>\n",
       "<table border=\"1\" class=\"dataframe\">\n",
       "  <thead>\n",
       "    <tr style=\"text-align: right;\">\n",
       "      <th></th>\n",
       "      <th>Ciudad</th>\n",
       "      <th>Jerarquía</th>\n",
       "    </tr>\n",
       "  </thead>\n",
       "  <tbody>\n",
       "    <tr>\n",
       "      <th>1</th>\n",
       "      <td>Madrid</td>\n",
       "      <td>Baja</td>\n",
       "    </tr>\n",
       "    <tr>\n",
       "      <th>2</th>\n",
       "      <td>Barcelona</td>\n",
       "      <td>Alta</td>\n",
       "    </tr>\n",
       "    <tr>\n",
       "      <th>4</th>\n",
       "      <td>Valencia</td>\n",
       "      <td>Media</td>\n",
       "    </tr>\n",
       "  </tbody>\n",
       "</table>\n",
       "</div>"
      ],
      "text/plain": [
       "      Ciudad Jerarquía\n",
       "1     Madrid      Baja\n",
       "2  Barcelona      Alta\n",
       "4   Valencia     Media"
      ]
     },
     "execution_count": 10,
     "metadata": {},
     "output_type": "execute_result"
    }
   ],
   "source": [
    "df2"
   ]
  },
  {
   "cell_type": "code",
   "execution_count": 11,
   "id": "cd301139-f471-43b5-8515-0fff583d63a1",
   "metadata": {},
   "outputs": [
    {
     "data": {
      "text/html": [
       "<div>\n",
       "<style scoped>\n",
       "    .dataframe tbody tr th:only-of-type {\n",
       "        vertical-align: middle;\n",
       "    }\n",
       "\n",
       "    .dataframe tbody tr th {\n",
       "        vertical-align: top;\n",
       "    }\n",
       "\n",
       "    .dataframe thead th {\n",
       "        text-align: right;\n",
       "    }\n",
       "</style>\n",
       "<table border=\"1\" class=\"dataframe\">\n",
       "  <thead>\n",
       "    <tr style=\"text-align: right;\">\n",
       "      <th></th>\n",
       "      <th>Salario</th>\n",
       "      <th>Antiguedad</th>\n",
       "      <th>Ciudad</th>\n",
       "      <th>Jerarquía</th>\n",
       "    </tr>\n",
       "  </thead>\n",
       "  <tbody>\n",
       "    <tr>\n",
       "      <th>1</th>\n",
       "      <td>30000</td>\n",
       "      <td>9</td>\n",
       "      <td>Madrid</td>\n",
       "      <td>Baja</td>\n",
       "    </tr>\n",
       "    <tr>\n",
       "      <th>2</th>\n",
       "      <td>450000</td>\n",
       "      <td>12</td>\n",
       "      <td>Barcelona</td>\n",
       "      <td>Alta</td>\n",
       "    </tr>\n",
       "    <tr>\n",
       "      <th>3</th>\n",
       "      <td>380000</td>\n",
       "      <td>13</td>\n",
       "      <td>NaN</td>\n",
       "      <td>NaN</td>\n",
       "    </tr>\n",
       "  </tbody>\n",
       "</table>\n",
       "</div>"
      ],
      "text/plain": [
       "   Salario  Antiguedad     Ciudad Jerarquía\n",
       "1    30000           9     Madrid      Baja\n",
       "2   450000          12  Barcelona      Alta\n",
       "3   380000          13        NaN       NaN"
      ]
     },
     "execution_count": 11,
     "metadata": {},
     "output_type": "execute_result"
    }
   ],
   "source": [
    "df_unido = df1.join(df2)#Para unir estos dos DF solo le metemos el join y le pasamos el parámetro que sería el DF con el que queremos que se una\n",
    "df_unido"
   ]
  },
  {
   "cell_type": "markdown",
   "id": "041760bf-b247-462c-a5ad-5aa7b8d0fd1c",
   "metadata": {},
   "source": [
    "Como vemos arriba la fn join deja el df1 del lado izq y solo trae algunas del derecho, pq? bueno pq\n",
    "esta fn está conf de default digamos con el how = 'left', aún así esto lo podemos cambiar y personalizar nosotro, asi..."
   ]
  },
  {
   "cell_type": "code",
   "execution_count": 17,
   "id": "2c990dc2-055d-4a33-ae71-41be0aab895e",
   "metadata": {},
   "outputs": [
    {
     "data": {
      "text/html": [
       "<div>\n",
       "<style scoped>\n",
       "    .dataframe tbody tr th:only-of-type {\n",
       "        vertical-align: middle;\n",
       "    }\n",
       "\n",
       "    .dataframe tbody tr th {\n",
       "        vertical-align: top;\n",
       "    }\n",
       "\n",
       "    .dataframe thead th {\n",
       "        text-align: right;\n",
       "    }\n",
       "</style>\n",
       "<table border=\"1\" class=\"dataframe\">\n",
       "  <thead>\n",
       "    <tr style=\"text-align: right;\">\n",
       "      <th></th>\n",
       "      <th>Salario</th>\n",
       "      <th>Antiguedad</th>\n",
       "      <th>Ciudad</th>\n",
       "      <th>Jerarquía</th>\n",
       "    </tr>\n",
       "  </thead>\n",
       "  <tbody>\n",
       "    <tr>\n",
       "      <th>1</th>\n",
       "      <td>30000.0</td>\n",
       "      <td>9.0</td>\n",
       "      <td>Madrid</td>\n",
       "      <td>Baja</td>\n",
       "    </tr>\n",
       "    <tr>\n",
       "      <th>2</th>\n",
       "      <td>450000.0</td>\n",
       "      <td>12.0</td>\n",
       "      <td>Barcelona</td>\n",
       "      <td>Alta</td>\n",
       "    </tr>\n",
       "    <tr>\n",
       "      <th>3</th>\n",
       "      <td>380000.0</td>\n",
       "      <td>13.0</td>\n",
       "      <td>NaN</td>\n",
       "      <td>NaN</td>\n",
       "    </tr>\n",
       "    <tr>\n",
       "      <th>4</th>\n",
       "      <td>NaN</td>\n",
       "      <td>NaN</td>\n",
       "      <td>Valencia</td>\n",
       "      <td>Media</td>\n",
       "    </tr>\n",
       "  </tbody>\n",
       "</table>\n",
       "</div>"
      ],
      "text/plain": [
       "    Salario  Antiguedad     Ciudad Jerarquía\n",
       "1   30000.0         9.0     Madrid      Baja\n",
       "2  450000.0        12.0  Barcelona      Alta\n",
       "3  380000.0        13.0        NaN       NaN\n",
       "4       NaN         NaN   Valencia     Media"
      ]
     },
     "execution_count": 17,
     "metadata": {},
     "output_type": "execute_result"
    }
   ],
   "source": [
    "#how = outer\n",
    "df_unido = df1.join(df2,how = 'outer')#Como lo q hace ac'a el outer es lo que hace siempre, juntar todo y en lo que falte meter NaN\n",
    "df_unido"
   ]
  },
  {
   "cell_type": "code",
   "execution_count": 18,
   "id": "754eea46-c2ca-42fd-93da-1389f855c6e7",
   "metadata": {},
   "outputs": [
    {
     "data": {
      "text/html": [
       "<div>\n",
       "<style scoped>\n",
       "    .dataframe tbody tr th:only-of-type {\n",
       "        vertical-align: middle;\n",
       "    }\n",
       "\n",
       "    .dataframe tbody tr th {\n",
       "        vertical-align: top;\n",
       "    }\n",
       "\n",
       "    .dataframe thead th {\n",
       "        text-align: right;\n",
       "    }\n",
       "</style>\n",
       "<table border=\"1\" class=\"dataframe\">\n",
       "  <thead>\n",
       "    <tr style=\"text-align: right;\">\n",
       "      <th></th>\n",
       "      <th>Salario</th>\n",
       "      <th>Antiguedad</th>\n",
       "      <th>Ciudad</th>\n",
       "      <th>Jerarquía</th>\n",
       "    </tr>\n",
       "  </thead>\n",
       "  <tbody>\n",
       "    <tr>\n",
       "      <th>1</th>\n",
       "      <td>30000</td>\n",
       "      <td>9</td>\n",
       "      <td>Madrid</td>\n",
       "      <td>Baja</td>\n",
       "    </tr>\n",
       "    <tr>\n",
       "      <th>2</th>\n",
       "      <td>450000</td>\n",
       "      <td>12</td>\n",
       "      <td>Barcelona</td>\n",
       "      <td>Alta</td>\n",
       "    </tr>\n",
       "  </tbody>\n",
       "</table>\n",
       "</div>"
      ],
      "text/plain": [
       "   Salario  Antiguedad     Ciudad Jerarquía\n",
       "1    30000           9     Madrid      Baja\n",
       "2   450000          12  Barcelona      Alta"
      ]
     },
     "execution_count": 18,
     "metadata": {},
     "output_type": "execute_result"
    }
   ],
   "source": [
    "#how = inner\n",
    "df_unido = df1.join(df2,how = 'inner')#En el inner solo arma el df con las partes que coincide osea con los índices\n",
    "df_unido"
   ]
  },
  {
   "cell_type": "code",
   "execution_count": 21,
   "id": "434258c1-365d-4c94-9f8b-6f60dd20dec1",
   "metadata": {},
   "outputs": [
    {
     "data": {
      "text/html": [
       "<div>\n",
       "<style scoped>\n",
       "    .dataframe tbody tr th:only-of-type {\n",
       "        vertical-align: middle;\n",
       "    }\n",
       "\n",
       "    .dataframe tbody tr th {\n",
       "        vertical-align: top;\n",
       "    }\n",
       "\n",
       "    .dataframe thead th {\n",
       "        text-align: right;\n",
       "    }\n",
       "</style>\n",
       "<table border=\"1\" class=\"dataframe\">\n",
       "  <thead>\n",
       "    <tr style=\"text-align: right;\">\n",
       "      <th></th>\n",
       "      <th>Salario</th>\n",
       "      <th>Antiguedad</th>\n",
       "      <th>Ciudad</th>\n",
       "      <th>Jerarquía</th>\n",
       "    </tr>\n",
       "  </thead>\n",
       "  <tbody>\n",
       "    <tr>\n",
       "      <th>1</th>\n",
       "      <td>30000.0</td>\n",
       "      <td>9.0</td>\n",
       "      <td>Madrid</td>\n",
       "      <td>Baja</td>\n",
       "    </tr>\n",
       "    <tr>\n",
       "      <th>2</th>\n",
       "      <td>450000.0</td>\n",
       "      <td>12.0</td>\n",
       "      <td>Barcelona</td>\n",
       "      <td>Alta</td>\n",
       "    </tr>\n",
       "    <tr>\n",
       "      <th>4</th>\n",
       "      <td>NaN</td>\n",
       "      <td>NaN</td>\n",
       "      <td>Valencia</td>\n",
       "      <td>Media</td>\n",
       "    </tr>\n",
       "  </tbody>\n",
       "</table>\n",
       "</div>"
      ],
      "text/plain": [
       "    Salario  Antiguedad     Ciudad Jerarquía\n",
       "1   30000.0         9.0     Madrid      Baja\n",
       "2  450000.0        12.0  Barcelona      Alta\n",
       "4       NaN         NaN   Valencia     Media"
      ]
     },
     "execution_count": 21,
     "metadata": {},
     "output_type": "execute_result"
    }
   ],
   "source": [
    "#how =  right\n",
    "df_unido = df1.join(df2,how = 'right')#Es la inversa que con el left... deja el la parte derecha y trae algunas de las que coincide de la izq\n",
    "df_unido"
   ]
  },
  {
   "cell_type": "markdown",
   "id": "c611058e-ad0b-4f05-8b26-24003e3638c7",
   "metadata": {},
   "source": [
    "Claramente al ser join() ya trabaja con los índices desde un principio, a si que acá no se usa ni el left_index ni el right_..."
   ]
  }
 ],
 "metadata": {
  "kernelspec": {
   "display_name": "Python 3 (ipykernel)",
   "language": "python",
   "name": "python3"
  },
  "language_info": {
   "codemirror_mode": {
    "name": "ipython",
    "version": 3
   },
   "file_extension": ".py",
   "mimetype": "text/x-python",
   "name": "python",
   "nbconvert_exporter": "python",
   "pygments_lexer": "ipython3",
   "version": "3.11.0"
  }
 },
 "nbformat": 4,
 "nbformat_minor": 5
}
