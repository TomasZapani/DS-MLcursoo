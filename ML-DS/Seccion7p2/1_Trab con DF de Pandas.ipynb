{
 "cells": [
  {
   "cell_type": "code",
   "execution_count": 3,
   "id": "48f20940-b033-40c0-b957-ea4f8a01731f",
   "metadata": {},
   "outputs": [],
   "source": [
    "import pandas as pd"
   ]
  },
  {
   "cell_type": "code",
   "execution_count": 4,
   "id": "a774b755-7106-44ab-bc65-d93295af1430",
   "metadata": {},
   "outputs": [
    {
     "data": {
      "text/html": [
       "<div>\n",
       "<style scoped>\n",
       "    .dataframe tbody tr th:only-of-type {\n",
       "        vertical-align: middle;\n",
       "    }\n",
       "\n",
       "    .dataframe tbody tr th {\n",
       "        vertical-align: top;\n",
       "    }\n",
       "\n",
       "    .dataframe thead th {\n",
       "        text-align: right;\n",
       "    }\n",
       "</style>\n",
       "<table border=\"1\" class=\"dataframe\">\n",
       "  <thead>\n",
       "    <tr style=\"text-align: right;\">\n",
       "      <th></th>\n",
       "      <th>Nombre</th>\n",
       "      <th>Edad</th>\n",
       "      <th>Ciudad</th>\n",
       "    </tr>\n",
       "  </thead>\n",
       "  <tbody>\n",
       "    <tr>\n",
       "      <th>0</th>\n",
       "      <td>Ana</td>\n",
       "      <td>23</td>\n",
       "      <td>CABA</td>\n",
       "    </tr>\n",
       "    <tr>\n",
       "      <th>1</th>\n",
       "      <td>Luis</td>\n",
       "      <td>12</td>\n",
       "      <td>CABA</td>\n",
       "    </tr>\n",
       "    <tr>\n",
       "      <th>2</th>\n",
       "      <td>Alberto</td>\n",
       "      <td>32</td>\n",
       "      <td>Córdoba</td>\n",
       "    </tr>\n",
       "    <tr>\n",
       "      <th>3</th>\n",
       "      <td>Pedro</td>\n",
       "      <td>36</td>\n",
       "      <td>Posadas</td>\n",
       "    </tr>\n",
       "  </tbody>\n",
       "</table>\n",
       "</div>"
      ],
      "text/plain": [
       "    Nombre  Edad   Ciudad\n",
       "0      Ana    23     CABA\n",
       "1     Luis    12     CABA\n",
       "2  Alberto    32  Córdoba\n",
       "3    Pedro    36  Posadas"
      ]
     },
     "execution_count": 4,
     "metadata": {},
     "output_type": "execute_result"
    }
   ],
   "source": [
    "#Creación de un df mediante un diccionario y listas internas\n",
    "data = {\n",
    "\n",
    "    #Habrá 3 columnas con 4 registros\n",
    "    'Nombre':['Ana','Luis','Alberto','Pedro'],\n",
    "    'Edad':[23,12,32,36],\n",
    "    'Ciudad':['CABA','CABA','Córdoba','Posadas']\n",
    "    \n",
    "}\n",
    "\n",
    "\n",
    "df = pd.DataFrame(data)#Convert el diccionario el DF\n",
    "df#Impresión del df"
   ]
  },
  {
   "cell_type": "code",
   "execution_count": 7,
   "id": "efb9b51b-fb5c-4d16-a4a7-5ad2846d81f8",
   "metadata": {},
   "outputs": [
    {
     "data": {
      "text/html": [
       "<div>\n",
       "<style scoped>\n",
       "    .dataframe tbody tr th:only-of-type {\n",
       "        vertical-align: middle;\n",
       "    }\n",
       "\n",
       "    .dataframe tbody tr th {\n",
       "        vertical-align: top;\n",
       "    }\n",
       "\n",
       "    .dataframe thead th {\n",
       "        text-align: right;\n",
       "    }\n",
       "</style>\n",
       "<table border=\"1\" class=\"dataframe\">\n",
       "  <thead>\n",
       "    <tr style=\"text-align: right;\">\n",
       "      <th></th>\n",
       "      <th>Nombre</th>\n",
       "      <th>Edad</th>\n",
       "      <th>Ciudad</th>\n",
       "      <th>Salario</th>\n",
       "    </tr>\n",
       "  </thead>\n",
       "  <tbody>\n",
       "    <tr>\n",
       "      <th>0</th>\n",
       "      <td>Ana</td>\n",
       "      <td>23</td>\n",
       "      <td>CABA</td>\n",
       "      <td>20000</td>\n",
       "    </tr>\n",
       "    <tr>\n",
       "      <th>1</th>\n",
       "      <td>Luis</td>\n",
       "      <td>12</td>\n",
       "      <td>CABA</td>\n",
       "      <td>32000</td>\n",
       "    </tr>\n",
       "    <tr>\n",
       "      <th>2</th>\n",
       "      <td>Alberto</td>\n",
       "      <td>32</td>\n",
       "      <td>Córdoba</td>\n",
       "      <td>1000000</td>\n",
       "    </tr>\n",
       "    <tr>\n",
       "      <th>3</th>\n",
       "      <td>Pedro</td>\n",
       "      <td>36</td>\n",
       "      <td>Posadas</td>\n",
       "      <td>200000</td>\n",
       "    </tr>\n",
       "  </tbody>\n",
       "</table>\n",
       "</div>"
      ],
      "text/plain": [
       "    Nombre  Edad   Ciudad  Salario\n",
       "0      Ana    23     CABA    20000\n",
       "1     Luis    12     CABA    32000\n",
       "2  Alberto    32  Córdoba  1000000\n",
       "3    Pedro    36  Posadas   200000"
      ]
     },
     "execution_count": 7,
     "metadata": {},
     "output_type": "execute_result"
    }
   ],
   "source": [
    "#Agregamos una nueva serie-columna al df...\n",
    "df['Salario'] = [20000,32000,1000000,200000]#La llamamos salario y le metemos los datos para cada registro\n",
    "df#Impresion"
   ]
  },
  {
   "cell_type": "code",
   "execution_count": 9,
   "id": "f2a606a8-8d97-4ba7-b03c-7dcd1dd715d9",
   "metadata": {},
   "outputs": [
    {
     "data": {
      "text/html": [
       "<div>\n",
       "<style scoped>\n",
       "    .dataframe tbody tr th:only-of-type {\n",
       "        vertical-align: middle;\n",
       "    }\n",
       "\n",
       "    .dataframe tbody tr th {\n",
       "        vertical-align: top;\n",
       "    }\n",
       "\n",
       "    .dataframe thead th {\n",
       "        text-align: right;\n",
       "    }\n",
       "</style>\n",
       "<table border=\"1\" class=\"dataframe\">\n",
       "  <thead>\n",
       "    <tr style=\"text-align: right;\">\n",
       "      <th></th>\n",
       "      <th>Nombre</th>\n",
       "      <th>Edad</th>\n",
       "      <th>Ciudad</th>\n",
       "      <th>Salario</th>\n",
       "    </tr>\n",
       "  </thead>\n",
       "  <tbody>\n",
       "    <tr>\n",
       "      <th>0</th>\n",
       "      <td>Ana</td>\n",
       "      <td>23</td>\n",
       "      <td>CABA</td>\n",
       "      <td>40000</td>\n",
       "    </tr>\n",
       "    <tr>\n",
       "      <th>1</th>\n",
       "      <td>Luis</td>\n",
       "      <td>12</td>\n",
       "      <td>CABA</td>\n",
       "      <td>52000</td>\n",
       "    </tr>\n",
       "    <tr>\n",
       "      <th>2</th>\n",
       "      <td>Alberto</td>\n",
       "      <td>32</td>\n",
       "      <td>Córdoba</td>\n",
       "      <td>1020000</td>\n",
       "    </tr>\n",
       "    <tr>\n",
       "      <th>3</th>\n",
       "      <td>Pedro</td>\n",
       "      <td>36</td>\n",
       "      <td>Posadas</td>\n",
       "      <td>220000</td>\n",
       "    </tr>\n",
       "  </tbody>\n",
       "</table>\n",
       "</div>"
      ],
      "text/plain": [
       "    Nombre  Edad   Ciudad  Salario\n",
       "0      Ana    23     CABA    40000\n",
       "1     Luis    12     CABA    52000\n",
       "2  Alberto    32  Córdoba  1020000\n",
       "3    Pedro    36  Posadas   220000"
      ]
     },
     "execution_count": 9,
     "metadata": {},
     "output_type": "execute_result"
    }
   ],
   "source": [
    "df['Salario'] = df['Salario'] + 20000#Acá estamos modif los registros de salrios de la serie original del df, pq le estamos sumando 20mil a todos los salarios que hay \n",
    "df"
   ]
  },
  {
   "cell_type": "code",
   "execution_count": 15,
   "id": "3546d911-9d6d-4981-b9e2-d28bd609f30f",
   "metadata": {},
   "outputs": [
    {
     "data": {
      "text/plain": [
       "0      40000\n",
       "1      52000\n",
       "2    1020000\n",
       "3     220000\n",
       "Name: Salario, dtype: int64"
      ]
     },
     "execution_count": 15,
     "metadata": {},
     "output_type": "execute_result"
    }
   ],
   "source": [
    "#Almacenamiento de la serie salario en una variable\n",
    "nombres = df['Salario']\n",
    "nombres#Impresión"
   ]
  },
  {
   "cell_type": "code",
   "execution_count": 17,
   "id": "cd549f5c-dec6-4bfc-8574-156f000e730d",
   "metadata": {},
   "outputs": [
    {
     "data": {
      "text/html": [
       "<div>\n",
       "<style scoped>\n",
       "    .dataframe tbody tr th:only-of-type {\n",
       "        vertical-align: middle;\n",
       "    }\n",
       "\n",
       "    .dataframe tbody tr th {\n",
       "        vertical-align: top;\n",
       "    }\n",
       "\n",
       "    .dataframe thead th {\n",
       "        text-align: right;\n",
       "    }\n",
       "</style>\n",
       "<table border=\"1\" class=\"dataframe\">\n",
       "  <thead>\n",
       "    <tr style=\"text-align: right;\">\n",
       "      <th></th>\n",
       "      <th>Nombre</th>\n",
       "      <th>Edad</th>\n",
       "      <th>Ciudad</th>\n",
       "      <th>Salario</th>\n",
       "    </tr>\n",
       "  </thead>\n",
       "  <tbody>\n",
       "    <tr>\n",
       "      <th>2</th>\n",
       "      <td>Alberto</td>\n",
       "      <td>32</td>\n",
       "      <td>Córdoba</td>\n",
       "      <td>1020000</td>\n",
       "    </tr>\n",
       "    <tr>\n",
       "      <th>3</th>\n",
       "      <td>Pedro</td>\n",
       "      <td>36</td>\n",
       "      <td>Posadas</td>\n",
       "      <td>220000</td>\n",
       "    </tr>\n",
       "  </tbody>\n",
       "</table>\n",
       "</div>"
      ],
      "text/plain": [
       "    Nombre  Edad   Ciudad  Salario\n",
       "2  Alberto    32  Córdoba  1020000\n",
       "3    Pedro    36  Posadas   220000"
      ]
     },
     "execution_count": 17,
     "metadata": {},
     "output_type": "execute_result"
    }
   ],
   "source": [
    "#Filtración de edad\n",
    "condicion = df[df['Edad'] > 25]#Nos metemos en el df(df[]) 1ero y dps nos metemos en la serie-columna edad(df[df['Edad']]) y dentro de ahí aplicamos el condicional(df[df['Edad']>25]), el cual es que nos filtre las edades > a 25. Y todo esto lo almacenamos dentro de una variable\n",
    "condicion#Impresión del df filtrado "
   ]
  },
  {
   "cell_type": "markdown",
   "id": "207dcc8d-8256-4b0c-b59b-37e7ed84845b",
   "metadata": {},
   "source": [
    "Esto lo escirb para resolv una posible duda que tenga cuando lo mire en alguna otra ocasión y es básicamente pq aca solo accedo a la serie sin necesidad de ir al df primero:nombres = df['Salario'] y pq aca debo acceder al df y dps a la serie:#Filtración de edad\n",
    "condicion = df[df['Edad'] > 25]. Bueno, básicmanete esto ocurre pq en el primero solo estoy accediendo directamente a la columna y el result será una serie pq solo extraigo los val de esas columna. Ahora en el 2do, estoy filtrando segun la cond y el result que me dara sera un DF pq estoy selccionando varias filas y columnas"
   ]
  },
  {
   "cell_type": "code",
   "execution_count": 23,
   "id": "057afac3-8de0-41e6-acde-249098d2cce7",
   "metadata": {},
   "outputs": [
    {
     "data": {
      "text/html": [
       "<div>\n",
       "<style scoped>\n",
       "    .dataframe tbody tr th:only-of-type {\n",
       "        vertical-align: middle;\n",
       "    }\n",
       "\n",
       "    .dataframe tbody tr th {\n",
       "        vertical-align: top;\n",
       "    }\n",
       "\n",
       "    .dataframe thead th {\n",
       "        text-align: right;\n",
       "    }\n",
       "</style>\n",
       "<table border=\"1\" class=\"dataframe\">\n",
       "  <thead>\n",
       "    <tr style=\"text-align: right;\">\n",
       "      <th></th>\n",
       "      <th>Nombre</th>\n",
       "      <th>Edad</th>\n",
       "      <th>Ciudad</th>\n",
       "      <th>Salario</th>\n",
       "    </tr>\n",
       "  </thead>\n",
       "  <tbody>\n",
       "    <tr>\n",
       "      <th>2</th>\n",
       "      <td>Alberto</td>\n",
       "      <td>32</td>\n",
       "      <td>Córdoba</td>\n",
       "      <td>1020000</td>\n",
       "    </tr>\n",
       "    <tr>\n",
       "      <th>3</th>\n",
       "      <td>Pedro</td>\n",
       "      <td>36</td>\n",
       "      <td>Posadas</td>\n",
       "      <td>220000</td>\n",
       "    </tr>\n",
       "  </tbody>\n",
       "</table>\n",
       "</div>"
      ],
      "text/plain": [
       "    Nombre  Edad   Ciudad  Salario\n",
       "2  Alberto    32  Córdoba  1020000\n",
       "3    Pedro    36  Posadas   220000"
      ]
     },
     "execution_count": 23,
     "metadata": {},
     "output_type": "execute_result"
    }
   ],
   "source": [
    "#Filtración de edad, igual result que el de arriba pero hecho de otra forma\n",
    "edades = df['Edad']#Guardamos la serie en una variable\n",
    "condicion = df[edades > 25]#Es lo mismo que el anterior unicamnete que quizá mas simple, ya que solo nos metemos al df y metemos la variable edades(la cual dentro de ella está la serie edad) y le aplicamos el condicional > 25  \n",
    "condicion#Impresión del df filtrado "
   ]
  },
  {
   "cell_type": "code",
   "execution_count": 25,
   "id": "38ea238e-c30d-4431-8402-4fe119e0b19a",
   "metadata": {},
   "outputs": [
    {
     "data": {
      "text/plain": [
       "pandas.core.series.Series"
      ]
     },
     "execution_count": 25,
     "metadata": {},
     "output_type": "execute_result"
    }
   ],
   "source": [
    "type(edades)"
   ]
  },
  {
   "cell_type": "code",
   "execution_count": 27,
   "id": "e016a402-d137-4824-a6a3-91d206cb6ca4",
   "metadata": {},
   "outputs": [
    {
     "data": {
      "text/plain": [
       "pandas.core.frame.DataFrame"
      ]
     },
     "execution_count": 27,
     "metadata": {},
     "output_type": "execute_result"
    }
   ],
   "source": [
    "type(condicion)"
   ]
  }
 ],
 "metadata": {
  "kernelspec": {
   "display_name": "Python 3 (ipykernel)",
   "language": "python",
   "name": "python3"
  },
  "language_info": {
   "codemirror_mode": {
    "name": "ipython",
    "version": 3
   },
   "file_extension": ".py",
   "mimetype": "text/x-python",
   "name": "python",
   "nbconvert_exporter": "python",
   "pygments_lexer": "ipython3",
   "version": "3.11.0"
  }
 },
 "nbformat": 4,
 "nbformat_minor": 5
}
