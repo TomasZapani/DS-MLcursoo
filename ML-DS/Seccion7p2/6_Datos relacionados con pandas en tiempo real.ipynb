{
 "cells": [
  {
   "cell_type": "code",
   "execution_count": 3,
   "id": "20ed1e23-61e3-46eb-836d-b66e344a390f",
   "metadata": {
    "editable": true,
    "slideshow": {
     "slide_type": ""
    },
    "tags": []
   },
   "outputs": [],
   "source": [
    "import pandas as pd"
   ]
  },
  {
   "cell_type": "markdown",
   "id": "457d4ac3-9da8-4ece-b261-ef8322b0b140",
   "metadata": {},
   "source": [
    "Creamos nuestros DFs de forma manual"
   ]
  },
  {
   "cell_type": "code",
   "execution_count": 13,
   "id": "90596824-cbf6-4555-9bd1-5c0c7fb9df59",
   "metadata": {},
   "outputs": [
    {
     "data": {
      "text/plain": [
       "0   2024-01-01\n",
       "1   2024-01-02\n",
       "2   2024-01-03\n",
       "3   2024-01-04\n",
       "4   2024-01-05\n",
       "5   2024-01-06\n",
       "dtype: datetime64[ns]"
      ]
     },
     "execution_count": 13,
     "metadata": {},
     "output_type": "execute_result"
    }
   ],
   "source": [
    "#Creacion de forma manual de una serie que representa fecha(2024/01/01) con 6 períodos, es decir que vaya desde el día 1 hasta el 6, todo esto gracias al método de panda date_range() que es igual al rango de fecha\n",
    "fechas = pd.Series(pd.date_range('20240101',periods=6))\n",
    "fechas"
   ]
  },
  {
   "cell_type": "code",
   "execution_count": 5,
   "id": "b2b02e5e-b52c-4308-b822-eb4edca73410",
   "metadata": {},
   "outputs": [
    {
     "data": {
      "text/plain": [
       "pandas._libs.tslibs.timestamps.Timestamp"
      ]
     },
     "execution_count": 5,
     "metadata": {},
     "output_type": "execute_result"
    }
   ],
   "source": [
    "type(fechas[0])#Qué tipo de dato es el 1er elemento de fechas:0   2024-01-01??Es un tipo de dato Timestamp el 1er elemento de las 6 series"
   ]
  },
  {
   "cell_type": "code",
   "execution_count": 14,
   "id": "1ac05b95-a78b-4f18-b05e-452c26780393",
   "metadata": {},
   "outputs": [
    {
     "data": {
      "text/plain": [
       "0   2024-01-01\n",
       "1   2024-01-02\n",
       "2   2024-01-03\n",
       "3   2024-01-04\n",
       "4   2024-01-05\n",
       "5   2024-01-06\n",
       "dtype: datetime64[ns]"
      ]
     },
     "execution_count": 14,
     "metadata": {},
     "output_type": "execute_result"
    }
   ],
   "source": [
    "#Creamos una serie con la fecha 2024/01/01, con 6 períodos y que tenga un frecuencia de días('D'), dará lo mismo que el anterior periods es igual a a la frecuencia de Días\n",
    "fechas = pd.Series(pd.date_range('20240101',periods=6,freq='D'))\n",
    "fechas"
   ]
  },
  {
   "cell_type": "code",
   "execution_count": 15,
   "id": "588e8637-b4d0-4849-b9bb-6b46a1cd663e",
   "metadata": {},
   "outputs": [
    {
     "name": "stderr",
     "output_type": "stream",
     "text": [
      "C:\\Users\\Usuario\\AppData\\Local\\Temp\\ipykernel_512\\1571294620.py:2: FutureWarning: 'M' is deprecated and will be removed in a future version, please use 'ME' instead.\n",
      "  fechas = pd.Series(pd.date_range('20240101',periods=6,freq='M'))\n"
     ]
    },
    {
     "ename": "NameError",
     "evalue": "name 'fechasa' is not defined",
     "output_type": "error",
     "traceback": [
      "\u001b[1;31m---------------------------------------------------------------------------\u001b[0m",
      "\u001b[1;31mNameError\u001b[0m                                 Traceback (most recent call last)",
      "Cell \u001b[1;32mIn[15], line 3\u001b[0m\n\u001b[0;32m      1\u001b[0m \u001b[38;5;66;03m#Creamos una serie manual de fecha tb igual a las anteriores, períodos de 6 y una frecuancia de M osea de mes,por ende nos dará desde el mes 1 hasta el 6 con sus días finales de cada mes\u001b[39;00m\n\u001b[0;32m      2\u001b[0m fechas \u001b[38;5;241m=\u001b[39m pd\u001b[38;5;241m.\u001b[39mSeries(pd\u001b[38;5;241m.\u001b[39mdate_range(\u001b[38;5;124m'\u001b[39m\u001b[38;5;124m20240101\u001b[39m\u001b[38;5;124m'\u001b[39m,periods\u001b[38;5;241m=\u001b[39m\u001b[38;5;241m6\u001b[39m,freq\u001b[38;5;241m=\u001b[39m\u001b[38;5;124m'\u001b[39m\u001b[38;5;124mM\u001b[39m\u001b[38;5;124m'\u001b[39m))\n\u001b[1;32m----> 3\u001b[0m \u001b[43mfechasa\u001b[49m\n",
      "\u001b[1;31mNameError\u001b[0m: name 'fechasa' is not defined"
     ]
    }
   ],
   "source": [
    "#Creamos una serie manual de fecha tb igual a las anteriores, períodos de 6 y una frecuancia de M osea de mes,por ende nos dará desde el mes 1 hasta el 6 con sus días finales de cada mes\n",
    "fechas = pd.Series(pd.date_range('20240101',periods=6,freq='M'))\n",
    "fechasa"
   ]
  },
  {
   "cell_type": "code",
   "execution_count": null,
   "id": "b4c5b984-5e8a-4a16-819a-949d6ab8e6b4",
   "metadata": {
    "editable": true,
    "slideshow": {
     "slide_type": ""
    },
    "tags": []
   },
   "outputs": [],
   "source": [
    "#Acá hacemos lo mismo pero con Year-año y nos dará desde el 2024 hasta el 2029, con sus dias finales y meses finales\n",
    "fechas = pd.Series(pd.date_range('20240101',periods=6,freq='Y'))\n",
    "fechas"
   ]
  },
  {
   "cell_type": "code",
   "execution_count": null,
   "id": "c864c3eb-60e7-4ea5-bb79-f99d3fe4d162",
   "metadata": {},
   "outputs": [],
   "source": [
    "#Aca es pero con hs, nos dará la hr desde las 00:00:00 hasta las 05:00:00 del del día que pusimo como parámetro 01\n",
    "fechas = pd.Series(pd.date_range('20240101',periods=6,freq='H'))\n",
    "fechas"
   ]
  },
  {
   "cell_type": "code",
   "execution_count": null,
   "id": "ffc27dc4-2fb4-4aea-ba08-0ee6b23357da",
   "metadata": {},
   "outputs": [],
   "source": [
    "#Similare a hs pero con minutos, pq nos da desde 00:00:00 hasta 00:05:00 del mismo día 01 que pusimos\n",
    "fechas = pd.Series(pd.date_range('20240101',periods=6,freq='MIN'))\n",
    "fechas"
   ]
  },
  {
   "cell_type": "code",
   "execution_count": null,
   "id": "fe5d47dd-32ae-40e2-8e88-be226415410a",
   "metadata": {},
   "outputs": [],
   "source": [
    "#Acá le metimos el día perído y una frec de 5 dias, esto nos dará el año, mes y con un intervalo de cada 5 días, es decir 01,11,16,21... va saltando cada 5 días\n",
    "fechas = pd.Series(pd.date_range('20240101',periods=6,freq='5D'))\n",
    "fechas"
   ]
  },
  {
   "cell_type": "markdown",
   "id": "93ba437e-c529-4d02-a7ed-0383c8038835",
   "metadata": {},
   "source": [
    "Cambiar los tipos de datos que tiene una serie a otro, como el que haremos ahora:str -> datetime"
   ]
  },
  {
   "cell_type": "code",
   "execution_count": 16,
   "id": "a03279b1-576e-41e6-81bd-ff96f35e9afe",
   "metadata": {},
   "outputs": [
    {
     "data": {
      "text/html": [
       "<div>\n",
       "<style scoped>\n",
       "    .dataframe tbody tr th:only-of-type {\n",
       "        vertical-align: middle;\n",
       "    }\n",
       "\n",
       "    .dataframe tbody tr th {\n",
       "        vertical-align: top;\n",
       "    }\n",
       "\n",
       "    .dataframe thead th {\n",
       "        text-align: right;\n",
       "    }\n",
       "</style>\n",
       "<table border=\"1\" class=\"dataframe\">\n",
       "  <thead>\n",
       "    <tr style=\"text-align: right;\">\n",
       "      <th></th>\n",
       "      <th>Ticker</th>\n",
       "      <th>Fecha</th>\n",
       "      <th>Cierre</th>\n",
       "      <th>Referencia</th>\n",
       "      <th>Volumen</th>\n",
       "      <th>Rotacion</th>\n",
       "      <th>Ultimo</th>\n",
       "      <th>Alto</th>\n",
       "      <th>Bajo</th>\n",
       "      <th>Promedio</th>\n",
       "    </tr>\n",
       "  </thead>\n",
       "  <tbody>\n",
       "    <tr>\n",
       "      <th>0</th>\n",
       "      <td>ANA</td>\n",
       "      <td>02/01/2019</td>\n",
       "      <td>74.80</td>\n",
       "      <td>73.90</td>\n",
       "      <td>156300</td>\n",
       "      <td>11621188.98</td>\n",
       "      <td>74.80</td>\n",
       "      <td>75.16</td>\n",
       "      <td>72.38</td>\n",
       "      <td>74.3518</td>\n",
       "    </tr>\n",
       "    <tr>\n",
       "      <th>1</th>\n",
       "      <td>ANA</td>\n",
       "      <td>03/01/2019</td>\n",
       "      <td>76.34</td>\n",
       "      <td>74.80</td>\n",
       "      <td>140331</td>\n",
       "      <td>10632703.64</td>\n",
       "      <td>76.34</td>\n",
       "      <td>76.60</td>\n",
       "      <td>74.54</td>\n",
       "      <td>75.7687</td>\n",
       "    </tr>\n",
       "    <tr>\n",
       "      <th>2</th>\n",
       "      <td>ANA</td>\n",
       "      <td>04/01/2019</td>\n",
       "      <td>76.62</td>\n",
       "      <td>76.34</td>\n",
       "      <td>130309</td>\n",
       "      <td>10010838.76</td>\n",
       "      <td>76.62</td>\n",
       "      <td>77.40</td>\n",
       "      <td>76.40</td>\n",
       "      <td>76.8162</td>\n",
       "    </tr>\n",
       "    <tr>\n",
       "      <th>3</th>\n",
       "      <td>ANA</td>\n",
       "      <td>07/01/2019</td>\n",
       "      <td>77.14</td>\n",
       "      <td>76.62</td>\n",
       "      <td>63349</td>\n",
       "      <td>4855724.92</td>\n",
       "      <td>77.14</td>\n",
       "      <td>77.30</td>\n",
       "      <td>75.62</td>\n",
       "      <td>76.6504</td>\n",
       "    </tr>\n",
       "    <tr>\n",
       "      <th>4</th>\n",
       "      <td>ANA</td>\n",
       "      <td>08/01/2019</td>\n",
       "      <td>78.24</td>\n",
       "      <td>77.14</td>\n",
       "      <td>99300</td>\n",
       "      <td>7749464.70</td>\n",
       "      <td>78.24</td>\n",
       "      <td>78.46</td>\n",
       "      <td>77.00</td>\n",
       "      <td>78.0409</td>\n",
       "    </tr>\n",
       "    <tr>\n",
       "      <th>...</th>\n",
       "      <td>...</td>\n",
       "      <td>...</td>\n",
       "      <td>...</td>\n",
       "      <td>...</td>\n",
       "      <td>...</td>\n",
       "      <td>...</td>\n",
       "      <td>...</td>\n",
       "      <td>...</td>\n",
       "      <td>...</td>\n",
       "      <td>...</td>\n",
       "    </tr>\n",
       "    <tr>\n",
       "      <th>8570</th>\n",
       "      <td>VIS</td>\n",
       "      <td>09/12/2019</td>\n",
       "      <td>48.70</td>\n",
       "      <td>48.76</td>\n",
       "      <td>40236</td>\n",
       "      <td>1958325.66</td>\n",
       "      <td>48.70</td>\n",
       "      <td>48.96</td>\n",
       "      <td>48.44</td>\n",
       "      <td>48.6710</td>\n",
       "    </tr>\n",
       "    <tr>\n",
       "      <th>8571</th>\n",
       "      <td>VIS</td>\n",
       "      <td>10/12/2019</td>\n",
       "      <td>48.16</td>\n",
       "      <td>48.70</td>\n",
       "      <td>60198</td>\n",
       "      <td>2895965.78</td>\n",
       "      <td>48.16</td>\n",
       "      <td>48.74</td>\n",
       "      <td>47.70</td>\n",
       "      <td>48.1201</td>\n",
       "    </tr>\n",
       "    <tr>\n",
       "      <th>8572</th>\n",
       "      <td>VIS</td>\n",
       "      <td>11/12/2019</td>\n",
       "      <td>47.96</td>\n",
       "      <td>48.16</td>\n",
       "      <td>63000</td>\n",
       "      <td>3012462.12</td>\n",
       "      <td>47.96</td>\n",
       "      <td>48.42</td>\n",
       "      <td>47.52</td>\n",
       "      <td>47.8169</td>\n",
       "    </tr>\n",
       "    <tr>\n",
       "      <th>8573</th>\n",
       "      <td>VIS</td>\n",
       "      <td>12/12/2019</td>\n",
       "      <td>48.42</td>\n",
       "      <td>47.96</td>\n",
       "      <td>50218</td>\n",
       "      <td>2429199.80</td>\n",
       "      <td>48.42</td>\n",
       "      <td>48.66</td>\n",
       "      <td>47.76</td>\n",
       "      <td>48.3731</td>\n",
       "    </tr>\n",
       "    <tr>\n",
       "      <th>8574</th>\n",
       "      <td>VIS</td>\n",
       "      <td>13/12/2019</td>\n",
       "      <td>48.64</td>\n",
       "      <td>48.42</td>\n",
       "      <td>62427</td>\n",
       "      <td>3038685.10</td>\n",
       "      <td>48.64</td>\n",
       "      <td>49.18</td>\n",
       "      <td>48.12</td>\n",
       "      <td>48.6758</td>\n",
       "    </tr>\n",
       "  </tbody>\n",
       "</table>\n",
       "<p>8575 rows × 10 columns</p>\n",
       "</div>"
      ],
      "text/plain": [
       "     Ticker       Fecha  Cierre  Referencia  Volumen     Rotacion  Ultimo  \\\n",
       "0       ANA  02/01/2019   74.80       73.90   156300  11621188.98   74.80   \n",
       "1       ANA  03/01/2019   76.34       74.80   140331  10632703.64   76.34   \n",
       "2       ANA  04/01/2019   76.62       76.34   130309  10010838.76   76.62   \n",
       "3       ANA  07/01/2019   77.14       76.62    63349   4855724.92   77.14   \n",
       "4       ANA  08/01/2019   78.24       77.14    99300   7749464.70   78.24   \n",
       "...     ...         ...     ...         ...      ...          ...     ...   \n",
       "8570    VIS  09/12/2019   48.70       48.76    40236   1958325.66   48.70   \n",
       "8571    VIS  10/12/2019   48.16       48.70    60198   2895965.78   48.16   \n",
       "8572    VIS  11/12/2019   47.96       48.16    63000   3012462.12   47.96   \n",
       "8573    VIS  12/12/2019   48.42       47.96    50218   2429199.80   48.42   \n",
       "8574    VIS  13/12/2019   48.64       48.42    62427   3038685.10   48.64   \n",
       "\n",
       "       Alto   Bajo  Promedio  \n",
       "0     75.16  72.38   74.3518  \n",
       "1     76.60  74.54   75.7687  \n",
       "2     77.40  76.40   76.8162  \n",
       "3     77.30  75.62   76.6504  \n",
       "4     78.46  77.00   78.0409  \n",
       "...     ...    ...       ...  \n",
       "8570  48.96  48.44   48.6710  \n",
       "8571  48.74  47.70   48.1201  \n",
       "8572  48.42  47.52   47.8169  \n",
       "8573  48.66  47.76   48.3731  \n",
       "8574  49.18  48.12   48.6758  \n",
       "\n",
       "[8575 rows x 10 columns]"
      ]
     },
     "execution_count": 16,
     "metadata": {},
     "output_type": "execute_result"
    }
   ],
   "source": [
    "df = pd.read_csv('Mercado+de+Valores+España.csv')\n",
    "df"
   ]
  },
  {
   "cell_type": "code",
   "execution_count": 17,
   "id": "b517d68f-dcb5-40bf-91b1-0910c096f32c",
   "metadata": {},
   "outputs": [
    {
     "data": {
      "text/plain": [
       "'02/01/2019'"
      ]
     },
     "execution_count": 17,
     "metadata": {},
     "output_type": "execute_result"
    }
   ],
   "source": [
    "df['Fecha'][0]#Con esta porcion de code colocando el DF su serie y algun elemento de esa serie.... veremos el elemento ese(en este caso 0) y que tipo de dato es"
   ]
  },
  {
   "cell_type": "code",
   "execution_count": 18,
   "id": "81120cb3-1a43-4632-bdac-411c491a0c4f",
   "metadata": {},
   "outputs": [
    {
     "data": {
      "text/plain": [
       "str"
      ]
     },
     "execution_count": 18,
     "metadata": {},
     "output_type": "execute_result"
    }
   ],
   "source": [
    "type(df['Fecha'][0])#Obtencion del tipo de dato que es el primero elemento de la serie Fecha del DF df"
   ]
  },
  {
   "cell_type": "code",
   "execution_count": 19,
   "id": "e2fbc1bc-6218-47c3-ad87-598fd44f849c",
   "metadata": {},
   "outputs": [],
   "source": [
    "#Convertir str a datetime los datos de la serie-columna Fecha"
   ]
  },
  {
   "cell_type": "code",
   "execution_count": 20,
   "id": "fd808d1a-ba5b-4cc7-bea1-8aa6693d379a",
   "metadata": {},
   "outputs": [
    {
     "data": {
      "text/html": [
       "<div>\n",
       "<style scoped>\n",
       "    .dataframe tbody tr th:only-of-type {\n",
       "        vertical-align: middle;\n",
       "    }\n",
       "\n",
       "    .dataframe tbody tr th {\n",
       "        vertical-align: top;\n",
       "    }\n",
       "\n",
       "    .dataframe thead th {\n",
       "        text-align: right;\n",
       "    }\n",
       "</style>\n",
       "<table border=\"1\" class=\"dataframe\">\n",
       "  <thead>\n",
       "    <tr style=\"text-align: right;\">\n",
       "      <th></th>\n",
       "      <th>Ticker</th>\n",
       "      <th>Fecha</th>\n",
       "      <th>Cierre</th>\n",
       "      <th>Referencia</th>\n",
       "      <th>Volumen</th>\n",
       "      <th>Rotacion</th>\n",
       "      <th>Ultimo</th>\n",
       "      <th>Alto</th>\n",
       "      <th>Bajo</th>\n",
       "      <th>Promedio</th>\n",
       "    </tr>\n",
       "  </thead>\n",
       "  <tbody>\n",
       "    <tr>\n",
       "      <th>0</th>\n",
       "      <td>ANA</td>\n",
       "      <td>2019-01-02</td>\n",
       "      <td>74.80</td>\n",
       "      <td>73.90</td>\n",
       "      <td>156300</td>\n",
       "      <td>11621188.98</td>\n",
       "      <td>74.80</td>\n",
       "      <td>75.16</td>\n",
       "      <td>72.38</td>\n",
       "      <td>74.3518</td>\n",
       "    </tr>\n",
       "    <tr>\n",
       "      <th>1</th>\n",
       "      <td>ANA</td>\n",
       "      <td>2019-01-03</td>\n",
       "      <td>76.34</td>\n",
       "      <td>74.80</td>\n",
       "      <td>140331</td>\n",
       "      <td>10632703.64</td>\n",
       "      <td>76.34</td>\n",
       "      <td>76.60</td>\n",
       "      <td>74.54</td>\n",
       "      <td>75.7687</td>\n",
       "    </tr>\n",
       "    <tr>\n",
       "      <th>2</th>\n",
       "      <td>ANA</td>\n",
       "      <td>2019-01-04</td>\n",
       "      <td>76.62</td>\n",
       "      <td>76.34</td>\n",
       "      <td>130309</td>\n",
       "      <td>10010838.76</td>\n",
       "      <td>76.62</td>\n",
       "      <td>77.40</td>\n",
       "      <td>76.40</td>\n",
       "      <td>76.8162</td>\n",
       "    </tr>\n",
       "    <tr>\n",
       "      <th>3</th>\n",
       "      <td>ANA</td>\n",
       "      <td>2019-01-07</td>\n",
       "      <td>77.14</td>\n",
       "      <td>76.62</td>\n",
       "      <td>63349</td>\n",
       "      <td>4855724.92</td>\n",
       "      <td>77.14</td>\n",
       "      <td>77.30</td>\n",
       "      <td>75.62</td>\n",
       "      <td>76.6504</td>\n",
       "    </tr>\n",
       "    <tr>\n",
       "      <th>4</th>\n",
       "      <td>ANA</td>\n",
       "      <td>2019-01-08</td>\n",
       "      <td>78.24</td>\n",
       "      <td>77.14</td>\n",
       "      <td>99300</td>\n",
       "      <td>7749464.70</td>\n",
       "      <td>78.24</td>\n",
       "      <td>78.46</td>\n",
       "      <td>77.00</td>\n",
       "      <td>78.0409</td>\n",
       "    </tr>\n",
       "    <tr>\n",
       "      <th>...</th>\n",
       "      <td>...</td>\n",
       "      <td>...</td>\n",
       "      <td>...</td>\n",
       "      <td>...</td>\n",
       "      <td>...</td>\n",
       "      <td>...</td>\n",
       "      <td>...</td>\n",
       "      <td>...</td>\n",
       "      <td>...</td>\n",
       "      <td>...</td>\n",
       "    </tr>\n",
       "    <tr>\n",
       "      <th>8570</th>\n",
       "      <td>VIS</td>\n",
       "      <td>2019-12-09</td>\n",
       "      <td>48.70</td>\n",
       "      <td>48.76</td>\n",
       "      <td>40236</td>\n",
       "      <td>1958325.66</td>\n",
       "      <td>48.70</td>\n",
       "      <td>48.96</td>\n",
       "      <td>48.44</td>\n",
       "      <td>48.6710</td>\n",
       "    </tr>\n",
       "    <tr>\n",
       "      <th>8571</th>\n",
       "      <td>VIS</td>\n",
       "      <td>2019-12-10</td>\n",
       "      <td>48.16</td>\n",
       "      <td>48.70</td>\n",
       "      <td>60198</td>\n",
       "      <td>2895965.78</td>\n",
       "      <td>48.16</td>\n",
       "      <td>48.74</td>\n",
       "      <td>47.70</td>\n",
       "      <td>48.1201</td>\n",
       "    </tr>\n",
       "    <tr>\n",
       "      <th>8572</th>\n",
       "      <td>VIS</td>\n",
       "      <td>2019-12-11</td>\n",
       "      <td>47.96</td>\n",
       "      <td>48.16</td>\n",
       "      <td>63000</td>\n",
       "      <td>3012462.12</td>\n",
       "      <td>47.96</td>\n",
       "      <td>48.42</td>\n",
       "      <td>47.52</td>\n",
       "      <td>47.8169</td>\n",
       "    </tr>\n",
       "    <tr>\n",
       "      <th>8573</th>\n",
       "      <td>VIS</td>\n",
       "      <td>2019-12-12</td>\n",
       "      <td>48.42</td>\n",
       "      <td>47.96</td>\n",
       "      <td>50218</td>\n",
       "      <td>2429199.80</td>\n",
       "      <td>48.42</td>\n",
       "      <td>48.66</td>\n",
       "      <td>47.76</td>\n",
       "      <td>48.3731</td>\n",
       "    </tr>\n",
       "    <tr>\n",
       "      <th>8574</th>\n",
       "      <td>VIS</td>\n",
       "      <td>2019-12-13</td>\n",
       "      <td>48.64</td>\n",
       "      <td>48.42</td>\n",
       "      <td>62427</td>\n",
       "      <td>3038685.10</td>\n",
       "      <td>48.64</td>\n",
       "      <td>49.18</td>\n",
       "      <td>48.12</td>\n",
       "      <td>48.6758</td>\n",
       "    </tr>\n",
       "  </tbody>\n",
       "</table>\n",
       "<p>8575 rows × 10 columns</p>\n",
       "</div>"
      ],
      "text/plain": [
       "     Ticker      Fecha  Cierre  Referencia  Volumen     Rotacion  Ultimo  \\\n",
       "0       ANA 2019-01-02   74.80       73.90   156300  11621188.98   74.80   \n",
       "1       ANA 2019-01-03   76.34       74.80   140331  10632703.64   76.34   \n",
       "2       ANA 2019-01-04   76.62       76.34   130309  10010838.76   76.62   \n",
       "3       ANA 2019-01-07   77.14       76.62    63349   4855724.92   77.14   \n",
       "4       ANA 2019-01-08   78.24       77.14    99300   7749464.70   78.24   \n",
       "...     ...        ...     ...         ...      ...          ...     ...   \n",
       "8570    VIS 2019-12-09   48.70       48.76    40236   1958325.66   48.70   \n",
       "8571    VIS 2019-12-10   48.16       48.70    60198   2895965.78   48.16   \n",
       "8572    VIS 2019-12-11   47.96       48.16    63000   3012462.12   47.96   \n",
       "8573    VIS 2019-12-12   48.42       47.96    50218   2429199.80   48.42   \n",
       "8574    VIS 2019-12-13   48.64       48.42    62427   3038685.10   48.64   \n",
       "\n",
       "       Alto   Bajo  Promedio  \n",
       "0     75.16  72.38   74.3518  \n",
       "1     76.60  74.54   75.7687  \n",
       "2     77.40  76.40   76.8162  \n",
       "3     77.30  75.62   76.6504  \n",
       "4     78.46  77.00   78.0409  \n",
       "...     ...    ...       ...  \n",
       "8570  48.96  48.44   48.6710  \n",
       "8571  48.74  47.70   48.1201  \n",
       "8572  48.42  47.52   47.8169  \n",
       "8573  48.66  47.76   48.3731  \n",
       "8574  49.18  48.12   48.6758  \n",
       "\n",
       "[8575 rows x 10 columns]"
      ]
     },
     "execution_count": 20,
     "metadata": {},
     "output_type": "execute_result"
    }
   ],
   "source": [
    "df['Fecha'] = pd.to_datetime(df['Fecha'],format = '%d/%m/%Y')#Convertimos los tipos de datos de la serie original Fecha que están en str a datetime en un formato de dia/mes/año \n",
    "df"
   ]
  },
  {
   "cell_type": "code",
   "execution_count": 22,
   "id": "f9f67fc5-244b-4ff6-8ee9-0bdaff15786c",
   "metadata": {},
   "outputs": [
    {
     "data": {
      "text/plain": [
       "pandas._libs.tslibs.timestamps.Timestamp"
      ]
     },
     "execution_count": 22,
     "metadata": {},
     "output_type": "execute_result"
    }
   ],
   "source": [
    "df['Fecha'][0]#Vamos a ver que el elemento 0 ya cambio de tipo de dato"
   ]
  },
  {
   "cell_type": "code",
   "execution_count": 12,
   "id": "68fb5727-4fd4-48a1-8ad2-a1c6d3eb9c68",
   "metadata": {},
   "outputs": [
    {
     "ename": "NameError",
     "evalue": "name 'df' is not defined",
     "output_type": "error",
     "traceback": [
      "\u001b[1;31m---------------------------------------------------------------------------\u001b[0m",
      "\u001b[1;31mNameError\u001b[0m                                 Traceback (most recent call last)",
      "Cell \u001b[1;32mIn[12], line 1\u001b[0m\n\u001b[1;32m----> 1\u001b[0m \u001b[38;5;28mtype\u001b[39m(\u001b[43mdf\u001b[49m[\u001b[38;5;124m'\u001b[39m\u001b[38;5;124mFecha\u001b[39m\u001b[38;5;124m'\u001b[39m][\u001b[38;5;241m0\u001b[39m])\u001b[38;5;66;03m#Vamos a ver que tipo de dato tienen los datos de la serie-columna Fecha\u001b[39;00m\n",
      "\u001b[1;31mNameError\u001b[0m: name 'df' is not defined"
     ]
    }
   ],
   "source": [
    "type(df['Fecha'][0])#Vamos a ver que tipo de dato tienen los datos de la serie-columna Fecha"
   ]
  },
  {
   "cell_type": "markdown",
   "id": "430d831f-2a36-4187-aeb6-bb390a48f9e9",
   "metadata": {},
   "source": [
    "Ahora veremos como extraer info mas específicas de estos tipos de datos..."
   ]
  },
  {
   "cell_type": "code",
   "execution_count": 48,
   "id": "8fd29e66-1cc7-4be8-a155-d6c9e5119100",
   "metadata": {},
   "outputs": [
    {
     "data": {
      "text/plain": [
       "Timestamp('2019-03-05 00:00:00')"
      ]
     },
     "execution_count": 48,
     "metadata": {},
     "output_type": "execute_result"
    }
   ],
   "source": [
    "df['Fecha'][44]#Obtencion gnral de la info del elemento-dato 44"
   ]
  },
  {
   "cell_type": "code",
   "execution_count": 49,
   "id": "51d2035e-acf9-4e9c-a9e6-566c20a3c0b8",
   "metadata": {},
   "outputs": [
    {
     "data": {
      "text/plain": [
       "2019"
      ]
     },
     "execution_count": 49,
     "metadata": {},
     "output_type": "execute_result"
    }
   ],
   "source": [
    "df['Fecha'][44].year#Obtención específica del elemento-dato 44, en este caso obtenemos el año gracias al atrib .year"
   ]
  },
  {
   "cell_type": "code",
   "execution_count": 51,
   "id": "340edccf-cd21-4fae-8fd6-4b28a5218e8a",
   "metadata": {},
   "outputs": [
    {
     "data": {
      "text/plain": [
       "3"
      ]
     },
     "execution_count": 51,
     "metadata": {},
     "output_type": "execute_result"
    }
   ],
   "source": [
    "df['Fecha'][44].month#Lo mismo que arriba pero con acá obtenemos el mes gracias al atrib .month"
   ]
  },
  {
   "cell_type": "markdown",
   "id": "87567bf9-a13f-403b-9f0c-3dbc4859f9a9",
   "metadata": {},
   "source": [
    "Y asi ↑ como está arriba lo podemos hacer con las horas,minutos,segundos,etc etc, es cuestion de revisar esos atrib que nos ayudará a obtener ese dato específico"
   ]
  },
  {
   "cell_type": "markdown",
   "id": "52afde15-3378-4a11-aead-305e33512ac3",
   "metadata": {},
   "source": [
    "Manip las fechas de nuestro DF, restando,sumando,etc a las fechas del df días,mín, hs o segundos...:"
   ]
  },
  {
   "cell_type": "code",
   "execution_count": 58,
   "id": "ff0bafee-8eee-411e-a6fd-ea5f702b2d0c",
   "metadata": {},
   "outputs": [
    {
     "data": {
      "text/plain": [
       "0   2019-01-07\n",
       "1   2019-01-08\n",
       "2   2019-01-09\n",
       "Name: Fecha, dtype: datetime64[ns]"
      ]
     },
     "execution_count": 58,
     "metadata": {},
     "output_type": "execute_result"
    }
   ],
   "source": [
    "df_mas_5_dias = df['Fecha'] + pd.Timedelta(days = 5)#Acá lo que estamos haciendo es a los días que hay en el df le sumamos 5 días mas(por eso está el +), ej: el primer dia arranca asi:2019-01-02 por ende mas +5 daria 2019-01-07 por 2+5=7 y esto gracias a la fn-metodo Timedelta() la cual permite trab con unidades como dias, y le pasamos como parámetro days y le pasamos el valor de 5 para sumarle eso \n",
    "df_mas_5_dias.head(3)#Acá vamos a ver la suma de aplicada a los días, los 1eros 3 resgistros"
   ]
  }
 ],
 "metadata": {
  "kernelspec": {
   "display_name": "Python 3 (ipykernel)",
   "language": "python",
   "name": "python3"
  },
  "language_info": {
   "codemirror_mode": {
    "name": "ipython",
    "version": 3
   },
   "file_extension": ".py",
   "mimetype": "text/x-python",
   "name": "python",
   "nbconvert_exporter": "python",
   "pygments_lexer": "ipython3",
   "version": "3.11.0"
  }
 },
 "nbformat": 4,
 "nbformat_minor": 5
}
