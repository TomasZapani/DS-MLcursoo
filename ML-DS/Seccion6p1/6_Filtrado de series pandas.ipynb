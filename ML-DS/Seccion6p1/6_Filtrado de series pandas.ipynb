{
 "cells": [
  {
   "cell_type": "code",
   "execution_count": 19,
   "id": "1927e110-dce2-4a24-b8e3-a89f0d7084d0",
   "metadata": {},
   "outputs": [],
   "source": [
    "import pandas as pd"
   ]
  },
  {
   "cell_type": "code",
   "execution_count": 20,
   "id": "e2491d7f-9b0b-437a-845f-4a5a719987bd",
   "metadata": {},
   "outputs": [
    {
     "data": {
      "text/plain": [
       "0     5\n",
       "1    10\n",
       "2    15\n",
       "3    20\n",
       "4    25\n",
       "dtype: int64"
      ]
     },
     "execution_count": 20,
     "metadata": {},
     "output_type": "execute_result"
    }
   ],
   "source": [
    "#Armado de la columna-serie\n",
    "serie = pd.Series([5,10,15,20,25])\n",
    "serie"
   ]
  },
  {
   "cell_type": "code",
   "execution_count": 21,
   "id": "7bb39acc-36de-432d-8d70-c23fbc4ef08b",
   "metadata": {},
   "outputs": [
    {
     "data": {
      "text/plain": [
       "3    20\n",
       "4    25\n",
       "dtype: int64"
      ]
     },
     "execution_count": 21,
     "metadata": {},
     "output_type": "execute_result"
    }
   ],
   "source": [
    "#Filtrado de nros mayores a 15 de la serie:\n",
    "filtro = serie > 15#Acá creamos una serie booleano(pq dev true o false) para filtrar valores en la serie, en este caso se filtrarían los valores > a 15. Dentro de la variable filtro\n",
    "serie_filtrada = serie[filtro]#dentro de serie_filtrada ponemos serie[filtro], poner filtro dentro de los [] hace que se tomen los elemeentos de serie pero solo aquellos que sean mayores a 15, para dps filtrarlos en la serie\n",
    "serie_filtrada#Impresión de la serie con su filtracion"
   ]
  },
  {
   "cell_type": "code",
   "execution_count": 6,
   "id": "9bdc7c85-0a28-41e6-818e-51b5a1f27d74",
   "metadata": {},
   "outputs": [
    {
     "data": {
      "text/plain": [
       "0    False\n",
       "1    False\n",
       "2    False\n",
       "3     True\n",
       "4     True\n",
       "dtype: bool"
      ]
     },
     "execution_count": 6,
     "metadata": {},
     "output_type": "execute_result"
    }
   ],
   "source": [
    "filtro#Esto es lo que hay dentro de filtro.... la serie pero con valores booleanos, diciendo cuales son mayores a 15  y cuales no"
   ]
  },
  {
   "cell_type": "code",
   "execution_count": 40,
   "id": "af70d1af-d0b0-4d01-ad9b-d89959a7fc73",
   "metadata": {},
   "outputs": [
    {
     "data": {
      "text/plain": [
       "0     pepino\n",
       "1    manzana\n",
       "2      melon\n",
       "dtype: object"
      ]
     },
     "execution_count": 40,
     "metadata": {},
     "output_type": "execute_result"
    }
   ],
   "source": [
    "#Filtrado pero esta vez con strings\n",
    "serie2 = pd.Series(['pepino','manzana','melon'])\n",
    "serie2"
   ]
  },
  {
   "cell_type": "code",
   "execution_count": 16,
   "id": "d68c3001-638a-47a5-a1cd-34e413e33d64",
   "metadata": {},
   "outputs": [
    {
     "data": {
      "text/plain": [
       "pandas.core.series.Series"
      ]
     },
     "execution_count": 16,
     "metadata": {},
     "output_type": "execute_result"
    }
   ],
   "source": [
    "type(serie2)#Que tipo de dato es serie2"
   ]
  },
  {
   "cell_type": "code",
   "execution_count": 17,
   "id": "21439225-63bd-473e-bbbd-881509f45bba",
   "metadata": {},
   "outputs": [
    {
     "data": {
      "text/plain": [
       "str"
      ]
     },
     "execution_count": 17,
     "metadata": {},
     "output_type": "execute_result"
    }
   ],
   "source": [
    "type(serie2[1])#Que tipo de dato es el elemento 1 de serie2"
   ]
  },
  {
   "cell_type": "code",
   "execution_count": 39,
   "id": "59157df4-0169-411e-b762-b9f86b4d2efa",
   "metadata": {},
   "outputs": [
    {
     "data": {
      "text/plain": [
       "1    manzana\n",
       "2      melon\n",
       "dtype: object"
      ]
     },
     "execution_count": 39,
     "metadata": {},
     "output_type": "execute_result"
    }
   ],
   "source": [
    "#Code para ver que métodos cotntiene las series print(dir(serie2)) y vemos que no hay contains() o startswith() por ej, pero sí hay el atrib str el cúal ayuda a las listas a trab con métodos con los que sí trabaja los datos de tipo str\n",
    "\n",
    "#help(serie2.str), acá nos ayudará a ver con help que hace el atrib str en esta serie2\n",
    "\n",
    "#Inicio del filtrado de str\n",
    "filtro2 = serie2.str.contains('m')#en filtro2 guardamos la filtracion gracias al atrib str que permite a la serie trabajar con el método startswith\n",
    "serie_filtrada2 = serie2[filtro2]#Acá iniciamos la filtración de la serie pq estamos metiendo a filtro2 dentro de los []\n",
    "serie_filtrada2#Mostrar la serie filtrada"
   ]
  }
 ],
 "metadata": {
  "kernelspec": {
   "display_name": "Python 3 (ipykernel)",
   "language": "python",
   "name": "python3"
  },
  "language_info": {
   "codemirror_mode": {
    "name": "ipython",
    "version": 3
   },
   "file_extension": ".py",
   "mimetype": "text/x-python",
   "name": "python",
   "nbconvert_exporter": "python",
   "pygments_lexer": "ipython3",
   "version": "3.12.5"
  }
 },
 "nbformat": 4,
 "nbformat_minor": 5
}
