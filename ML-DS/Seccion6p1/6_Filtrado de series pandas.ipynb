{
 "cells": [
  {
   "cell_type": "code",
   "execution_count": 1,
   "id": "1927e110-dce2-4a24-b8e3-a89f0d7084d0",
   "metadata": {},
   "outputs": [],
   "source": [
    "import pandas as pd"
   ]
  },
  {
   "cell_type": "code",
   "execution_count": 2,
   "id": "e2491d7f-9b0b-437a-845f-4a5a719987bd",
   "metadata": {},
   "outputs": [
    {
     "data": {
      "text/plain": [
       "0     5\n",
       "1    10\n",
       "2    15\n",
       "3    20\n",
       "4    25\n",
       "dtype: int64"
      ]
     },
     "execution_count": 2,
     "metadata": {},
     "output_type": "execute_result"
    }
   ],
   "source": [
    "#Armado de la columna-serie\n",
    "serie = pd.Series([5,10,15,20,25])\n",
    "serie"
   ]
  },
  {
   "cell_type": "code",
   "execution_count": 5,
   "id": "7bb39acc-36de-432d-8d70-c23fbc4ef08b",
   "metadata": {},
   "outputs": [
    {
     "data": {
      "text/plain": [
       "3    20\n",
       "4    25\n",
       "dtype: int64"
      ]
     },
     "execution_count": 5,
     "metadata": {},
     "output_type": "execute_result"
    }
   ],
   "source": [
    "#Filtrado de nros mayores a 15 de la serie:\n",
    "filtro = serie > 15#Acá creamos una serie booleano(pq dev true o false) para filtrar valores en la serie, en este caso se filtrarían los valores > a 15. Dentro de la variable filtro\n",
    "serie_filtrada = serie[filtro]#dentro de serie_filtrada ponemos serie[filtro] poner filtro dentro de los [] hace que se tomen los elemeentos de serie pero solo aquellos que sean mayores a 15, para dps filtrarlos en la serie\n",
    "serie_filtrada#Impresión de la serie con su filtracion"
   ]
  },
  {
   "cell_type": "code",
   "execution_count": 6,
   "id": "9bdc7c85-0a28-41e6-818e-51b5a1f27d74",
   "metadata": {},
   "outputs": [
    {
     "data": {
      "text/plain": [
       "0    False\n",
       "1    False\n",
       "2    False\n",
       "3     True\n",
       "4     True\n",
       "dtype: bool"
      ]
     },
     "execution_count": 6,
     "metadata": {},
     "output_type": "execute_result"
    }
   ],
   "source": [
    "filtro#Esto es lo que hay dentro de filtro.... la serie pero con valores booleanos, diciendo cuales son mayores a 15  y cuales no"
   ]
  },
  {
   "cell_type": "code",
   "execution_count": 10,
   "id": "af70d1af-d0b0-4d01-ad9b-d89959a7fc73",
   "metadata": {},
   "outputs": [],
   "source": [
    "#Filtrado pero esta vez con strings\n",
    "serie2 = pd.Series(['Pepino','Manzana','Melon'])"
   ]
  },
  {
   "cell_type": "code",
   "execution_count": 11,
   "id": "d68c3001-638a-47a5-a1cd-34e413e33d64",
   "metadata": {},
   "outputs": [
    {
     "data": {
      "text/plain": [
       "pandas.core.series.Series"
      ]
     },
     "execution_count": 11,
     "metadata": {},
     "output_type": "execute_result"
    }
   ],
   "source": [
    "type(serie2)#Que tipo de dato es serie2"
   ]
  },
  {
   "cell_type": "code",
   "execution_count": 12,
   "id": "21439225-63bd-473e-bbbd-881509f45bba",
   "metadata": {},
   "outputs": [
    {
     "data": {
      "text/plain": [
       "str"
      ]
     },
     "execution_count": 12,
     "metadata": {},
     "output_type": "execute_result"
    }
   ],
   "source": [
    "type(serie2[1])#Que tipo de dato es el elemento 1 de serie2"
   ]
  },
  {
   "cell_type": "code",
   "execution_count": 13,
   "id": "59157df4-0169-411e-b762-b9f86b4d2efa",
   "metadata": {},
   "outputs": [
    {
     "ename": "AttributeError",
     "evalue": "'Series' object has no attribute 'startswith'",
     "output_type": "error",
     "traceback": [
      "\u001b[1;31m---------------------------------------------------------------------------\u001b[0m",
      "\u001b[1;31mAttributeError\u001b[0m                            Traceback (most recent call last)",
      "\u001b[1;32m~\\AppData\\Local\\Temp\\ipykernel_23568\\2051338293.py\u001b[0m in \u001b[0;36m?\u001b[1;34m()\u001b[0m\n\u001b[1;32m----> 1\u001b[1;33m \u001b[0mfiltro2\u001b[0m \u001b[1;33m=\u001b[0m \u001b[0mserie\u001b[0m\u001b[1;33m.\u001b[0m\u001b[0mstartswith\u001b[0m\u001b[1;33m(\u001b[0m\u001b[1;34m'M'\u001b[0m\u001b[1;33m)\u001b[0m\u001b[1;33m\u001b[0m\u001b[1;33m\u001b[0m\u001b[0m\n\u001b[0m\u001b[0;32m      2\u001b[0m \u001b[0mserie_filtrada2\u001b[0m \u001b[1;33m=\u001b[0m \u001b[0mserie2\u001b[0m\u001b[1;33m[\u001b[0m\u001b[0mfiltro2\u001b[0m\u001b[1;33m]\u001b[0m\u001b[1;33m\u001b[0m\u001b[1;33m\u001b[0m\u001b[0m\n\u001b[0;32m      3\u001b[0m \u001b[0mserie_filtrada2\u001b[0m\u001b[1;33m\u001b[0m\u001b[1;33m\u001b[0m\u001b[0m\n",
      "\u001b[1;32m~\\AppData\\Roaming\\Python\\Python312\\site-packages\\pandas\\core\\generic.py\u001b[0m in \u001b[0;36m?\u001b[1;34m(self, name)\u001b[0m\n\u001b[0;32m   6295\u001b[0m             \u001b[1;32mand\u001b[0m \u001b[0mname\u001b[0m \u001b[1;32mnot\u001b[0m \u001b[1;32min\u001b[0m \u001b[0mself\u001b[0m\u001b[1;33m.\u001b[0m\u001b[0m_accessors\u001b[0m\u001b[1;33m\u001b[0m\u001b[1;33m\u001b[0m\u001b[0m\n\u001b[0;32m   6296\u001b[0m             \u001b[1;32mand\u001b[0m \u001b[0mself\u001b[0m\u001b[1;33m.\u001b[0m\u001b[0m_info_axis\u001b[0m\u001b[1;33m.\u001b[0m\u001b[0m_can_hold_identifiers_and_holds_name\u001b[0m\u001b[1;33m(\u001b[0m\u001b[0mname\u001b[0m\u001b[1;33m)\u001b[0m\u001b[1;33m\u001b[0m\u001b[1;33m\u001b[0m\u001b[0m\n\u001b[0;32m   6297\u001b[0m         \u001b[1;33m)\u001b[0m\u001b[1;33m:\u001b[0m\u001b[1;33m\u001b[0m\u001b[1;33m\u001b[0m\u001b[0m\n\u001b[0;32m   6298\u001b[0m             \u001b[1;32mreturn\u001b[0m \u001b[0mself\u001b[0m\u001b[1;33m[\u001b[0m\u001b[0mname\u001b[0m\u001b[1;33m]\u001b[0m\u001b[1;33m\u001b[0m\u001b[1;33m\u001b[0m\u001b[0m\n\u001b[1;32m-> 6299\u001b[1;33m         \u001b[1;32mreturn\u001b[0m \u001b[0mobject\u001b[0m\u001b[1;33m.\u001b[0m\u001b[0m__getattribute__\u001b[0m\u001b[1;33m(\u001b[0m\u001b[0mself\u001b[0m\u001b[1;33m,\u001b[0m \u001b[0mname\u001b[0m\u001b[1;33m)\u001b[0m\u001b[1;33m\u001b[0m\u001b[1;33m\u001b[0m\u001b[0m\n\u001b[0m",
      "\u001b[1;31mAttributeError\u001b[0m: 'Series' object has no attribute 'startswith'"
     ]
    }
   ],
   "source": [
    "filtro2 = serie.startswith('M')\n",
    "serie_filtrada2 = serie2[filtro2]\n",
    "serie_filtrada2"
   ]
  }
 ],
 "metadata": {
  "kernelspec": {
   "display_name": "Python 3 (ipykernel)",
   "language": "python",
   "name": "python3"
  },
  "language_info": {
   "codemirror_mode": {
    "name": "ipython",
    "version": 3
   },
   "file_extension": ".py",
   "mimetype": "text/x-python",
   "name": "python",
   "nbconvert_exporter": "python",
   "pygments_lexer": "ipython3",
   "version": "3.12.5"
  }
 },
 "nbformat": 4,
 "nbformat_minor": 5
}
