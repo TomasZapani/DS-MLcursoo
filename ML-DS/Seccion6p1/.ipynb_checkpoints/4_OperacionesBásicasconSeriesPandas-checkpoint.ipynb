{
 "cells": [
  {
   "cell_type": "code",
   "execution_count": 1,
   "id": "badae98c-0f29-4b8f-a42d-474bfda8b22c",
   "metadata": {},
   "outputs": [],
   "source": [
    "import pandas as pd"
   ]
  },
  {
   "cell_type": "code",
   "execution_count": 2,
   "id": "62099f34-cae2-4d81-a954-ec86692da894",
   "metadata": {},
   "outputs": [
    {
     "data": {
      "text/plain": [
       "0    10\n",
       "1    20\n",
       "2    30\n",
       "3    40\n",
       "4    50\n",
       "dtype: int64"
      ]
     },
     "execution_count": 2,
     "metadata": {},
     "output_type": "execute_result"
    }
   ],
   "source": [
    "serie = pd.Series([10,20,30,40,50])#Metemos la lista de una y la conv en serie de una, sin pasar de variable en variable \n",
    "serie"
   ]
  },
  {
   "cell_type": "code",
   "execution_count": 3,
   "id": "423cbba4-e72c-464d-a186-462d6f92e05f",
   "metadata": {},
   "outputs": [
    {
     "data": {
      "text/plain": [
       "0    20\n",
       "1    20\n",
       "2    30\n",
       "3    40\n",
       "4    50\n",
       "dtype: int64"
      ]
     },
     "execution_count": 3,
     "metadata": {},
     "output_type": "execute_result"
    }
   ],
   "source": [
    "#Sumarle 10 al primer número de la serie en base a su posicion(en este caso pq quise le sume 10 al 1er nro que está en la posicion 0)\n",
    "serie[0] = serie[0] + 10#Le sumamos 10 al primero nro de la serie\n",
    "serie#Imprimimos la serie para ver el cambio-incremento del 1er nro"
   ]
  },
  {
   "cell_type": "code",
   "execution_count": 4,
   "id": "7034cf79-08f1-487b-b940-4dd9af3cf279",
   "metadata": {},
   "outputs": [
    {
     "data": {
      "text/plain": [
       "0    30\n",
       "1    30\n",
       "2    40\n",
       "3    50\n",
       "4    60\n",
       "dtype: int64"
      ]
     },
     "execution_count": 4,
     "metadata": {},
     "output_type": "execute_result"
    }
   ],
   "source": [
    "#Sumamos 10 a todos los nros de la serie\n",
    "serie = serie +10#10 mas todos los número de la serie\n",
    "serie#ver actualizacion de la serie"
   ]
  },
  {
   "cell_type": "code",
   "execution_count": 5,
   "id": "9a3db7af-ed7f-4d98-9529-ac8d10956145",
   "metadata": {},
   "outputs": [
    {
     "data": {
      "text/plain": [
       "0    300\n",
       "1    300\n",
       "2    400\n",
       "3    500\n",
       "4    600\n",
       "dtype: int64"
      ]
     },
     "execution_count": 5,
     "metadata": {},
     "output_type": "execute_result"
    }
   ],
   "source": [
    "#Multiplicación\n",
    "serie = serie * 10\n",
    "serie"
   ]
  }
 ],
 "metadata": {
  "kernelspec": {
   "display_name": "Python 3 (ipykernel)",
   "language": "python",
   "name": "python3"
  },
  "language_info": {
   "codemirror_mode": {
    "name": "ipython",
    "version": 3
   },
   "file_extension": ".py",
   "mimetype": "text/x-python",
   "name": "python",
   "nbconvert_exporter": "python",
   "pygments_lexer": "ipython3",
   "version": "3.11.0"
  }
 },
 "nbformat": 4,
 "nbformat_minor": 5
}
