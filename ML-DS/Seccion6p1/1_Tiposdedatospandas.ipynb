{
 "cells": [
  {
   "cell_type": "code",
   "execution_count": 3,
   "id": "e47e5d8e-5059-44c7-9b19-17a43f025144",
   "metadata": {},
   "outputs": [],
   "source": [
    "import pandas as pd"
   ]
  },
  {
   "cell_type": "code",
   "execution_count": 4,
   "id": "f34b328e-eed6-4f15-8eda-29860763ef2e",
   "metadata": {},
   "outputs": [
    {
     "data": {
      "text/plain": [
       "{'nombre': ['Pedro', 'Juan', 'Lorena'], 'edad': [24, 39, 33]}"
      ]
     },
     "execution_count": 4,
     "metadata": {},
     "output_type": "execute_result"
    }
   ],
   "source": [
    "#Creación del diccionario para almacenar los datos\n",
    "datos = {'nombre':['Pedro','Juan','Lorena'],'edad':[24,39,33]}\n",
    "datos"
   ]
  },
  {
   "cell_type": "code",
   "execution_count": 5,
   "id": "295d7e91-e761-4c5c-9193-75c6b4a21705",
   "metadata": {},
   "outputs": [
    {
     "data": {
      "text/html": [
       "<div>\n",
       "<style scoped>\n",
       "    .dataframe tbody tr th:only-of-type {\n",
       "        vertical-align: middle;\n",
       "    }\n",
       "\n",
       "    .dataframe tbody tr th {\n",
       "        vertical-align: top;\n",
       "    }\n",
       "\n",
       "    .dataframe thead th {\n",
       "        text-align: right;\n",
       "    }\n",
       "</style>\n",
       "<table border=\"1\" class=\"dataframe\">\n",
       "  <thead>\n",
       "    <tr style=\"text-align: right;\">\n",
       "      <th></th>\n",
       "      <th>nombre</th>\n",
       "      <th>edad</th>\n",
       "    </tr>\n",
       "  </thead>\n",
       "  <tbody>\n",
       "    <tr>\n",
       "      <th>0</th>\n",
       "      <td>Pedro</td>\n",
       "      <td>24</td>\n",
       "    </tr>\n",
       "    <tr>\n",
       "      <th>1</th>\n",
       "      <td>Juan</td>\n",
       "      <td>39</td>\n",
       "    </tr>\n",
       "    <tr>\n",
       "      <th>2</th>\n",
       "      <td>Lorena</td>\n",
       "      <td>33</td>\n",
       "    </tr>\n",
       "  </tbody>\n",
       "</table>\n",
       "</div>"
      ],
      "text/plain": [
       "   nombre  edad\n",
       "0   Pedro    24\n",
       "1    Juan    39\n",
       "2  Lorena    33"
      ]
     },
     "execution_count": 5,
     "metadata": {},
     "output_type": "execute_result"
    }
   ],
   "source": [
    "df = pd.DataFrame(datos)#Importante colocar df pq específicamos que es un dataframe\n",
    "df"
   ]
  },
  {
   "cell_type": "code",
   "execution_count": 6,
   "id": "5ce05da2-5795-4c47-9812-2f0d84e77af6",
   "metadata": {},
   "outputs": [
    {
     "data": {
      "text/plain": [
       "pandas.core.frame.DataFrame"
      ]
     },
     "execution_count": 6,
     "metadata": {},
     "output_type": "execute_result"
    }
   ],
   "source": [
    "type(df)#Acá vemos que typo de dato en la var df"
   ]
  },
  {
   "cell_type": "code",
   "execution_count": 9,
   "id": "103c29bb-4d7d-4c05-b437-44b790b9f6c5",
   "metadata": {},
   "outputs": [
    {
     "data": {
      "text/plain": [
       "0     Pedro\n",
       "1      Juan\n",
       "2    Lorena\n",
       "Name: nombre, dtype: object"
      ]
     },
     "execution_count": 9,
     "metadata": {},
     "output_type": "execute_result"
    }
   ],
   "source": [
    "df['nombre']#Acá capturamos la serie-columna, en este caso elegimos la columna nombre"
   ]
  },
  {
   "cell_type": "code",
   "execution_count": 10,
   "id": "48a751ba-0d21-4ae8-9c4d-ba6e60c7be99",
   "metadata": {},
   "outputs": [
    {
     "data": {
      "text/plain": [
       "0     Pedro\n",
       "1      Juan\n",
       "2    Lorena\n",
       "Name: nombre, dtype: object"
      ]
     },
     "execution_count": 10,
     "metadata": {},
     "output_type": "execute_result"
    }
   ],
   "source": [
    "df.nombre#dará el mismo resultado que el de arriba"
   ]
  },
  {
   "cell_type": "code",
   "execution_count": 11,
   "id": "fd785b4b-ac89-4f11-baed-c33b46b1eb58",
   "metadata": {},
   "outputs": [
    {
     "data": {
      "text/plain": [
       "pandas.core.series.Series"
      ]
     },
     "execution_count": 11,
     "metadata": {},
     "output_type": "execute_result"
    }
   ],
   "source": [
    "type(df.nombre)#Ver que tipo de dato es la columna series"
   ]
  },
  {
   "cell_type": "code",
   "execution_count": 21,
   "id": "1d28e383-8e7b-4a2f-b140-d969bc6f635b",
   "metadata": {},
   "outputs": [
    {
     "name": "stdout",
     "output_type": "stream",
     "text": [
      "(3, 2) Index(['nombre', 'edad'], dtype='object') RangeIndex(start=0, stop=3, step=1)\n"
     ]
    }
   ],
   "source": [
    "import pandas as pd\n",
    "\n",
    "\n",
    "\n",
    "df_empleados = pd.DataFrame({'nombre':['Ana','Luis','Carlos'],'edad':[30,25,40]})\n",
    "\n",
    "shape = df_empleados.shape#con el arg shape tenemos las dimensiones\n",
    "columns = df_empleados.columns#con columns obtenemos las columnas del df\n",
    "index = df_empleados.index#acá obtendremos los índices(etiqeutas de las filas) del DF de pandas,RangeIndex(start=0, stop=3, step=1):inicio en 0,termino en 3 y va de unoen uno\n",
    "print(shape,columns,index)\n",
    "\n"
   ]
  },
  {
   "cell_type": "code",
   "execution_count": null,
   "id": "68345812-af99-47c6-94cb-5ace2ff2466a",
   "metadata": {},
   "outputs": [],
   "source": []
  }
 ],
 "metadata": {
  "kernelspec": {
   "display_name": "Python 3 (ipykernel)",
   "language": "python",
   "name": "python3"
  },
  "language_info": {
   "codemirror_mode": {
    "name": "ipython",
    "version": 3
   },
   "file_extension": ".py",
   "mimetype": "text/x-python",
   "name": "python",
   "nbconvert_exporter": "python",
   "pygments_lexer": "ipython3",
   "version": "3.11.0"
  }
 },
 "nbformat": 4,
 "nbformat_minor": 5
}
