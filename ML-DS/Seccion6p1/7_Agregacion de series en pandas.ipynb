{
 "cells": [
  {
   "cell_type": "code",
   "execution_count": null,
   "id": "d3280bce-074f-45bf-9055-e2beac06d155",
   "metadata": {},
   "outputs": [],
   "source": [
    "import pandas as pd\n",
    "\n",
    "numeros = pd.Series([10,20,30,40,50])\n"
   ]
  },
  {
   "cell_type": "markdown",
   "id": "aa6c71e5-dd57-4ab0-9e90-06d5e05e9b5b",
   "metadata": {},
   "source": [
    "Agregaciones comunes:"
   ]
  },
  {
   "cell_type": "code",
   "execution_count": null,
   "id": "263a9856-e7f1-4b2f-9005-a348b5959cc0",
   "metadata": {},
   "outputs": [],
   "source": [
    "#Promedio, promedio de todos los num\n",
    "promedio = numeros.mean()\n",
    "print(f'El promedio es:{promedio}')"
   ]
  },
  {
   "cell_type": "code",
   "execution_count": 7,
   "id": "5b9b5f53-6b0c-4e1c-a84e-db6493ba310a",
   "metadata": {},
   "outputs": [
    {
     "data": {
      "text/plain": [
       "np.int64(150)"
      ]
     },
     "execution_count": 7,
     "metadata": {},
     "output_type": "execute_result"
    }
   ],
   "source": [
    "#Suma, suma de todos los num\n",
    "total = numeros.sum()\n",
    "total"
   ]
  },
  {
   "cell_type": "code",
   "execution_count": 8,
   "id": "947a3d4d-3580-4771-8c23-92191e437b39",
   "metadata": {},
   "outputs": [
    {
     "data": {
      "text/plain": [
       "np.int64(50)"
      ]
     },
     "execution_count": 8,
     "metadata": {},
     "output_type": "execute_result"
    }
   ],
   "source": [
    "#Num máximo,numero máximo de la lista\n",
    "max = numeros.max()\n",
    "max"
   ]
  },
  {
   "cell_type": "code",
   "execution_count": 9,
   "id": "1a517b0b-dd24-440a-b7eb-57fc59acf48b",
   "metadata": {},
   "outputs": [
    {
     "data": {
      "text/plain": [
       "np.int64(10)"
      ]
     },
     "execution_count": 9,
     "metadata": {},
     "output_type": "execute_result"
    }
   ],
   "source": [
    "#Num mínimo,num mínimo de la lista\n",
    "min = numeros.min()\n",
    "min"
   ]
  }
 ],
 "metadata": {
  "kernelspec": {
   "display_name": "Python 3 (ipykernel)",
   "language": "python",
   "name": "python3"
  },
  "language_info": {
   "codemirror_mode": {
    "name": "ipython",
    "version": 3
   },
   "file_extension": ".py",
   "mimetype": "text/x-python",
   "name": "python",
   "nbconvert_exporter": "python",
   "pygments_lexer": "ipython3",
   "version": "3.12.5"
  }
 },
 "nbformat": 4,
 "nbformat_minor": 5
}
