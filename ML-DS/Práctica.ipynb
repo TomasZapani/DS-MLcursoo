{
 "cells": [
  {
   "cell_type": "markdown",
   "id": "be3f9f37-b855-4df6-bb38-bfc451ea61be",
   "metadata": {},
   "source": [
    "Acá vamos a hacer práctica de lo de udemy solo para practicar nomas y no usalos otros notebooks de las secciones, no importa mucho lo que hay aca porque los ejercicios están en udemy, este notebook es solo de práctica"
   ]
  },
  {
   "cell_type": "markdown",
   "id": "5f1d05e1-a7ba-4938-bb30-bf4ebf51611f",
   "metadata": {
    "editable": true,
    "slideshow": {
     "slide_type": ""
    },
    "tags": []
   },
   "source": [
    "Seccion1:Pandas1"
   ]
  },
  {
   "cell_type": "code",
   "execution_count": 11,
   "id": "a14f367a-8872-49fc-8241-b7fe561c0d5a",
   "metadata": {},
   "outputs": [
    {
     "data": {
      "text/html": [
       "<div>\n",
       "<style scoped>\n",
       "    .dataframe tbody tr th:only-of-type {\n",
       "        vertical-align: middle;\n",
       "    }\n",
       "\n",
       "    .dataframe tbody tr th {\n",
       "        vertical-align: top;\n",
       "    }\n",
       "\n",
       "    .dataframe thead th {\n",
       "        text-align: right;\n",
       "    }\n",
       "</style>\n",
       "<table border=\"1\" class=\"dataframe\">\n",
       "  <thead>\n",
       "    <tr style=\"text-align: right;\">\n",
       "      <th></th>\n",
       "      <th>ID</th>\n",
       "      <th>Producto</th>\n",
       "      <th>Cantidad</th>\n",
       "      <th>Precio</th>\n",
       "    </tr>\n",
       "  </thead>\n",
       "  <tbody>\n",
       "    <tr>\n",
       "      <th>0</th>\n",
       "      <td>1</td>\n",
       "      <td>Producto A</td>\n",
       "      <td>10</td>\n",
       "      <td>100</td>\n",
       "    </tr>\n",
       "    <tr>\n",
       "      <th>1</th>\n",
       "      <td>2</td>\n",
       "      <td>Producto B</td>\n",
       "      <td>20</td>\n",
       "      <td>200</td>\n",
       "    </tr>\n",
       "    <tr>\n",
       "      <th>2</th>\n",
       "      <td>3</td>\n",
       "      <td>Producto C</td>\n",
       "      <td>30</td>\n",
       "      <td>300</td>\n",
       "    </tr>\n",
       "    <tr>\n",
       "      <th>3</th>\n",
       "      <td>4</td>\n",
       "      <td>Producto D</td>\n",
       "      <td>40</td>\n",
       "      <td>400</td>\n",
       "    </tr>\n",
       "  </tbody>\n",
       "</table>\n",
       "</div>"
      ],
      "text/plain": [
       "   ID    Producto  Cantidad  Precio\n",
       "0   1  Producto A        10     100\n",
       "1   2  Producto B        20     200\n",
       "2   3  Producto C        30     300\n",
       "3   4  Producto D        40     400"
      ]
     },
     "execution_count": 11,
     "metadata": {},
     "output_type": "execute_result"
    }
   ],
   "source": [
    "import pandas as pd\n",
    "\n",
    "\n",
    "data = {\n",
    "    'ID': [1, 2, 3, 4, 1],\n",
    "    'Producto': ['Producto A', 'Producto B', 'Producto C', 'Producto D', 'Producto A'],\n",
    "    'Cantidad': [10, 20, 30, 40, 50],\n",
    "    'Precio': [100, 200, 300, 400, 100]\n",
    "}\n",
    "\n",
    "\n",
    "\n",
    "df = pd.DataFrame(data)\n",
    "\n",
    "\n",
    "\n",
    "df_sin_duplicados = df.drop_duplicates(subset=['ID','Producto','Precio'])\n",
    "df_sin_duplicados"
   ]
  },
  {
   "cell_type": "code",
   "execution_count": 19,
   "id": "2d5d1a2e-9e05-47aa-9a5d-0bb22b509809",
   "metadata": {},
   "outputs": [
    {
     "data": {
      "text/html": [
       "<div>\n",
       "<style scoped>\n",
       "    .dataframe tbody tr th:only-of-type {\n",
       "        vertical-align: middle;\n",
       "    }\n",
       "\n",
       "    .dataframe tbody tr th {\n",
       "        vertical-align: top;\n",
       "    }\n",
       "\n",
       "    .dataframe thead th {\n",
       "        text-align: right;\n",
       "    }\n",
       "</style>\n",
       "<table border=\"1\" class=\"dataframe\">\n",
       "  <thead>\n",
       "    <tr style=\"text-align: right;\">\n",
       "      <th></th>\n",
       "      <th>ID</th>\n",
       "      <th>Producto</th>\n",
       "      <th>Cantidad</th>\n",
       "      <th>Precio</th>\n",
       "    </tr>\n",
       "  </thead>\n",
       "  <tbody>\n",
       "    <tr>\n",
       "      <th>0</th>\n",
       "      <td>1</td>\n",
       "      <td>Producto A</td>\n",
       "      <td>10</td>\n",
       "      <td>100.0</td>\n",
       "    </tr>\n",
       "    <tr>\n",
       "      <th>1</th>\n",
       "      <td>2</td>\n",
       "      <td>Producto B</td>\n",
       "      <td>20</td>\n",
       "      <td>200.0</td>\n",
       "    </tr>\n",
       "    <tr>\n",
       "      <th>2</th>\n",
       "      <td>3</td>\n",
       "      <td>Producto C</td>\n",
       "      <td>30</td>\n",
       "      <td>300.0</td>\n",
       "    </tr>\n",
       "    <tr>\n",
       "      <th>3</th>\n",
       "      <td>4</td>\n",
       "      <td>Producto D</td>\n",
       "      <td>40</td>\n",
       "      <td>200.0</td>\n",
       "    </tr>\n",
       "  </tbody>\n",
       "</table>\n",
       "</div>"
      ],
      "text/plain": [
       "   ID    Producto  Cantidad  Precio\n",
       "0   1  Producto A        10   100.0\n",
       "1   2  Producto B        20   200.0\n",
       "2   3  Producto C        30   300.0\n",
       "3   4  Producto D        40   200.0"
      ]
     },
     "execution_count": 19,
     "metadata": {},
     "output_type": "execute_result"
    }
   ],
   "source": [
    "import pandas as pd\n",
    "\n",
    "data = {\n",
    "    'ID': [1, 2, 3, 4],\n",
    "    'Producto': ['Producto A', 'Producto B', 'Producto C', 'Producto D'],\n",
    "    'Cantidad': [10, 20, 30, 40],\n",
    "    'Precio': [100, None, 300, None]\n",
    "}\n",
    "\n",
    "\n",
    "df = pd.DataFrame(data)\n",
    "\n",
    "promedio = df['Precio'].mean()\n",
    "\n",
    "df_relleno = df.fillna(promedio)\n",
    "df_relleno\n"
   ]
  },
  {
   "cell_type": "code",
   "execution_count": 30,
   "id": "e61891d6-8e17-4193-a622-6bd891abffe8",
   "metadata": {},
   "outputs": [
    {
     "data": {
      "text/plain": [
       "np.float64(237.96666666666667)"
      ]
     },
     "execution_count": 30,
     "metadata": {},
     "output_type": "execute_result"
    }
   ],
   "source": [
    "import pandas as pd\n",
    "\n",
    "# Serie de ventas del mes\n",
    "ventas_mes = pd.Series([220, 235, 260, 213, 202, 298, 265, 198, 220, 230, 190, 215, 275, 222, 218, 245, 233, 210, 290, 210,\n",
    "                        215, 220, 225, 230, 245, 250, 260, 270, 280, 295])\n",
    "\n",
    "\n",
    "total_ventas_mes = ventas_mes.sum()\n",
    "\n",
    "dia_ventas_mas_bajas = ventas_mes.min()\n",
    "\n",
    "promedio_ventas_mes = ventas_mes.mean()"
   ]
  },
  {
   "cell_type": "markdown",
   "id": "3a4eff6e-bca4-4cf6-be42-3d5fcb1baf1a",
   "metadata": {},
   "source": [
    "Seccion2:Pandas2"
   ]
  },
  {
   "cell_type": "code",
   "execution_count": 11,
   "id": "4db5e28f-5b32-4ea1-b897-fb463ac02553",
   "metadata": {},
   "outputs": [
    {
     "data": {
      "text/plain": [
       "0          Miguel Cervantes\n",
       "1    Gabriel García Marquez\n",
       "2                    Homero\n",
       "Name: Autor, dtype: object"
      ]
     },
     "execution_count": 11,
     "metadata": {},
     "output_type": "execute_result"
    }
   ],
   "source": [
    "import pandas as pd\n",
    "\n",
    "libros = {\n",
    "    'Titulo':['El Quijote','Cien años de soledad','La odisea'],\n",
    "    'Autor':['Miguel de Cervantes','Gabriel García Márquez','Homero'],\n",
    "    'Año':[1605,1967,-800]\n",
    "}\n",
    "\n",
    "libros_df = pd.DataFrame(libros)\n",
    "libros_df\n"
   ]
  },
  {
   "cell_type": "code",
   "execution_count": 23,
   "id": "ba3fb2f1-30c0-4baf-9ca9-bf0b18adeaee",
   "metadata": {},
   "outputs": [
    {
     "data": {
      "text/html": [
       "<div>\n",
       "<style scoped>\n",
       "    .dataframe tbody tr th:only-of-type {\n",
       "        vertical-align: middle;\n",
       "    }\n",
       "\n",
       "    .dataframe tbody tr th {\n",
       "        vertical-align: top;\n",
       "    }\n",
       "\n",
       "    .dataframe thead th {\n",
       "        text-align: right;\n",
       "    }\n",
       "</style>\n",
       "<table border=\"1\" class=\"dataframe\">\n",
       "  <thead>\n",
       "    <tr style=\"text-align: right;\">\n",
       "      <th></th>\n",
       "      <th>Nombre</th>\n",
       "      <th>Edad</th>\n",
       "      <th>Ciudad</th>\n",
       "    </tr>\n",
       "  </thead>\n",
       "  <tbody>\n",
       "    <tr>\n",
       "      <th>0</th>\n",
       "      <td>Ana</td>\n",
       "      <td>25</td>\n",
       "      <td>Madrid</td>\n",
       "    </tr>\n",
       "    <tr>\n",
       "      <th>1</th>\n",
       "      <td>Luis</td>\n",
       "      <td>30</td>\n",
       "      <td>Barcelona</td>\n",
       "    </tr>\n",
       "    <tr>\n",
       "      <th>3</th>\n",
       "      <td>Sara</td>\n",
       "      <td>27</td>\n",
       "      <td>Bilbao</td>\n",
       "    </tr>\n",
       "  </tbody>\n",
       "</table>\n",
       "</div>"
      ],
      "text/plain": [
       "  Nombre  Edad     Ciudad\n",
       "0    Ana    25     Madrid\n",
       "1   Luis    30  Barcelona\n",
       "3   Sara    27     Bilbao"
      ]
     },
     "execution_count": 23,
     "metadata": {},
     "output_type": "execute_result"
    }
   ],
   "source": [
    "# Datos proporcionados\n",
    "import pandas as pd\n",
    "data = {\n",
    "    'Nombre': ['Ana', 'Luis', 'Carlos', 'Sara'],\n",
    "    'Edad': [25, 30, 22, 27],\n",
    "    'Ciudad': ['Madrid', 'Barcelona', 'Valencia', 'Bilbao']\n",
    "}\n",
    "\n",
    "df_filtrado = pd.DataFrame(data)\n",
    "df_filtrado = df_filtrado[df_filtrado['Edad'] >= 25]\n",
    "df_filtrado"
   ]
  },
  {
   "cell_type": "code",
   "execution_count": 34,
   "id": "513a70a9-b5b6-4242-9ab8-3d95cc564b5c",
   "metadata": {},
   "outputs": [
    {
     "data": {
      "text/html": [
       "<div>\n",
       "<style scoped>\n",
       "    .dataframe tbody tr th:only-of-type {\n",
       "        vertical-align: middle;\n",
       "    }\n",
       "\n",
       "    .dataframe tbody tr th {\n",
       "        vertical-align: top;\n",
       "    }\n",
       "\n",
       "    .dataframe thead th {\n",
       "        text-align: right;\n",
       "    }\n",
       "</style>\n",
       "<table border=\"1\" class=\"dataframe\">\n",
       "  <thead>\n",
       "    <tr style=\"text-align: right;\">\n",
       "      <th></th>\n",
       "      <th>Nombre</th>\n",
       "      <th>Edad</th>\n",
       "      <th>Ciudad</th>\n",
       "      <th>Edad_en_10_años</th>\n",
       "      <th>Es_Mayor_de_25</th>\n",
       "    </tr>\n",
       "  </thead>\n",
       "  <tbody>\n",
       "    <tr>\n",
       "      <th>0</th>\n",
       "      <td>Ana</td>\n",
       "      <td>25</td>\n",
       "      <td>MADRID</td>\n",
       "      <td>35</td>\n",
       "      <td>True</td>\n",
       "    </tr>\n",
       "    <tr>\n",
       "      <th>1</th>\n",
       "      <td>Luis</td>\n",
       "      <td>30</td>\n",
       "      <td>BARCELONA</td>\n",
       "      <td>40</td>\n",
       "      <td>True</td>\n",
       "    </tr>\n",
       "    <tr>\n",
       "      <th>2</th>\n",
       "      <td>Carlos</td>\n",
       "      <td>22</td>\n",
       "      <td>VALENCIA</td>\n",
       "      <td>32</td>\n",
       "      <td>False</td>\n",
       "    </tr>\n",
       "    <tr>\n",
       "      <th>3</th>\n",
       "      <td>Sara</td>\n",
       "      <td>27</td>\n",
       "      <td>BILBAO</td>\n",
       "      <td>37</td>\n",
       "      <td>True</td>\n",
       "    </tr>\n",
       "  </tbody>\n",
       "</table>\n",
       "</div>"
      ],
      "text/plain": [
       "   Nombre  Edad     Ciudad  Edad_en_10_años  Es_Mayor_de_25\n",
       "0     Ana    25     MADRID               35            True\n",
       "1    Luis    30  BARCELONA               40            True\n",
       "2  Carlos    22   VALENCIA               32           False\n",
       "3    Sara    27     BILBAO               37            True"
      ]
     },
     "execution_count": 34,
     "metadata": {},
     "output_type": "execute_result"
    }
   ],
   "source": [
    "import pandas as pd\n",
    "data = {\n",
    "    'Nombre': ['Ana', 'Luis', 'Carlos', 'Sara'],\n",
    "    'Edad': [25, 30, 22, 27],\n",
    "    'Ciudad': ['Madrid', 'Barcelona', 'Valencia', 'Bilbao']\n",
    "}\n",
    "\n",
    "df = pd.DataFrame(data)\n",
    "df['Edad_en_10_años'] = df['Edad'] +10\n",
    "df['Ciudad'] = df['Ciudad'].str.upper()\n",
    "df['Es_Mayor_de_25'] = df['Edad']>=25\n",
    "df"
   ]
  },
  {
   "cell_type": "code",
   "execution_count": 45,
   "id": "b9274f64-7d0b-4e74-b987-f54d5b70e570",
   "metadata": {},
   "outputs": [
    {
     "data": {
      "text/html": [
       "<div>\n",
       "<style scoped>\n",
       "    .dataframe tbody tr th:only-of-type {\n",
       "        vertical-align: middle;\n",
       "    }\n",
       "\n",
       "    .dataframe tbody tr th {\n",
       "        vertical-align: top;\n",
       "    }\n",
       "\n",
       "    .dataframe thead th {\n",
       "        text-align: right;\n",
       "    }\n",
       "</style>\n",
       "<table border=\"1\" class=\"dataframe\">\n",
       "  <thead>\n",
       "    <tr style=\"text-align: right;\">\n",
       "      <th></th>\n",
       "      <th>titulo</th>\n",
       "      <th>año</th>\n",
       "      <th>rating</th>\n",
       "    </tr>\n",
       "  </thead>\n",
       "  <tbody>\n",
       "    <tr>\n",
       "      <th>1</th>\n",
       "      <td>Pelicula B</td>\n",
       "      <td>2000</td>\n",
       "      <td>6.5</td>\n",
       "    </tr>\n",
       "    <tr>\n",
       "      <th>0</th>\n",
       "      <td>Pelicula A</td>\n",
       "      <td>2001</td>\n",
       "      <td>7.2</td>\n",
       "    </tr>\n",
       "    <tr>\n",
       "      <th>2</th>\n",
       "      <td>Pelicula C</td>\n",
       "      <td>2005</td>\n",
       "      <td>8.1</td>\n",
       "    </tr>\n",
       "    <tr>\n",
       "      <th>3</th>\n",
       "      <td>Pelicula D</td>\n",
       "      <td>2010</td>\n",
       "      <td>7.5</td>\n",
       "    </tr>\n",
       "  </tbody>\n",
       "</table>\n",
       "</div>"
      ],
      "text/plain": [
       "       titulo   año  rating\n",
       "1  Pelicula B  2000     6.5\n",
       "0  Pelicula A  2001     7.2\n",
       "2  Pelicula C  2005     8.1\n",
       "3  Pelicula D  2010     7.5"
      ]
     },
     "execution_count": 45,
     "metadata": {},
     "output_type": "execute_result"
    }
   ],
   "source": [
    "import pandas as pd\n",
    "datos = {\n",
    "    'titulo': ['Pelicula A', 'Pelicula B', 'Pelicula C', 'Pelicula D'],\n",
    "    'año': [2001, 2000, 2005, 2010],\n",
    "    'rating': [7.2, 6.5, 8.1, 7.5]\n",
    "}\n",
    "\n",
    "df_ordenado = pd.DataFrame(datos)\n",
    "df_ordenado=df_ordenado.sort_values('año')\n",
    "df_ordenado"
   ]
  },
  {
   "cell_type": "code",
   "execution_count": 49,
   "id": "ed2ef87d-5727-44ae-b708-a74eb744f287",
   "metadata": {},
   "outputs": [
    {
     "data": {
      "text/html": [
       "<div>\n",
       "<style scoped>\n",
       "    .dataframe tbody tr th:only-of-type {\n",
       "        vertical-align: middle;\n",
       "    }\n",
       "\n",
       "    .dataframe tbody tr th {\n",
       "        vertical-align: top;\n",
       "    }\n",
       "\n",
       "    .dataframe thead th {\n",
       "        text-align: right;\n",
       "    }\n",
       "</style>\n",
       "<table border=\"1\" class=\"dataframe\">\n",
       "  <thead>\n",
       "    <tr style=\"text-align: right;\">\n",
       "      <th></th>\n",
       "      <th>titulo</th>\n",
       "      <th>año</th>\n",
       "      <th>rating</th>\n",
       "    </tr>\n",
       "  </thead>\n",
       "  <tbody>\n",
       "    <tr>\n",
       "      <th>2</th>\n",
       "      <td>Pelicula C</td>\n",
       "      <td>2005</td>\n",
       "      <td>8.1</td>\n",
       "    </tr>\n",
       "    <tr>\n",
       "      <th>3</th>\n",
       "      <td>Pelicula D</td>\n",
       "      <td>2010</td>\n",
       "      <td>7.5</td>\n",
       "    </tr>\n",
       "    <tr>\n",
       "      <th>0</th>\n",
       "      <td>Pelicula A</td>\n",
       "      <td>2001</td>\n",
       "      <td>7.2</td>\n",
       "    </tr>\n",
       "    <tr>\n",
       "      <th>1</th>\n",
       "      <td>Pelicula B</td>\n",
       "      <td>2000</td>\n",
       "      <td>6.5</td>\n",
       "    </tr>\n",
       "  </tbody>\n",
       "</table>\n",
       "</div>"
      ],
      "text/plain": [
       "       titulo   año  rating\n",
       "2  Pelicula C  2005     8.1\n",
       "3  Pelicula D  2010     7.5\n",
       "0  Pelicula A  2001     7.2\n",
       "1  Pelicula B  2000     6.5"
      ]
     },
     "execution_count": 49,
     "metadata": {},
     "output_type": "execute_result"
    }
   ],
   "source": [
    "import pandas as pd\n",
    "datos = {\n",
    "    'titulo': ['Pelicula A', 'Pelicula B', 'Pelicula C', 'Pelicula D'],\n",
    "    'año': [2001, 2000, 2005, 2010],\n",
    "    'rating': [7.2, 6.5, 8.1, 7.5]\n",
    "}\n",
    "\n",
    "\n",
    "df_ordenado = pd.DataFrame(datos)\n",
    "df_ordenado=df_ordenado.sort_values(['rating','año'],ascending=[False,True])\n",
    "df_ordenado\n"
   ]
  },
  {
   "cell_type": "code",
   "execution_count": 52,
   "id": "9f230084-52dd-43bb-89ce-6ba7c4433e3c",
   "metadata": {},
   "outputs": [
    {
     "data": {
      "text/plain": [
       "género\n",
       "Acción     8.15\n",
       "Comedia    6.50\n",
       "Drama      8.15\n",
       "Name: rating, dtype: float64"
      ]
     },
     "execution_count": 52,
     "metadata": {},
     "output_type": "execute_result"
    }
   ],
   "source": [
    "import pandas as pd\n",
    "datos = {\n",
    "    'titulo': ['Pelicula A', 'Pelicula B', 'Pelicula C', 'Pelicula D', 'Pelicula E'],\n",
    "    'género': ['Acción', 'Drama', 'Acción', 'Comedia', 'Drama'],\n",
    "    'rating': [7.2, 8.5, 9.1, 6.5, 7.8]\n",
    "}\n",
    "\n",
    "\n",
    "promedio_rating_por_genero = pd.DataFrame(datos)\n",
    "promedio_rating_por_genero = promedio_rating_por_genero.groupby('género')['rating'].mean()\n",
    "promedio_rating_por_genero\n"
   ]
  },
  {
   "cell_type": "code",
   "execution_count": 4,
   "id": "1f289e7b-4951-4814-922a-d5c0ed24e979",
   "metadata": {},
   "outputs": [
    {
     "data": {
      "text/html": [
       "<div>\n",
       "<style scoped>\n",
       "    .dataframe tbody tr th:only-of-type {\n",
       "        vertical-align: middle;\n",
       "    }\n",
       "\n",
       "    .dataframe tbody tr th {\n",
       "        vertical-align: top;\n",
       "    }\n",
       "\n",
       "    .dataframe thead th {\n",
       "        text-align: right;\n",
       "    }\n",
       "</style>\n",
       "<table border=\"1\" class=\"dataframe\">\n",
       "  <thead>\n",
       "    <tr style=\"text-align: right;\">\n",
       "      <th></th>\n",
       "      <th>ID</th>\n",
       "      <th>titulo</th>\n",
       "      <th>nombre</th>\n",
       "    </tr>\n",
       "  </thead>\n",
       "  <tbody>\n",
       "    <tr>\n",
       "      <th>0</th>\n",
       "      <td>1</td>\n",
       "      <td>El Quijote</td>\n",
       "      <td>Miguel de Cervantes</td>\n",
       "    </tr>\n",
       "    <tr>\n",
       "      <th>1</th>\n",
       "      <td>2</td>\n",
       "      <td>La Odisea</td>\n",
       "      <td>Homero</td>\n",
       "    </tr>\n",
       "    <tr>\n",
       "      <th>2</th>\n",
       "      <td>3</td>\n",
       "      <td>Cien Años de Soledad</td>\n",
       "      <td>Gabriel García Márquez</td>\n",
       "    </tr>\n",
       "    <tr>\n",
       "      <th>3</th>\n",
       "      <td>4</td>\n",
       "      <td>El Principito</td>\n",
       "      <td>NaN</td>\n",
       "    </tr>\n",
       "    <tr>\n",
       "      <th>4</th>\n",
       "      <td>5</td>\n",
       "      <td>NaN</td>\n",
       "      <td>J.K. Rowling</td>\n",
       "    </tr>\n",
       "  </tbody>\n",
       "</table>\n",
       "</div>"
      ],
      "text/plain": [
       "   ID                titulo                  nombre\n",
       "0   1            El Quijote     Miguel de Cervantes\n",
       "1   2             La Odisea                  Homero\n",
       "2   3  Cien Años de Soledad  Gabriel García Márquez\n",
       "3   4         El Principito                     NaN\n",
       "4   5                   NaN            J.K. Rowling"
      ]
     },
     "execution_count": 4,
     "metadata": {},
     "output_type": "execute_result"
    }
   ],
   "source": [
    "import pandas as pd\n",
    "libros = pd.DataFrame({\n",
    "    'ID': [1, 2, 3, 4],\n",
    "    'titulo': ['El Quijote', 'La Odisea', 'Cien Años de Soledad', 'El Principito']\n",
    "})\n",
    "\n",
    "autores = pd.DataFrame({\n",
    "    'ID': [1, 2, 3, 5],\n",
    "    'nombre': ['Miguel de Cervantes', 'Homero', 'Gabriel García Márquez', 'J.K. Rowling']\n",
    "})\n",
    "\n",
    "libros_autores = pd.merge(libros,autores,on='ID',how = 'outer')\n",
    "libros_autores"
   ]
  },
  {
   "cell_type": "code",
   "execution_count": 8,
   "id": "1ddf061c-98be-4f0c-92eb-1082e15c2c7a",
   "metadata": {},
   "outputs": [
    {
     "data": {
      "text/html": [
       "<div>\n",
       "<style scoped>\n",
       "    .dataframe tbody tr th:only-of-type {\n",
       "        vertical-align: middle;\n",
       "    }\n",
       "\n",
       "    .dataframe tbody tr th {\n",
       "        vertical-align: top;\n",
       "    }\n",
       "\n",
       "    .dataframe thead th {\n",
       "        text-align: right;\n",
       "    }\n",
       "</style>\n",
       "<table border=\"1\" class=\"dataframe\">\n",
       "  <thead>\n",
       "    <tr style=\"text-align: right;\">\n",
       "      <th></th>\n",
       "      <th>curso_id</th>\n",
       "      <th>fecha_inscripcion</th>\n",
       "      <th>nombre_curso</th>\n",
       "    </tr>\n",
       "  </thead>\n",
       "  <tbody>\n",
       "    <tr>\n",
       "      <th>0</th>\n",
       "      <td>102</td>\n",
       "      <td>2023-01-15</td>\n",
       "      <td>Data Science con Python</td>\n",
       "    </tr>\n",
       "    <tr>\n",
       "      <th>1</th>\n",
       "      <td>102</td>\n",
       "      <td>2023-02-01</td>\n",
       "      <td>Data Science con Python</td>\n",
       "    </tr>\n",
       "    <tr>\n",
       "      <th>2</th>\n",
       "      <td>101</td>\n",
       "      <td>2023-01-20</td>\n",
       "      <td>Introducción a Python</td>\n",
       "    </tr>\n",
       "    <tr>\n",
       "      <th>3</th>\n",
       "      <td>104</td>\n",
       "      <td>2023-03-05</td>\n",
       "      <td>NaN</td>\n",
       "    </tr>\n",
       "  </tbody>\n",
       "</table>\n",
       "</div>"
      ],
      "text/plain": [
       "   curso_id fecha_inscripcion             nombre_curso\n",
       "0       102        2023-01-15  Data Science con Python\n",
       "1       102        2023-02-01  Data Science con Python\n",
       "2       101        2023-01-20    Introducción a Python\n",
       "3       104        2023-03-05                      NaN"
      ]
     },
     "execution_count": 8,
     "metadata": {},
     "output_type": "execute_result"
    }
   ],
   "source": [
    "import pandas as pd\n",
    "\n",
    "cursos = pd.DataFrame({\n",
    "    'curso_id': [101, 102, 103],\n",
    "    'nombre_curso': ['Introducción a Python', 'Data Science con Python', 'Machine Learning Avanzado']\n",
    "})\n",
    "\n",
    "inscripciones = pd.DataFrame({\n",
    "    'curso_id': [102, 102, 101, 104],\n",
    "    'fecha_inscripcion': ['2023-01-15', '2023-02-01', '2023-01-20', '2023-03-05']\n",
    "})\n",
    "\n",
    "cursos_inscripciones = pd.merge(inscripciones,cursos,how='left',on='curso_id')\n",
    "cursos_inscripciones"
   ]
  },
  {
   "cell_type": "code",
   "execution_count": 11,
   "id": "c3072381-6d7c-457f-a6f4-369c6a80b2ff",
   "metadata": {},
   "outputs": [
    {
     "data": {
      "text/html": [
       "<div>\n",
       "<style scoped>\n",
       "    .dataframe tbody tr th:only-of-type {\n",
       "        vertical-align: middle;\n",
       "    }\n",
       "\n",
       "    .dataframe tbody tr th {\n",
       "        vertical-align: top;\n",
       "    }\n",
       "\n",
       "    .dataframe thead th {\n",
       "        text-align: right;\n",
       "    }\n",
       "</style>\n",
       "<table border=\"1\" class=\"dataframe\">\n",
       "  <thead>\n",
       "    <tr style=\"text-align: right;\">\n",
       "      <th></th>\n",
       "      <th>ID_x</th>\n",
       "      <th>Nombre</th>\n",
       "      <th>Marca</th>\n",
       "      <th>ID_y</th>\n",
       "      <th>Calificación</th>\n",
       "      <th>Comentario</th>\n",
       "    </tr>\n",
       "  </thead>\n",
       "  <tbody>\n",
       "    <tr>\n",
       "      <th>0</th>\n",
       "      <td>10</td>\n",
       "      <td>Teclado</td>\n",
       "      <td>Logitech</td>\n",
       "      <td>10</td>\n",
       "      <td>5</td>\n",
       "      <td>Excelente producto</td>\n",
       "    </tr>\n",
       "    <tr>\n",
       "      <th>1</th>\n",
       "      <td>11</td>\n",
       "      <td>Mouse</td>\n",
       "      <td>Razer</td>\n",
       "      <td>11</td>\n",
       "      <td>4</td>\n",
       "      <td>Buen producto</td>\n",
       "    </tr>\n",
       "    <tr>\n",
       "      <th>2</th>\n",
       "      <td>12</td>\n",
       "      <td>Monitor</td>\n",
       "      <td>Dell</td>\n",
       "      <td>12</td>\n",
       "      <td>4</td>\n",
       "      <td>Satisfecho</td>\n",
       "    </tr>\n",
       "  </tbody>\n",
       "</table>\n",
       "</div>"
      ],
      "text/plain": [
       "   ID_x   Nombre     Marca  ID_y  Calificación          Comentario\n",
       "0    10  Teclado  Logitech    10             5  Excelente producto\n",
       "1    11    Mouse     Razer    11             4       Buen producto\n",
       "2    12  Monitor      Dell    12             4          Satisfecho"
      ]
     },
     "execution_count": 11,
     "metadata": {},
     "output_type": "execute_result"
    }
   ],
   "source": [
    "import pandas as pd\n",
    "\n",
    "\n",
    "\n",
    "productos = pd.DataFrame({\n",
    "    'ID': [10, 11, 12],\n",
    "    'Nombre': ['Teclado', 'Mouse', 'Monitor'],\n",
    "    'Marca': ['Logitech', 'Razer', 'Dell']\n",
    "})\n",
    "\n",
    "reviews = pd.DataFrame({\n",
    "    'ID': [10, 11, 12],\n",
    "    'Calificación': [5, 4, 4],\n",
    "    'Comentario': ['Excelente producto', 'Buen producto', 'Satisfecho']\n",
    "})\n",
    "\n",
    "productos_reviews = pd.merge(productos,reviews,left_index=True,right_index=True)\n",
    "productos_reviews"
   ]
  },
  {
   "cell_type": "code",
   "execution_count": 1,
   "id": "6c899a18-fcf5-4f72-a572-29a01aea7a83",
   "metadata": {},
   "outputs": [],
   "source": [
    "import pandas as pd\n",
    "\n",
    "# Creación del DataFrame df_a\n",
    "df_a = pd.DataFrame({\n",
    "    'id': [1, 2, 3],\n",
    "    'Nombre': ['Ana', 'Beto', 'Carla']\n",
    "})\n",
    "df_a.set_index('id', inplace=True)\n",
    "\n",
    "# Creación del DataFrame df_b\n",
    "df_b = pd.DataFrame({\n",
    "    'id': [1, 2, 3],\n",
    "    'Edad': [25, 30, 35]\n",
    "})\n",
    "df_b.set_index('id', inplace=True)#inplace = True es para que se aplique en ese df original ese índice y no que genere una copia\n",
    "\n",
    "#df_a\n",
    "#df_b\n",
    "df_combinado = df_a.join(df_b)\n",
    "df_combinado"
   ]
  },
  {
   "cell_type": "code",
   "execution_count": 8,
   "id": "2d6d40cc-2273-4bda-ad82-eed88512590c",
   "metadata": {},
   "outputs": [
    {
     "data": {
      "text/html": [
       "<div>\n",
       "<style scoped>\n",
       "    .dataframe tbody tr th:only-of-type {\n",
       "        vertical-align: middle;\n",
       "    }\n",
       "\n",
       "    .dataframe tbody tr th {\n",
       "        vertical-align: top;\n",
       "    }\n",
       "\n",
       "    .dataframe thead th {\n",
       "        text-align: right;\n",
       "    }\n",
       "</style>\n",
       "<table border=\"1\" class=\"dataframe\">\n",
       "  <thead>\n",
       "    <tr style=\"text-align: right;\">\n",
       "      <th></th>\n",
       "      <th>Nombre</th>\n",
       "      <th>Precio</th>\n",
       "      <th>NombreCategoria</th>\n",
       "    </tr>\n",
       "    <tr>\n",
       "      <th>ProductoID</th>\n",
       "      <th></th>\n",
       "      <th></th>\n",
       "      <th></th>\n",
       "    </tr>\n",
       "  </thead>\n",
       "  <tbody>\n",
       "    <tr>\n",
       "      <th>1</th>\n",
       "      <td>Producto 1</td>\n",
       "      <td>100</td>\n",
       "      <td>Categoría 1</td>\n",
       "    </tr>\n",
       "    <tr>\n",
       "      <th>2</th>\n",
       "      <td>Producto 2</td>\n",
       "      <td>150</td>\n",
       "      <td>Categoría 2</td>\n",
       "    </tr>\n",
       "    <tr>\n",
       "      <th>3</th>\n",
       "      <td>Producto 3</td>\n",
       "      <td>200</td>\n",
       "      <td>NaN</td>\n",
       "    </tr>\n",
       "    <tr>\n",
       "      <th>4</th>\n",
       "      <td>Producto 4</td>\n",
       "      <td>250</td>\n",
       "      <td>NaN</td>\n",
       "    </tr>\n",
       "  </tbody>\n",
       "</table>\n",
       "</div>"
      ],
      "text/plain": [
       "                Nombre  Precio NombreCategoria\n",
       "ProductoID                                    \n",
       "1           Producto 1     100     Categoría 1\n",
       "2           Producto 2     150     Categoría 2\n",
       "3           Producto 3     200             NaN\n",
       "4           Producto 4     250             NaN"
      ]
     },
     "execution_count": 8,
     "metadata": {},
     "output_type": "execute_result"
    }
   ],
   "source": [
    "import pandas as pd\n",
    "\n",
    "\n",
    "\n",
    "productos_df = pd.DataFrame({\n",
    "    'ProductoID': [1, 2, 3, 4],\n",
    "    'Nombre': ['Producto 1', 'Producto 2', 'Producto 3', 'Producto 4'],\n",
    "    'Precio': [100, 150, 200, 250]\n",
    "}).set_index('ProductoID')\n",
    "\n",
    "categorias_df = pd.DataFrame({\n",
    "    'CategoriaID': [1, 2],\n",
    "    'NombreCategoria': ['Categoría 1', 'Categoría 2']\n",
    "}).set_index('CategoriaID')\n",
    "\n",
    "\n",
    "df_combinado =  productos_df.join(categorias_df)\n",
    "df_combinado"
   ]
  },
  {
   "cell_type": "code",
   "execution_count": 12,
   "id": "4ab0883a-b417-4dcc-93a7-041c18a4fac1",
   "metadata": {},
   "outputs": [
    {
     "data": {
      "text/html": [
       "<div>\n",
       "<style scoped>\n",
       "    .dataframe tbody tr th:only-of-type {\n",
       "        vertical-align: middle;\n",
       "    }\n",
       "\n",
       "    .dataframe tbody tr th {\n",
       "        vertical-align: top;\n",
       "    }\n",
       "\n",
       "    .dataframe thead th {\n",
       "        text-align: right;\n",
       "    }\n",
       "</style>\n",
       "<table border=\"1\" class=\"dataframe\">\n",
       "  <thead>\n",
       "    <tr style=\"text-align: right;\">\n",
       "      <th></th>\n",
       "      <th>NombreCategoria</th>\n",
       "      <th>Nombre</th>\n",
       "      <th>Precio</th>\n",
       "    </tr>\n",
       "    <tr>\n",
       "      <th>ProductoID</th>\n",
       "      <th></th>\n",
       "      <th></th>\n",
       "      <th></th>\n",
       "    </tr>\n",
       "  </thead>\n",
       "  <tbody>\n",
       "    <tr>\n",
       "      <th>1</th>\n",
       "      <td>Categoría 1</td>\n",
       "      <td>Producto 1</td>\n",
       "      <td>100</td>\n",
       "    </tr>\n",
       "    <tr>\n",
       "      <th>2</th>\n",
       "      <td>Categoría 2</td>\n",
       "      <td>Producto 2</td>\n",
       "      <td>150</td>\n",
       "    </tr>\n",
       "    <tr>\n",
       "      <th>3</th>\n",
       "      <td>Categoría 3</td>\n",
       "      <td>Producto 3</td>\n",
       "      <td>200</td>\n",
       "    </tr>\n",
       "    <tr>\n",
       "      <th>4</th>\n",
       "      <td>NaN</td>\n",
       "      <td>Producto 4</td>\n",
       "      <td>250</td>\n",
       "    </tr>\n",
       "  </tbody>\n",
       "</table>\n",
       "</div>"
      ],
      "text/plain": [
       "           NombreCategoria      Nombre  Precio\n",
       "ProductoID                                    \n",
       "1              Categoría 1  Producto 1     100\n",
       "2              Categoría 2  Producto 2     150\n",
       "3              Categoría 3  Producto 3     200\n",
       "4                      NaN  Producto 4     250"
      ]
     },
     "execution_count": 12,
     "metadata": {},
     "output_type": "execute_result"
    }
   ],
   "source": [
    "import pandas as pd\n",
    "productos_df = pd.DataFrame({\n",
    "    'ProductoID': [1, 2, 3, 4],\n",
    "    'Nombre': ['Producto 1', 'Producto 2', 'Producto 3', 'Producto 4'],\n",
    "    'Precio': [100, 150, 200, 250]\n",
    "})\n",
    "\n",
    "productos_df = productos_df.set_index('ProductoID')\n",
    "\n",
    "categorias_df = pd.DataFrame({\n",
    "    'CategoriaID': [1, 2, 3],\n",
    "    'NombreCategoria': ['Categoría 1', 'Categoría 2', 'Categoría 3']\n",
    "}).set_index('CategoriaID')\n",
    "\n",
    "\n",
    "df_combinado = categorias_df.join(productos_df,how='right')\n",
    "df_combinado"
   ]
  },
  {
   "cell_type": "code",
   "execution_count": 2,
   "id": "b28cf536-2b9d-4b6a-b844-eebd1dd95e6f",
   "metadata": {},
   "outputs": [],
   "source": [
    "import pandas as pd\n",
    "\n",
    "\n",
    "ventas_enero = pd.DataFrame({'Producto': [\"Manzanas\", \"Bananas\", \"Naranjas\"],\n",
    "                             'Cantidad': [300, 200, 150]\n",
    "                            })\n",
    "\n",
    "ventas_febrero = pd.DataFrame({'Producto': [\"Manzanas\", \"Bananas\", \"Naranjas\"],\n",
    "                               'Cantidad': [350, 210, 170]\n",
    "                              })\n",
    "\n",
    "\n",
    "ventas_total = pd.concat([ventas_enero,ventas_febrero],ignore_index = True)\n",
    "ventas_total"
   ]
  },
  {
   "cell_type": "code",
   "execution_count": 8,
   "id": "e5769d74-edb7-4dcd-9455-aaf022294b42",
   "metadata": {},
   "outputs": [
    {
     "data": {
      "text/html": [
       "<div>\n",
       "<style scoped>\n",
       "    .dataframe tbody tr th:only-of-type {\n",
       "        vertical-align: middle;\n",
       "    }\n",
       "\n",
       "    .dataframe tbody tr th {\n",
       "        vertical-align: top;\n",
       "    }\n",
       "\n",
       "    .dataframe thead th {\n",
       "        text-align: right;\n",
       "    }\n",
       "</style>\n",
       "<table border=\"1\" class=\"dataframe\">\n",
       "  <thead>\n",
       "    <tr style=\"text-align: right;\">\n",
       "      <th></th>\n",
       "      <th>Nombre</th>\n",
       "      <th>Edad</th>\n",
       "      <th>Producto</th>\n",
       "      <th>Precio</th>\n",
       "    </tr>\n",
       "  </thead>\n",
       "  <tbody>\n",
       "    <tr>\n",
       "      <th>0</th>\n",
       "      <td>Ana</td>\n",
       "      <td>34</td>\n",
       "      <td>Libro</td>\n",
       "      <td>15.5</td>\n",
       "    </tr>\n",
       "    <tr>\n",
       "      <th>1</th>\n",
       "      <td>Luis</td>\n",
       "      <td>45</td>\n",
       "      <td>Lápiz</td>\n",
       "      <td>0.5</td>\n",
       "    </tr>\n",
       "    <tr>\n",
       "      <th>2</th>\n",
       "      <td>Marta</td>\n",
       "      <td>28</td>\n",
       "      <td>Cuaderno</td>\n",
       "      <td>2.0</td>\n",
       "    </tr>\n",
       "  </tbody>\n",
       "</table>\n",
       "</div>"
      ],
      "text/plain": [
       "  Nombre  Edad  Producto  Precio\n",
       "0    Ana    34     Libro    15.5\n",
       "1   Luis    45     Lápiz     0.5\n",
       "2  Marta    28  Cuaderno     2.0"
      ]
     },
     "execution_count": 8,
     "metadata": {},
     "output_type": "execute_result"
    }
   ],
   "source": [
    "import pandas as pd\n",
    "\n",
    "datos_cliente = pd.DataFrame({'Nombre': [\"Ana\", \"Luis\", \"Marta\"],\n",
    "                              'Edad': [34, 45, 28]})\n",
    "\n",
    "compras_cliente = pd.DataFrame({'Producto': [\"Libro\", \"Lápiz\", \"Cuaderno\"],\n",
    "                                'Precio': [15.50, 0.50, 2.00]})\n",
    "\n",
    "info_cliente = pd.concat([datos_cliente,compras_cliente],axis=1)\n",
    "info_cliente"
   ]
  },
  {
   "cell_type": "code",
   "execution_count": 9,
   "id": "91cb0b36-9a95-40c8-8e84-e7f50722af79",
   "metadata": {},
   "outputs": [
    {
     "data": {
      "text/html": [
       "<div>\n",
       "<style scoped>\n",
       "    .dataframe tbody tr th:only-of-type {\n",
       "        vertical-align: middle;\n",
       "    }\n",
       "\n",
       "    .dataframe tbody tr th {\n",
       "        vertical-align: top;\n",
       "    }\n",
       "\n",
       "    .dataframe thead th {\n",
       "        text-align: right;\n",
       "    }\n",
       "</style>\n",
       "<table border=\"1\" class=\"dataframe\">\n",
       "  <thead>\n",
       "    <tr style=\"text-align: right;\">\n",
       "      <th></th>\n",
       "      <th></th>\n",
       "      <th>Producto</th>\n",
       "      <th>Cantidad</th>\n",
       "    </tr>\n",
       "  </thead>\n",
       "  <tbody>\n",
       "    <tr>\n",
       "      <th rowspan=\"2\" valign=\"top\">Tienda A</th>\n",
       "      <th>0</th>\n",
       "      <td>Manzanas</td>\n",
       "      <td>500</td>\n",
       "    </tr>\n",
       "    <tr>\n",
       "      <th>1</th>\n",
       "      <td>Bananas</td>\n",
       "      <td>300</td>\n",
       "    </tr>\n",
       "    <tr>\n",
       "      <th rowspan=\"2\" valign=\"top\">Tienda B</th>\n",
       "      <th>0</th>\n",
       "      <td>Naranjas</td>\n",
       "      <td>400</td>\n",
       "    </tr>\n",
       "    <tr>\n",
       "      <th>1</th>\n",
       "      <td>Peras</td>\n",
       "      <td>250</td>\n",
       "    </tr>\n",
       "  </tbody>\n",
       "</table>\n",
       "</div>"
      ],
      "text/plain": [
       "            Producto  Cantidad\n",
       "Tienda A 0  Manzanas       500\n",
       "         1   Bananas       300\n",
       "Tienda B 0  Naranjas       400\n",
       "         1     Peras       250"
      ]
     },
     "execution_count": 9,
     "metadata": {},
     "output_type": "execute_result"
    }
   ],
   "source": [
    "import pandas as pd\n",
    "\n",
    "\n",
    "tienda_a = pd.DataFrame({'Producto': [\"Manzanas\", \"Bananas\"],\n",
    "                         'Cantidad': [500, 300]\n",
    "})\n",
    "\n",
    "tienda_b = pd.DataFrame({'Producto': [\"Naranjas\", \"Peras\"],\n",
    "                         'Cantidad': [400, 250]\n",
    "})\n",
    "\n",
    "ventas_tienda = pd.concat([tienda_a,tienda_b],keys=['Tienda A','Tienda B'])\n",
    "ventas_tienda"
   ]
  },
  {
   "cell_type": "code",
   "execution_count": 16,
   "id": "a12ba69a-1206-4af9-ae68-5207a6cd8ba8",
   "metadata": {},
   "outputs": [
    {
     "data": {
      "text/plain": [
       "0   2024-01-01\n",
       "1   2024-01-02\n",
       "2   2024-01-03\n",
       "3   2024-01-04\n",
       "4   2024-01-05\n",
       "5   2024-01-06\n",
       "6   2024-01-07\n",
       "dtype: datetime64[ns]"
      ]
     },
     "execution_count": 16,
     "metadata": {},
     "output_type": "execute_result"
    }
   ],
   "source": [
    "import pandas as pd\n",
    "\n",
    "\n",
    "primera_semana_2024 = pd.Series(pd.date_range('20240101',periods=7))\n",
    "primera_semana_2024"
   ]
  },
  {
   "cell_type": "code",
   "execution_count": 48,
   "id": "cc098d06-99ee-4e4b-98d6-0af3e97266d9",
   "metadata": {},
   "outputs": [
    {
     "ename": "FileNotFoundError",
     "evalue": "[Errno 2] No such file or directory: './Fechas_Convertidas.csv.csv'",
     "output_type": "error",
     "traceback": [
      "\u001b[1;31m---------------------------------------------------------------------------\u001b[0m",
      "\u001b[1;31mFileNotFoundError\u001b[0m                         Traceback (most recent call last)",
      "Cell \u001b[1;32mIn[48], line 4\u001b[0m\n\u001b[0;32m      1\u001b[0m \u001b[38;5;28;01mimport\u001b[39;00m \u001b[38;5;21;01mpandas\u001b[39;00m \u001b[38;5;28;01mas\u001b[39;00m \u001b[38;5;21;01mpd\u001b[39;00m\n\u001b[0;32m      3\u001b[0m \u001b[38;5;66;03m# Leer el archivo CSV\u001b[39;00m\n\u001b[1;32m----> 4\u001b[0m df \u001b[38;5;241m=\u001b[39m \u001b[43mpd\u001b[49m\u001b[38;5;241;43m.\u001b[39;49m\u001b[43mread_csv\u001b[49m\u001b[43m(\u001b[49m\u001b[38;5;124;43m\"\u001b[39;49m\u001b[38;5;124;43m./Fechas_Convertidas.csv.csv\u001b[39;49m\u001b[38;5;124;43m\"\u001b[39;49m\u001b[43m)\u001b[49m\n\u001b[0;32m      6\u001b[0m \u001b[38;5;66;03m# Convertir la columna 'fecha' a datetime con formato día/mes/año\u001b[39;00m\n\u001b[0;32m      7\u001b[0m df[\u001b[38;5;124m'\u001b[39m\u001b[38;5;124mfecha\u001b[39m\u001b[38;5;124m'\u001b[39m] \u001b[38;5;241m=\u001b[39m pd\u001b[38;5;241m.\u001b[39mto_datetime(df[\u001b[38;5;124m'\u001b[39m\u001b[38;5;124mfecha\u001b[39m\u001b[38;5;124m'\u001b[39m])\u001b[38;5;241m.\u001b[39mdt\u001b[38;5;241m.\u001b[39mstrftime(\u001b[38;5;124m'\u001b[39m\u001b[38;5;132;01m%d\u001b[39;00m\u001b[38;5;124m/\u001b[39m\u001b[38;5;124m%\u001b[39m\u001b[38;5;124mm/\u001b[39m\u001b[38;5;124m%\u001b[39m\u001b[38;5;124mY\u001b[39m\u001b[38;5;124m'\u001b[39m)\n",
      "File \u001b[1;32m~\\AppData\\Local\\Programs\\Python\\Python311\\Lib\\site-packages\\pandas\\io\\parsers\\readers.py:1026\u001b[0m, in \u001b[0;36mread_csv\u001b[1;34m(filepath_or_buffer, sep, delimiter, header, names, index_col, usecols, dtype, engine, converters, true_values, false_values, skipinitialspace, skiprows, skipfooter, nrows, na_values, keep_default_na, na_filter, verbose, skip_blank_lines, parse_dates, infer_datetime_format, keep_date_col, date_parser, date_format, dayfirst, cache_dates, iterator, chunksize, compression, thousands, decimal, lineterminator, quotechar, quoting, doublequote, escapechar, comment, encoding, encoding_errors, dialect, on_bad_lines, delim_whitespace, low_memory, memory_map, float_precision, storage_options, dtype_backend)\u001b[0m\n\u001b[0;32m   1013\u001b[0m kwds_defaults \u001b[38;5;241m=\u001b[39m _refine_defaults_read(\n\u001b[0;32m   1014\u001b[0m     dialect,\n\u001b[0;32m   1015\u001b[0m     delimiter,\n\u001b[1;32m   (...)\u001b[0m\n\u001b[0;32m   1022\u001b[0m     dtype_backend\u001b[38;5;241m=\u001b[39mdtype_backend,\n\u001b[0;32m   1023\u001b[0m )\n\u001b[0;32m   1024\u001b[0m kwds\u001b[38;5;241m.\u001b[39mupdate(kwds_defaults)\n\u001b[1;32m-> 1026\u001b[0m \u001b[38;5;28;01mreturn\u001b[39;00m \u001b[43m_read\u001b[49m\u001b[43m(\u001b[49m\u001b[43mfilepath_or_buffer\u001b[49m\u001b[43m,\u001b[49m\u001b[43m \u001b[49m\u001b[43mkwds\u001b[49m\u001b[43m)\u001b[49m\n",
      "File \u001b[1;32m~\\AppData\\Local\\Programs\\Python\\Python311\\Lib\\site-packages\\pandas\\io\\parsers\\readers.py:620\u001b[0m, in \u001b[0;36m_read\u001b[1;34m(filepath_or_buffer, kwds)\u001b[0m\n\u001b[0;32m    617\u001b[0m _validate_names(kwds\u001b[38;5;241m.\u001b[39mget(\u001b[38;5;124m\"\u001b[39m\u001b[38;5;124mnames\u001b[39m\u001b[38;5;124m\"\u001b[39m, \u001b[38;5;28;01mNone\u001b[39;00m))\n\u001b[0;32m    619\u001b[0m \u001b[38;5;66;03m# Create the parser.\u001b[39;00m\n\u001b[1;32m--> 620\u001b[0m parser \u001b[38;5;241m=\u001b[39m \u001b[43mTextFileReader\u001b[49m\u001b[43m(\u001b[49m\u001b[43mfilepath_or_buffer\u001b[49m\u001b[43m,\u001b[49m\u001b[43m \u001b[49m\u001b[38;5;241;43m*\u001b[39;49m\u001b[38;5;241;43m*\u001b[39;49m\u001b[43mkwds\u001b[49m\u001b[43m)\u001b[49m\n\u001b[0;32m    622\u001b[0m \u001b[38;5;28;01mif\u001b[39;00m chunksize \u001b[38;5;129;01mor\u001b[39;00m iterator:\n\u001b[0;32m    623\u001b[0m     \u001b[38;5;28;01mreturn\u001b[39;00m parser\n",
      "File \u001b[1;32m~\\AppData\\Local\\Programs\\Python\\Python311\\Lib\\site-packages\\pandas\\io\\parsers\\readers.py:1620\u001b[0m, in \u001b[0;36mTextFileReader.__init__\u001b[1;34m(self, f, engine, **kwds)\u001b[0m\n\u001b[0;32m   1617\u001b[0m     \u001b[38;5;28mself\u001b[39m\u001b[38;5;241m.\u001b[39moptions[\u001b[38;5;124m\"\u001b[39m\u001b[38;5;124mhas_index_names\u001b[39m\u001b[38;5;124m\"\u001b[39m] \u001b[38;5;241m=\u001b[39m kwds[\u001b[38;5;124m\"\u001b[39m\u001b[38;5;124mhas_index_names\u001b[39m\u001b[38;5;124m\"\u001b[39m]\n\u001b[0;32m   1619\u001b[0m \u001b[38;5;28mself\u001b[39m\u001b[38;5;241m.\u001b[39mhandles: IOHandles \u001b[38;5;241m|\u001b[39m \u001b[38;5;28;01mNone\u001b[39;00m \u001b[38;5;241m=\u001b[39m \u001b[38;5;28;01mNone\u001b[39;00m\n\u001b[1;32m-> 1620\u001b[0m \u001b[38;5;28mself\u001b[39m\u001b[38;5;241m.\u001b[39m_engine \u001b[38;5;241m=\u001b[39m \u001b[38;5;28;43mself\u001b[39;49m\u001b[38;5;241;43m.\u001b[39;49m\u001b[43m_make_engine\u001b[49m\u001b[43m(\u001b[49m\u001b[43mf\u001b[49m\u001b[43m,\u001b[49m\u001b[43m \u001b[49m\u001b[38;5;28;43mself\u001b[39;49m\u001b[38;5;241;43m.\u001b[39;49m\u001b[43mengine\u001b[49m\u001b[43m)\u001b[49m\n",
      "File \u001b[1;32m~\\AppData\\Local\\Programs\\Python\\Python311\\Lib\\site-packages\\pandas\\io\\parsers\\readers.py:1880\u001b[0m, in \u001b[0;36mTextFileReader._make_engine\u001b[1;34m(self, f, engine)\u001b[0m\n\u001b[0;32m   1878\u001b[0m     \u001b[38;5;28;01mif\u001b[39;00m \u001b[38;5;124m\"\u001b[39m\u001b[38;5;124mb\u001b[39m\u001b[38;5;124m\"\u001b[39m \u001b[38;5;129;01mnot\u001b[39;00m \u001b[38;5;129;01min\u001b[39;00m mode:\n\u001b[0;32m   1879\u001b[0m         mode \u001b[38;5;241m+\u001b[39m\u001b[38;5;241m=\u001b[39m \u001b[38;5;124m\"\u001b[39m\u001b[38;5;124mb\u001b[39m\u001b[38;5;124m\"\u001b[39m\n\u001b[1;32m-> 1880\u001b[0m \u001b[38;5;28mself\u001b[39m\u001b[38;5;241m.\u001b[39mhandles \u001b[38;5;241m=\u001b[39m \u001b[43mget_handle\u001b[49m\u001b[43m(\u001b[49m\n\u001b[0;32m   1881\u001b[0m \u001b[43m    \u001b[49m\u001b[43mf\u001b[49m\u001b[43m,\u001b[49m\n\u001b[0;32m   1882\u001b[0m \u001b[43m    \u001b[49m\u001b[43mmode\u001b[49m\u001b[43m,\u001b[49m\n\u001b[0;32m   1883\u001b[0m \u001b[43m    \u001b[49m\u001b[43mencoding\u001b[49m\u001b[38;5;241;43m=\u001b[39;49m\u001b[38;5;28;43mself\u001b[39;49m\u001b[38;5;241;43m.\u001b[39;49m\u001b[43moptions\u001b[49m\u001b[38;5;241;43m.\u001b[39;49m\u001b[43mget\u001b[49m\u001b[43m(\u001b[49m\u001b[38;5;124;43m\"\u001b[39;49m\u001b[38;5;124;43mencoding\u001b[39;49m\u001b[38;5;124;43m\"\u001b[39;49m\u001b[43m,\u001b[49m\u001b[43m \u001b[49m\u001b[38;5;28;43;01mNone\u001b[39;49;00m\u001b[43m)\u001b[49m\u001b[43m,\u001b[49m\n\u001b[0;32m   1884\u001b[0m \u001b[43m    \u001b[49m\u001b[43mcompression\u001b[49m\u001b[38;5;241;43m=\u001b[39;49m\u001b[38;5;28;43mself\u001b[39;49m\u001b[38;5;241;43m.\u001b[39;49m\u001b[43moptions\u001b[49m\u001b[38;5;241;43m.\u001b[39;49m\u001b[43mget\u001b[49m\u001b[43m(\u001b[49m\u001b[38;5;124;43m\"\u001b[39;49m\u001b[38;5;124;43mcompression\u001b[39;49m\u001b[38;5;124;43m\"\u001b[39;49m\u001b[43m,\u001b[49m\u001b[43m \u001b[49m\u001b[38;5;28;43;01mNone\u001b[39;49;00m\u001b[43m)\u001b[49m\u001b[43m,\u001b[49m\n\u001b[0;32m   1885\u001b[0m \u001b[43m    \u001b[49m\u001b[43mmemory_map\u001b[49m\u001b[38;5;241;43m=\u001b[39;49m\u001b[38;5;28;43mself\u001b[39;49m\u001b[38;5;241;43m.\u001b[39;49m\u001b[43moptions\u001b[49m\u001b[38;5;241;43m.\u001b[39;49m\u001b[43mget\u001b[49m\u001b[43m(\u001b[49m\u001b[38;5;124;43m\"\u001b[39;49m\u001b[38;5;124;43mmemory_map\u001b[39;49m\u001b[38;5;124;43m\"\u001b[39;49m\u001b[43m,\u001b[49m\u001b[43m \u001b[49m\u001b[38;5;28;43;01mFalse\u001b[39;49;00m\u001b[43m)\u001b[49m\u001b[43m,\u001b[49m\n\u001b[0;32m   1886\u001b[0m \u001b[43m    \u001b[49m\u001b[43mis_text\u001b[49m\u001b[38;5;241;43m=\u001b[39;49m\u001b[43mis_text\u001b[49m\u001b[43m,\u001b[49m\n\u001b[0;32m   1887\u001b[0m \u001b[43m    \u001b[49m\u001b[43merrors\u001b[49m\u001b[38;5;241;43m=\u001b[39;49m\u001b[38;5;28;43mself\u001b[39;49m\u001b[38;5;241;43m.\u001b[39;49m\u001b[43moptions\u001b[49m\u001b[38;5;241;43m.\u001b[39;49m\u001b[43mget\u001b[49m\u001b[43m(\u001b[49m\u001b[38;5;124;43m\"\u001b[39;49m\u001b[38;5;124;43mencoding_errors\u001b[39;49m\u001b[38;5;124;43m\"\u001b[39;49m\u001b[43m,\u001b[49m\u001b[43m \u001b[49m\u001b[38;5;124;43m\"\u001b[39;49m\u001b[38;5;124;43mstrict\u001b[39;49m\u001b[38;5;124;43m\"\u001b[39;49m\u001b[43m)\u001b[49m\u001b[43m,\u001b[49m\n\u001b[0;32m   1888\u001b[0m \u001b[43m    \u001b[49m\u001b[43mstorage_options\u001b[49m\u001b[38;5;241;43m=\u001b[39;49m\u001b[38;5;28;43mself\u001b[39;49m\u001b[38;5;241;43m.\u001b[39;49m\u001b[43moptions\u001b[49m\u001b[38;5;241;43m.\u001b[39;49m\u001b[43mget\u001b[49m\u001b[43m(\u001b[49m\u001b[38;5;124;43m\"\u001b[39;49m\u001b[38;5;124;43mstorage_options\u001b[39;49m\u001b[38;5;124;43m\"\u001b[39;49m\u001b[43m,\u001b[49m\u001b[43m \u001b[49m\u001b[38;5;28;43;01mNone\u001b[39;49;00m\u001b[43m)\u001b[49m\u001b[43m,\u001b[49m\n\u001b[0;32m   1889\u001b[0m \u001b[43m\u001b[49m\u001b[43m)\u001b[49m\n\u001b[0;32m   1890\u001b[0m \u001b[38;5;28;01massert\u001b[39;00m \u001b[38;5;28mself\u001b[39m\u001b[38;5;241m.\u001b[39mhandles \u001b[38;5;129;01mis\u001b[39;00m \u001b[38;5;129;01mnot\u001b[39;00m \u001b[38;5;28;01mNone\u001b[39;00m\n\u001b[0;32m   1891\u001b[0m f \u001b[38;5;241m=\u001b[39m \u001b[38;5;28mself\u001b[39m\u001b[38;5;241m.\u001b[39mhandles\u001b[38;5;241m.\u001b[39mhandle\n",
      "File \u001b[1;32m~\\AppData\\Local\\Programs\\Python\\Python311\\Lib\\site-packages\\pandas\\io\\common.py:873\u001b[0m, in \u001b[0;36mget_handle\u001b[1;34m(path_or_buf, mode, encoding, compression, memory_map, is_text, errors, storage_options)\u001b[0m\n\u001b[0;32m    868\u001b[0m \u001b[38;5;28;01melif\u001b[39;00m \u001b[38;5;28misinstance\u001b[39m(handle, \u001b[38;5;28mstr\u001b[39m):\n\u001b[0;32m    869\u001b[0m     \u001b[38;5;66;03m# Check whether the filename is to be opened in binary mode.\u001b[39;00m\n\u001b[0;32m    870\u001b[0m     \u001b[38;5;66;03m# Binary mode does not support 'encoding' and 'newline'.\u001b[39;00m\n\u001b[0;32m    871\u001b[0m     \u001b[38;5;28;01mif\u001b[39;00m ioargs\u001b[38;5;241m.\u001b[39mencoding \u001b[38;5;129;01mand\u001b[39;00m \u001b[38;5;124m\"\u001b[39m\u001b[38;5;124mb\u001b[39m\u001b[38;5;124m\"\u001b[39m \u001b[38;5;129;01mnot\u001b[39;00m \u001b[38;5;129;01min\u001b[39;00m ioargs\u001b[38;5;241m.\u001b[39mmode:\n\u001b[0;32m    872\u001b[0m         \u001b[38;5;66;03m# Encoding\u001b[39;00m\n\u001b[1;32m--> 873\u001b[0m         handle \u001b[38;5;241m=\u001b[39m \u001b[38;5;28;43mopen\u001b[39;49m\u001b[43m(\u001b[49m\n\u001b[0;32m    874\u001b[0m \u001b[43m            \u001b[49m\u001b[43mhandle\u001b[49m\u001b[43m,\u001b[49m\n\u001b[0;32m    875\u001b[0m \u001b[43m            \u001b[49m\u001b[43mioargs\u001b[49m\u001b[38;5;241;43m.\u001b[39;49m\u001b[43mmode\u001b[49m\u001b[43m,\u001b[49m\n\u001b[0;32m    876\u001b[0m \u001b[43m            \u001b[49m\u001b[43mencoding\u001b[49m\u001b[38;5;241;43m=\u001b[39;49m\u001b[43mioargs\u001b[49m\u001b[38;5;241;43m.\u001b[39;49m\u001b[43mencoding\u001b[49m\u001b[43m,\u001b[49m\n\u001b[0;32m    877\u001b[0m \u001b[43m            \u001b[49m\u001b[43merrors\u001b[49m\u001b[38;5;241;43m=\u001b[39;49m\u001b[43merrors\u001b[49m\u001b[43m,\u001b[49m\n\u001b[0;32m    878\u001b[0m \u001b[43m            \u001b[49m\u001b[43mnewline\u001b[49m\u001b[38;5;241;43m=\u001b[39;49m\u001b[38;5;124;43m\"\u001b[39;49m\u001b[38;5;124;43m\"\u001b[39;49m\u001b[43m,\u001b[49m\n\u001b[0;32m    879\u001b[0m \u001b[43m        \u001b[49m\u001b[43m)\u001b[49m\n\u001b[0;32m    880\u001b[0m     \u001b[38;5;28;01melse\u001b[39;00m:\n\u001b[0;32m    881\u001b[0m         \u001b[38;5;66;03m# Binary mode\u001b[39;00m\n\u001b[0;32m    882\u001b[0m         handle \u001b[38;5;241m=\u001b[39m \u001b[38;5;28mopen\u001b[39m(handle, ioargs\u001b[38;5;241m.\u001b[39mmode)\n",
      "\u001b[1;31mFileNotFoundError\u001b[0m: [Errno 2] No such file or directory: './Fechas_Convertidas.csv.csv'"
     ]
    }
   ],
   "source": [
    "import pandas as pd\n",
    "\n",
    "# Leer el archivo CSV\n",
    "df = pd.read_csv(\"Fechas_Convertidas.csv.csv\")\n",
    "\n",
    "# Convertir la columna 'fecha' a datetime con formato día/mes/año\n",
    "df['fecha'] = pd.to_datetime(df['fecha']).dt.strftime('%d/%m/%Y')#El .dt lo que hace e acceder a los atrib fecha-hr en la columna y dps con la fn strftime formatea la fecha en el formato de d/m/a\n",
    "\n",
    "# Mostrar el DataFrame\n",
    "df['fecha'][0]\n"
   ]
  },
  {
   "cell_type": "code",
   "execution_count": 49,
   "id": "d73a6695-b87e-43cd-bc9c-719a3164cbc2",
   "metadata": {},
   "outputs": [],
   "source": [
    "import pandas as pd\n",
    "\n",
    "\n",
    "df = pd.read_csv('fechas.csv')\n",
    "\n",
    "\n",
    "df['fecha'] = pd.to_datetime(df['fecha'],format='%d-%m-%Y')\n",
    "df['fecha'] = df['fecha']+pd.Timedelta(days = 5)"
   ]
  },
  {
   "cell_type": "code",
   "execution_count": 15,
   "id": "180fe21e-f47d-4d2e-954b-76de7d3a238c",
   "metadata": {
    "editable": true,
    "slideshow": {
     "slide_type": ""
    },
    "tags": []
   },
   "outputs": [],
   "source": [
    "import pandas as pd\n",
    "\n",
    "data = {\n",
    "    'Fecha': ['2024-03-19', '2024-03-20', '2024-03-21', '2024-03-22', '2024-03-23', '2024-03-24'],\n",
    "    'Producto': ['Manzanas', 'Peras', 'Naranjas', 'Plátanos', 'Uvas', 'Melocotones'],\n",
    "    'Cantidad': [23, 15, 18, 30, 8, 20],\n",
    "    'Precio': [1.2, 1.5, 1.0, 0.8, 2.0, 1.7]\n",
    "}\n",
    "\n",
    "df_ventas = pd.DataFrame(data)\n",
    "\n",
    "def guardar_en_excel(df_ventas):\n",
    "    df_ventas.to_excel('Untitled Folder/ventas1.xlsx',index = False)\n",
    "\n",
    "\n",
    "guardar_en_excel(df_ventas)"
   ]
  },
  {
   "cell_type": "code",
   "execution_count": 33,
   "id": "1f72ff17-3c58-49b6-b53f-28f5f4c578ea",
   "metadata": {
    "editable": true,
    "slideshow": {
     "slide_type": ""
    },
    "tags": []
   },
   "outputs": [
    {
     "data": {
      "text/plain": [
       "'19/03/2024'"
      ]
     },
     "execution_count": 33,
     "metadata": {},
     "output_type": "execute_result"
    }
   ],
   "source": [
    "import pandas as pd\n",
    "\n",
    "\n",
    "\n",
    "\n",
    "data = {\n",
    "    'Fecha': ['2024-03-19', '2024-03-20', '2024-03-21', '2024-03-22', '2024-03-23', '2024-03-24'],\n",
    "    'Producto': ['Manzanas', 'Peras', 'Naranjas', 'Plátanos', 'Uvas', 'Melocotones'],\n",
    "    'Cantidad': [23, 15, 18, 30, 8, 20],\n",
    "    'Precio': [1.2, 1.5, 1.0, 0.8, 2.0, 1.7]\n",
    "}\n",
    "\n",
    "\n",
    "df_ventas = pd.DataFrame(data)\n",
    "\n",
    "\n",
    "df_ventas['Fecha'] = pd.to_datetime(df_ventas['Fecha']).dt.strftime('%d/%m/%Y')\n",
    "\n",
    "def guardar_en_Excel(df):\n",
    "    df.to_excel('Carp/ventas2.xlsx',index=False)\n",
    "\n",
    "guardar_en_excel(df_ventas)\n",
    "    "
   ]
  },
  {
   "cell_type": "code",
   "execution_count": 40,
   "id": "7340e94d-e2ec-42fd-8e0f-33ce19e53ca9",
   "metadata": {
    "editable": true,
    "slideshow": {
     "slide_type": ""
    },
    "tags": []
   },
   "outputs": [],
   "source": [
    "import pandas as pd\n",
    "\n",
    "\n",
    "\n",
    "data = {\n",
    "    'Fecha': ['2024-03-19', '2024-03-20', '2024-03-21', '2024-03-22', '2024-03-23', '2024-03-24'],\n",
    "    'Producto': ['Manzanas', 'Peras', 'Naranjas', 'Plátanos', 'Uvas', 'Melocotones'],\n",
    "    'Cantidad': [23, 15, 18, 30, 8, 20],\n",
    "    'Precio': [1.2, 1.5, 1.0, 0.8, 2.0, 1.7]\n",
    "}\n",
    "\n",
    "\n",
    "df_ventas = pd.DataFrame(data)\n",
    "\n",
    "df_ventas['Precio_Total'] = pd.Series(df_ventas['Cantidad']*df_ventas['Precio'])\n",
    "\n",
    "def guardar_en_csv():\n",
    "    df_ventas.to_csv('Untitled Folder/ventas3.csv',index=False)\n",
    "\n",
    "guardar_en_csv()"
   ]
  },
  {
   "cell_type": "code",
   "execution_count": 130,
   "id": "f0183dac-1bf5-4ddb-b5f1-7941e8898bfa",
   "metadata": {
    "editable": true,
    "slideshow": {
     "slide_type": ""
    },
    "tags": []
   },
   "outputs": [
    {
     "data": {
      "text/plain": [
       "<function matplotlib.pyplot.show(close=None, block=None)>"
      ]
     },
     "execution_count": 130,
     "metadata": {},
     "output_type": "execute_result"
    },
    {
     "data": {
      "image/png": "[encoded data removed]",
      "text/plain": [
       "<Figure size 640x480 with 1 Axes>"
      ]
     },
     "metadata": {},
     "output_type": "display_data"
    }
   ],
   "source": [
    "#Práctica de noche no udemy\n",
    "import pandas as pd\n",
    "\n",
    "#Cargamos en .csv\n",
    "df = pd.read_csv('ventas_tienda.csv')\n",
    "\n",
    "#Muestra de los 1ero 5 registros\n",
    "#df.head(5)\n",
    "\n",
    "\n",
    "#Cálculo total de ventas:\n",
    "'''\n",
    "Cantidad = df['Cantidad'].max()\n",
    "Nom_producto = df.groupby('Producto')['Cantidad'].sum().idxmax()\n",
    "print(f\"El prod más vendido es el: {Nom_producto} con {Cantidad} unidades\")\n",
    "'''\n",
    "\n",
    "#Cuantos clientes unicos compraron\n",
    "#df.groupby('Cliente')['Total'].nunique().count()#Agrupalo por clientes,dps decime sacame cuanto clientes gastaron por al menos un prod(con nunique() que te ayuda a obtener los valores que únicos) por medio de la serie total y contamelos con count()\n",
    "\n",
    "#Pasar la serie a datetime y agrup por mes\n",
    "\n",
    "df['Fecha'] = pd.to_datetime(df['Fecha'])#Pasaje\n",
    "df['Mes'] = df['Fecha'].dt.month#Creacion de una nueva serie mes que metemos dentro de ella solo el número de los meses en base a la fecha\n",
    "agrup = df.groupby('Mes')['Total'].sum()#Y acá hacemos la agrupacion para ver el total de ventas en los meses que hay\n",
    "\n",
    "\n",
    "#Mostrar con graf de línea los ingresos totales por mes\n",
    "plt.plot(agrup)\n",
    "plt.ylabel('Ingresos Totales')\n",
    "plt.xlabel('Mes')\n",
    "plt.xticks(ticks=range(1, 4), labels=['Ene', 'Feb', 'Mar'])\n",
    "plt.show"
   ]
  },
  {
   "cell_type": "code",
   "execution_count": 7,
   "id": "0f2a8194-4e7b-4ad1-8113-cae9ec48cc41",
   "metadata": {},
   "outputs": [
    {
     "data": {
      "text/html": [
       "<div>\n",
       "<style scoped>\n",
       "    .dataframe tbody tr th:only-of-type {\n",
       "        vertical-align: middle;\n",
       "    }\n",
       "\n",
       "    .dataframe tbody tr th {\n",
       "        vertical-align: top;\n",
       "    }\n",
       "\n",
       "    .dataframe thead th {\n",
       "        text-align: right;\n",
       "    }\n",
       "</style>\n",
       "<table border=\"1\" class=\"dataframe\">\n",
       "  <thead>\n",
       "    <tr style=\"text-align: right;\">\n",
       "      <th></th>\n",
       "      <th>Nombre</th>\n",
       "      <th>Edad</th>\n",
       "      <th>Ciudad</th>\n",
       "    </tr>\n",
       "  </thead>\n",
       "  <tbody>\n",
       "    <tr>\n",
       "      <th>fila1</th>\n",
       "      <td>Ana</td>\n",
       "      <td>25</td>\n",
       "      <td>Madrid</td>\n",
       "    </tr>\n",
       "    <tr>\n",
       "      <th>fila2</th>\n",
       "      <td>Luis</td>\n",
       "      <td>30</td>\n",
       "      <td>Barcelona</td>\n",
       "    </tr>\n",
       "    <tr>\n",
       "      <th>fila3</th>\n",
       "      <td>Carmen</td>\n",
       "      <td>22</td>\n",
       "      <td>Valencia</td>\n",
       "    </tr>\n",
       "  </tbody>\n",
       "</table>\n",
       "</div>"
      ],
      "text/plain": [
       "       Nombre  Edad     Ciudad\n",
       "fila1     Ana    25     Madrid\n",
       "fila2    Luis    30  Barcelona\n",
       "fila3  Carmen    22   Valencia"
      ]
     },
     "execution_count": 7,
     "metadata": {},
     "output_type": "execute_result"
    }
   ],
   "source": [
    "import pandas as pd\n",
    "\n",
    "\n",
    "df = pd.DataFrame({\n",
    "    'Nombre': ['Ana', 'Luis', 'Carmen'],\n",
    "    'Edad': [25, 30, 22],\n",
    "    'Ciudad': ['Madrid', 'Barcelona', 'Valencia']\n",
    "}, index=['fila1', 'fila2', 'fila3'])\n",
    "\n",
    "resultado = df.loc['fila2']\n",
    "resultado\n"
   ]
  },
  {
   "cell_type": "code",
   "execution_count": 15,
   "id": "d61bf3b1-3253-4e04-a012-fb3ab9d02eae",
   "metadata": {},
   "outputs": [
    {
     "data": {
      "text/html": [
       "<div>\n",
       "<style scoped>\n",
       "    .dataframe tbody tr th:only-of-type {\n",
       "        vertical-align: middle;\n",
       "    }\n",
       "\n",
       "    .dataframe tbody tr th {\n",
       "        vertical-align: top;\n",
       "    }\n",
       "\n",
       "    .dataframe thead th {\n",
       "        text-align: right;\n",
       "    }\n",
       "</style>\n",
       "<table border=\"1\" class=\"dataframe\">\n",
       "  <thead>\n",
       "    <tr style=\"text-align: right;\">\n",
       "      <th></th>\n",
       "      <th>Nombre</th>\n",
       "      <th>Edad</th>\n",
       "      <th>Ciudad</th>\n",
       "    </tr>\n",
       "  </thead>\n",
       "  <tbody>\n",
       "    <tr>\n",
       "      <th>fila1</th>\n",
       "      <td>Ana</td>\n",
       "      <td>25</td>\n",
       "      <td>Madrid</td>\n",
       "    </tr>\n",
       "    <tr>\n",
       "      <th>fila3</th>\n",
       "      <td>Carmen</td>\n",
       "      <td>22</td>\n",
       "      <td>Valencia</td>\n",
       "    </tr>\n",
       "  </tbody>\n",
       "</table>\n",
       "</div>"
      ],
      "text/plain": [
       "       Nombre  Edad    Ciudad\n",
       "fila1     Ana    25    Madrid\n",
       "fila3  Carmen    22  Valencia"
      ]
     },
     "execution_count": 15,
     "metadata": {},
     "output_type": "execute_result"
    }
   ],
   "source": [
    "import pandas as pd\n",
    "\n",
    "\n",
    "df = pd.DataFrame({\n",
    "    'Nombre': ['Ana', 'Luis', 'Carmen'],\n",
    "    'Edad': [25, 30, 22],\n",
    "    'Ciudad': ['Madrid', 'Barcelona', 'Valencia']\n",
    "}, index=['fila1', 'fila2', 'fila3'])\n",
    "\n",
    "\n",
    "resultado = df.loc[['fila1','fila3']]\n",
    "resultado"
   ]
  },
  {
   "cell_type": "code",
   "execution_count": 32,
   "id": "95cccab4-d401-4cc9-aa70-509a70bf929d",
   "metadata": {},
   "outputs": [
    {
     "data": {
      "text/html": [
       "<div>\n",
       "<style scoped>\n",
       "    .dataframe tbody tr th:only-of-type {\n",
       "        vertical-align: middle;\n",
       "    }\n",
       "\n",
       "    .dataframe tbody tr th {\n",
       "        vertical-align: top;\n",
       "    }\n",
       "\n",
       "    .dataframe thead th {\n",
       "        text-align: right;\n",
       "    }\n",
       "</style>\n",
       "<table border=\"1\" class=\"dataframe\">\n",
       "  <thead>\n",
       "    <tr style=\"text-align: right;\">\n",
       "      <th></th>\n",
       "      <th>C</th>\n",
       "      <th>D</th>\n",
       "    </tr>\n",
       "  </thead>\n",
       "  <tbody>\n",
       "    <tr>\n",
       "      <th>0</th>\n",
       "      <td>9</td>\n",
       "      <td>13</td>\n",
       "    </tr>\n",
       "    <tr>\n",
       "      <th>1</th>\n",
       "      <td>10</td>\n",
       "      <td>14</td>\n",
       "    </tr>\n",
       "  </tbody>\n",
       "</table>\n",
       "</div>"
      ],
      "text/plain": [
       "    C   D\n",
       "0   9  13\n",
       "1  10  14"
      ]
     },
     "execution_count": 32,
     "metadata": {},
     "output_type": "execute_result"
    }
   ],
   "source": [
    "import pandas as pd\n",
    "\n",
    "df = pd.DataFrame({\n",
    "    'A': [1, 2, 3, 4],\n",
    "    'B': [5, 6, 7, 8],\n",
    "    'C': [9, 10, 11, 12],\n",
    "    'D': [13, 14, 15, 16]\n",
    "})\n",
    "\n",
    "resultado = df.iloc[0:2:,[2,3]]\n",
    "resultado"
   ]
  },
  {
   "cell_type": "code",
   "execution_count": 7,
   "id": "235baca5-fbce-48a5-9dc7-6aea6f6c3974",
   "metadata": {},
   "outputs": [
    {
     "data": {
      "text/plain": [
       "np.float64(5863277.0)"
      ]
     },
     "execution_count": 7,
     "metadata": {},
     "output_type": "execute_result"
    }
   ],
   "source": [
    "import pandas as pd\n",
    "import numpy as np \n",
    "\n",
    "\n",
    "datos = {\n",
    "    \"Ciudad\": [\"Ciudad de México\", \"Buenos Aires\", \"Río de Janeiro\", \"Lima\", \"Bogotá\", \"Santiago de Chile\", \"São Paulo\", \"La Habana\", \"Cancún\", \"Cartagena\"],\n",
    "    \"País\": [\"México\", \"Argentina\", \"Brasil\", \"Perú\", \"Colombia\", \"Chile\", \"Brasil\", \"Cuba\", \"México\", \"Colombia\"],\n",
    "    \"Población\": [9265833, 3059574, 6748314, 9756020, 7181663, 6199241, 12333146, 2164182, 888124, 1036671],\n",
    "    \"Visitantes\": [21000000, 15000000, 13000000, 9000000, 8000000, 7500000, 20000000, 4000000, 5000000, 3000000]\n",
    "}\n",
    "\n",
    "\n",
    "df = pd.DataFrame(datos)\n",
    "\n",
    "\n",
    "promedio_poblacion = df['Población'].mean().round()\n",
    "promedio_poblacion\n"
   ]
  },
  {
   "cell_type": "code",
   "execution_count": 10,
   "id": "545befae-0b22-4a4e-8400-41d6a4cb9e35",
   "metadata": {},
   "outputs": [
    {
     "data": {
      "text/plain": [
       "np.int64(3000000)"
      ]
     },
     "execution_count": 10,
     "metadata": {},
     "output_type": "execute_result"
    }
   ],
   "source": [
    "import pandas as pd\n",
    "import numpy as np \n",
    "\n",
    "\n",
    "datos = {\n",
    "    \"Ciudad\": [\"Ciudad de México\", \"Buenos Aires\", \"Río de Janeiro\", \"Lima\", \"Bogotá\", \"Santiago de Chile\", \"São Paulo\", \"La Habana\", \"Cancún\", \"Cartagena\"],\n",
    "    \"País\": [\"México\", \"Argentina\", \"Brasil\", \"Perú\", \"Colombia\", \"Chile\", \"Brasil\", \"Cuba\", \"México\", \"Colombia\"],\n",
    "    \"Población\": [9265833, 3059574, 6748314, 9756020, 7181663, 6199241, 12333146, 2164182, 888124, 1036671],\n",
    "    \"Visitantes\": [21000000, 15000000, 13000000, 9000000, 8000000, 7500000, 20000000, 4000000, 5000000, 3000000]\n",
    "}\n",
    "\n",
    "df = pd.DataFrame(datos)\n",
    "min_visitantes = df['Visitantes'].min()\n",
    "min_visitantes"
   ]
  },
  {
   "cell_type": "code",
   "execution_count": 15,
   "id": "326bdee6-e3d9-4c0d-813a-016451ac52c6",
   "metadata": {},
   "outputs": [
    {
     "data": {
      "text/plain": [
       "np.int64(21000000)"
      ]
     },
     "execution_count": 15,
     "metadata": {},
     "output_type": "execute_result"
    }
   ],
   "source": [
    "import pandas as pd\n",
    "import numpy as np \n",
    "\n",
    "\n",
    "\n",
    "datos = {\n",
    "    \"Ciudad\": [\"Ciudad de México\", \"Buenos Aires\", \"Río de Janeiro\", \"Lima\", \"Bogotá\", \"Santiago de Chile\", \"São Paulo\", \"La Habana\", \"Cancún\", \"Cartagena\"],\n",
    "    \"País\": [\"México\", \"Argentina\", \"Brasil\", \"Perú\", \"Colombia\", \"Chile\", \"Brasil\", \"Cuba\", \"México\", \"Colombia\"],\n",
    "    \"Población\": [9265833, 3059574, 6748314, 9756020, 7181663, 6199241, 12333146, 2164182, 888124, 1036671],\n",
    "    \"Visitantes\": [21000000, 15000000, 13000000, 9000000, 8000000, 7500000, 20000000, 4000000, 5000000, 3000000]\n",
    "}\n",
    "\n",
    "\n",
    "\n",
    "df = pd.DataFrame(datos)\n",
    "\n",
    "max_visitantes = df['Visitantes'].max()\n",
    "max_visitantes"
   ]
  },
  {
   "cell_type": "code",
   "execution_count": 18,
   "id": "e65799df-145c-48c3-94e9-f652431538d2",
   "metadata": {},
   "outputs": [
    {
     "data": {
      "text/plain": [
       "array([ 1,  2,  3,  4,  5,  6,  7,  8,  9, 10])"
      ]
     },
     "execution_count": 18,
     "metadata": {},
     "output_type": "execute_result"
    }
   ],
   "source": [
    "import numpy as np\n",
    "arrays_enteros = np.array([1,2,3,4,5,6,7,8,9,10])\n",
    "arrays_enteros"
   ]
  },
  {
   "cell_type": "code",
   "execution_count": 23,
   "id": "ee99c6f7-ff52-432c-bb9d-e595539d54f3",
   "metadata": {},
   "outputs": [
    {
     "name": "stdout",
     "output_type": "stream",
     "text": [
      "Forma del array:  (10,)\n"
     ]
    }
   ],
   "source": [
    "import numpy as np\n",
    "arrays_enteros = np.array([1,2,3,4,5,6,7,8,9,10])\n",
    "forma_array = arrays_enteros.shape\n",
    "print('Forma del array: ', forma_array)"
   ]
  },
  {
   "cell_type": "code",
   "execution_count": 33,
   "id": "3db53f47-8aa3-4663-98fc-3d56c477c9ae",
   "metadata": {},
   "outputs": [
    {
     "data": {
      "text/plain": [
       "2"
      ]
     },
     "execution_count": 33,
     "metadata": {},
     "output_type": "execute_result"
    }
   ],
   "source": [
    "import numpy as np\n",
    "\n",
    "\n",
    "array_2d = np.array([[1,2,3],[4,5,6]])\n",
    "largo_array_2d = len(array_2d)"
   ]
  },
  {
   "cell_type": "code",
   "execution_count": 35,
   "id": "8d259948-a984-455d-b8d5-5eadcb315851",
   "metadata": {},
   "outputs": [
    {
     "data": {
      "text/plain": [
       "array([ 1,  2,  3,  4,  5,  6,  7,  8,  9, 10])"
      ]
     },
     "execution_count": 35,
     "metadata": {},
     "output_type": "execute_result"
    }
   ],
   "source": [
    "import numpy as np\n",
    "\n",
    "array1 = np.array([1,2,3,4,5])\n",
    "array2 = np.array([6,7,8,9,10])\n",
    "\n",
    "\n",
    "array_concatenado = np.concatenate([array1,array2])\n",
    "array_concatenado"
   ]
  },
  {
   "cell_type": "code",
   "execution_count": 41,
   "id": "b9d858d5-21a3-4631-b565-8e2aa7d5fca6",
   "metadata": {},
   "outputs": [
    {
     "data": {
      "text/plain": [
       "array([[1, 2, 3],\n",
       "       [4, 5, 6]])"
      ]
     },
     "execution_count": 41,
     "metadata": {},
     "output_type": "execute_result"
    }
   ],
   "source": [
    "import numpy as np\n",
    "\n",
    "array_original = np.array([1,2,3,4,5,6])\n",
    "array_reshaped = array_original.reshape(2,3)\n",
    "\n",
    "array_reshaped"
   ]
  },
  {
   "cell_type": "code",
   "execution_count": 49,
   "id": "1cc87d6c-0353-4986-9560-de95f37c582e",
   "metadata": {},
   "outputs": [
    {
     "data": {
      "text/plain": [
       "array([[ 5, 12],\n",
       "       [21, 32]])"
      ]
     },
     "execution_count": 49,
     "metadata": {},
     "output_type": "execute_result"
    }
   ],
   "source": [
    "import numpy as np\n",
    "\n",
    "A = np.array([[1,2],[3,4]])\n",
    "\n",
    "B = np.array([[5,6],[7,8]])\n",
    "\n",
    "\n",
    "suma_AB = A + B\n",
    "productoAB = A * B"
   ]
  },
  {
   "cell_type": "code",
   "execution_count": 54,
   "id": "9ff07484-6a05-4291-a74c-03342f5cb343",
   "metadata": {},
   "outputs": [
    {
     "data": {
      "text/plain": [
       "np.int64(6)"
      ]
     },
     "execution_count": 54,
     "metadata": {},
     "output_type": "execute_result"
    }
   ],
   "source": [
    "import numpy as np\n",
    "\n",
    "numeros = np.array([1,2,3,4,5,6,7,8,9,10])\n",
    "quinto_elemento = numeros[4]\n",
    "quinto_elemento"
   ]
  },
  {
   "cell_type": "code",
   "execution_count": 80,
   "id": "a37a8d86-180d-4f4c-8a34-9348e3b59e9f",
   "metadata": {},
   "outputs": [
    {
     "data": {
      "text/plain": [
       "array([4, 5, 6])"
      ]
     },
     "execution_count": 80,
     "metadata": {},
     "output_type": "execute_result"
    }
   ],
   "source": [
    "import numpy as np\n",
    "\n",
    "matriz = np.array(\n",
    "                 [[1,2,3],\n",
    "                 [4,5,6],\n",
    "                 [7,8,9]]\n",
    ")\n",
    "\n",
    "segunda_fila = matriz[1, :]\n",
    "segunda_fila"
   ]
  },
  {
   "cell_type": "code",
   "execution_count": 83,
   "id": "7e41cec6-c0f0-469e-bebf-b388bb3fdcf9",
   "metadata": {},
   "outputs": [
    {
     "data": {
      "text/plain": [
       "array([[False,  True, False],\n",
       "       [ True, False,  True],\n",
       "       [False,  True, False]])"
      ]
     },
     "execution_count": 83,
     "metadata": {},
     "output_type": "execute_result"
    }
   ],
   "source": [
    "import numpy as np\n",
    "\n",
    "\n",
    "matriz = np.array(\n",
    "    [[1,2,3],\n",
    "     [4,5,6],\n",
    "     [7,8,9]]\n",
    ")\n",
    "\n",
    "pares_impares = matriz  % 2 == 0\n",
    "pares_impares"
   ]
  },
  {
   "cell_type": "code",
   "execution_count": 87,
   "id": "58c1373b-3c67-4e0f-a90c-68aafdf721b2",
   "metadata": {},
   "outputs": [
    {
     "data": {
      "text/plain": [
       "array([[ 1,  2,  3,  4],\n",
       "       [ 5,  6,  7,  8],\n",
       "       [ 9, 10, 11, 12]])"
      ]
     },
     "execution_count": 87,
     "metadata": {},
     "output_type": "execute_result"
    }
   ],
   "source": [
    "import numpy as np\n",
    "\n",
    "\n",
    "array_original = np.array([1,2,3,4,5,6,7,8,9,10,11,12])\n",
    "\n",
    "array_reshape = array_original.reshape(-1,4)#Podría haver puesto 3 en vez de -1 pero tenemos 12 índices y 12 es divisible por 3\n",
    "array_reshape"
   ]
  },
  {
   "cell_type": "code",
   "execution_count": 90,
   "id": "b95f0c84-89a2-4200-ae33-36703c69cace",
   "metadata": {},
   "outputs": [
    {
     "data": {
      "text/plain": [
       "array([[1, 4],\n",
       "       [2, 5],\n",
       "       [3, 6]])"
      ]
     },
     "execution_count": 90,
     "metadata": {},
     "output_type": "execute_result"
    }
   ],
   "source": [
    "import numpy as np\n",
    "\n",
    "\n",
    "array_original = np.array([[1,2,3],[4,5,6]])\n",
    "array_modificado= array_original.transpose()\n",
    "array_modificado"
   ]
  },
  {
   "cell_type": "code",
   "execution_count": 93,
   "id": "1d9fd7ea-51a8-4f25-b469-41f7a7c97a26",
   "metadata": {},
   "outputs": [
    {
     "data": {
      "text/plain": [
       "array([1, 2, 3, 4, 5, 6])"
      ]
     },
     "execution_count": 93,
     "metadata": {},
     "output_type": "execute_result"
    }
   ],
   "source": [
    "import numpy as np\n",
    "array_original = np.array(\n",
    "    [[1,2,3],\n",
    "     [4,5,6]])\n",
    "\n",
    "array_aplanado = array_original.flatten()\n",
    "array_aplanado"
   ]
  },
  {
   "cell_type": "code",
   "execution_count": 4,
   "id": "59fb82f0-f180-4c46-a2ad-9143c564c207",
   "metadata": {},
   "outputs": [
    {
     "data": {
      "text/plain": [
       "array([[11, 13, 15, 17, 19],\n",
       "       [21, 23, 25, 27, 29],\n",
       "       [31, 33, 35, 37, 39],\n",
       "       [41, 43, 45, 47, 49],\n",
       "       [51, 53, 55, 57, 59]])"
      ]
     },
     "execution_count": 4,
     "metadata": {},
     "output_type": "execute_result"
    }
   ],
   "source": [
    "import numpy as np\n",
    "\n",
    "A=np.array([1,3,5,7,9])\n",
    "B = np.array([[10],[20],[30],[40],[50]])\n",
    "\n",
    "\n",
    "resultado = B + A\n",
    "resultado"
   ]
  },
  {
   "cell_type": "code",
   "execution_count": 8,
   "id": "b77459e4-48e5-4fb7-a435-de744ff6ace4",
   "metadata": {},
   "outputs": [
    {
     "data": {
      "text/plain": [
       "array([[ 10,  20,  30,  40,  50,  60,  70,  80,  90, 100],\n",
       "       [ 20,  40,  60,  80, 100, 120, 140, 160, 180, 200],\n",
       "       [ 30,  60,  90, 120, 150, 180, 210, 240, 270, 300],\n",
       "       [ 40,  80, 120, 160, 200, 240, 280, 320, 360, 400],\n",
       "       [ 50, 100, 150, 200, 250, 300, 350, 400, 450, 500]])"
      ]
     },
     "execution_count": 8,
     "metadata": {},
     "output_type": "execute_result"
    }
   ],
   "source": [
    "import numpy as np\n",
    "\n",
    "A =np.array([1,2,3,4,5,6,7,8,9,10])\n",
    "B = np.array([[10],[20],[30],[40],[50]])\n",
    "\n",
    "resultado = B * A\n",
    "resultado"
   ]
  },
  {
   "cell_type": "code",
   "execution_count": 10,
   "id": "996c84ec-82ad-429c-892e-9ded0bff768e",
   "metadata": {},
   "outputs": [
    {
     "data": {
      "text/plain": [
       "array([ 2.71828183,  7.3890561 , 20.08553692])"
      ]
     },
     "execution_count": 10,
     "metadata": {},
     "output_type": "execute_result"
    }
   ],
   "source": [
    "import numpy as np\n",
    "\n",
    "A = np.array([1,2,3])\n",
    "resultado = np.exp(A)\n",
    "resultado\n"
   ]
  },
  {
   "cell_type": "code",
   "execution_count": 14,
   "id": "f05d92e8-0386-48de-a324-38f27ec7edd9",
   "metadata": {},
   "outputs": [
    {
     "data": {
      "text/plain": [
       "array([False,  True, False,  True, False, False,  True])"
      ]
     },
     "execution_count": 14,
     "metadata": {},
     "output_type": "execute_result"
    }
   ],
   "source": [
    "import numpy as np\n",
    "\n",
    "\n",
    "array = np.array([3,np.nan,7,np.nan,0,4.5,np.nan])\n",
    "nan_presencia=np.isnan(array)\n",
    "nan_presencia"
   ]
  },
  {
   "cell_type": "code",
   "execution_count": 16,
   "id": "ad502d1d-f45d-43ca-8a8b-d57c24648735",
   "metadata": {},
   "outputs": [
    {
     "data": {
      "text/plain": [
       "np.float64(3.625)"
      ]
     },
     "execution_count": 16,
     "metadata": {},
     "output_type": "execute_result"
    }
   ],
   "source": [
    "import numpy as np\n",
    "\n",
    "\n",
    "array = np.array([3, np.nan, 7, np.nan, 0, 4.5, np.nan])\n",
    "\n",
    "promedio_sin_nans = np.nanmean(array)\n",
    "promedio_sin_nans"
   ]
  },
  {
   "cell_type": "code",
   "execution_count": 18,
   "id": "60aaa06a-0ada-49f3-95d3-d760304bcde6",
   "metadata": {},
   "outputs": [
    {
     "data": {
      "text/plain": [
       "array([3. , 0. , 7. , 0. , 0. , 4.5, 0. ])"
      ]
     },
     "execution_count": 18,
     "metadata": {},
     "output_type": "execute_result"
    }
   ],
   "source": [
    "import numpy as np\n",
    "\n",
    "array = np.array([3, np.nan, 7, np.nan, 0, 4.5, np.nan])\n",
    "\n",
    "sustituir_nans = np.where(np.isnan(array),0,array)\n",
    "sustituir_nans"
   ]
  },
  {
   "cell_type": "code",
   "execution_count": 39,
   "id": "15ee2904-99b4-4480-b717-398e70065ca5",
   "metadata": {},
   "outputs": [
    {
     "data": {
      "text/plain": [
       "array([[nan, nan, nan, nan, nan],\n",
       "       [nan,  1.,  2.,  3., nan],\n",
       "       [nan,  2.,  2.,  4., nan],\n",
       "       [17.,  7., 22., 46., nan],\n",
       "       [ 1.,  1.,  5.,  7., nan],\n",
       "       [nan,  3.,  4.,  7., nan]])"
      ]
     },
     "execution_count": 39,
     "metadata": {},
     "output_type": "execute_result"
    }
   ],
   "source": [
    "import numpy as np#Importación de numpy\n",
    "from io import StringIO#Importamos StringIO\n",
    "import pandas as pd\n",
    "#Creamos una cadena de datos\n",
    "datos =  \"\"\"\n",
    "Oro,Plata,Bronce,Total,Pais\n",
    ",1.0,2.0,3.0,Argentina\n",
    ",2.0,2.0,4.0,Armenia\n",
    "17,7.0,22.0,46.0,Australia\n",
    "1,1.0,5.0,7.0,Austria\n",
    ",3.0,4.0,7.0,Azerbaijan\n",
    "\"\"\"\n",
    "#Convert la cadena en un obj file-like usando StringIO\n",
    "datos_io = StringIO(datos)\n",
    "\n",
    "#Leemos la cadena y creamos el df\n",
    "pd.read_csv(datos_io)\n",
    "\n",
    "#guardamos el df en un arch llamado csv llamado datos.csv\n",
    "ruta = df.to_csv('datos.csv', index=False)\n",
    "\n",
    "ruta = 'datos.csv'\n",
    "datos = np.genfromtxt(ruta, delimiter=',')\n",
    "datos"
   ]
  },
  {
   "cell_type": "code",
   "execution_count": 40,
   "id": "f6921ba7-61a8-4d85-8ef8-d70e910ee988",
   "metadata": {},
   "outputs": [
    {
     "data": {
      "text/plain": [
       "array([[ 0.,  1.,  2.,  3.,  0.],\n",
       "       [ 0.,  2.,  2.,  4.,  0.],\n",
       "       [17.,  7., 22., 46.,  0.],\n",
       "       [ 1.,  1.,  5.,  7.,  0.],\n",
       "       [ 0.,  3.,  4.,  7.,  0.]])"
      ]
     },
     "execution_count": 40,
     "metadata": {},
     "output_type": "execute_result"
    }
   ],
   "source": [
    "import numpy as np#Importación de numpy\n",
    "from io import StringIO#Importamos StringIO\n",
    "import pandas as pd\n",
    "#Creamos una cadena de datos\n",
    "datos =  \"\"\"\n",
    "Oro,Plata,Bronce,Total,Pais\n",
    ",1.0,2.0,3.0,Argentina\n",
    ",2.0,2.0,4.0,Armenia\n",
    "17,7.0,22.0,46.0,Australia\n",
    "1,1.0,5.0,7.0,Austria\n",
    ",3.0,4.0,7.0,Azerbaijan\n",
    "\"\"\"\n",
    "#Convert la cadena en un obj file-like usando StringIO\n",
    "datos_io = StringIO(datos)\n",
    "\n",
    "#Leemos la cadena y creamos el df\n",
    "pd.read_csv(datos_io)\n",
    "\n",
    "#guardamos el df en un arch llamado csv llamado datos.csv\n",
    "ruta = df.to_csv('datos.csv', index=False)\n",
    "\n",
    "ruta = 'datos.csv'\n",
    "datos = np.genfromtxt(ruta, delimiter=',',skip_header=1,filling_values=0)\n",
    "datos"
   ]
  },
  {
   "cell_type": "code",
   "execution_count": 49,
   "id": "9433abed-3ea9-40f4-b037-ec43d995dd9c",
   "metadata": {},
   "outputs": [],
   "source": [
    "import numpy as np\n",
    "\n",
    "\n",
    "resultados = np.array([[1, 2, 3], [4, 5, 6], [7, 8, 9]])\n",
    "ruta = 'resultados_finales.csv'\n",
    "datos = np.savetxt(ruta,resultados,delimiter=',')\n"
   ]
  },
  {
   "cell_type": "code",
   "execution_count": 57,
   "id": "2aa38551-0fa0-4d8e-9e5f-1fd2fa05b7dc",
   "metadata": {},
   "outputs": [
    {
     "data": {
      "text/plain": [
       "array([['Manzana', 5],\n",
       "       ['Banana', 8],\n",
       "       ['Cereza', 3]], dtype=object)"
      ]
     },
     "execution_count": 57,
     "metadata": {},
     "output_type": "execute_result"
    }
   ],
   "source": [
    "import pandas as pd\n",
    "import numpy as np\n",
    "mi_dataframe = pd.DataFrame({\n",
    "    \n",
    "    'Frutas':['Manzana','Banana','Cereza'],\n",
    "    'Cantidad':[5,8,3]\n",
    "})\n",
    "\n",
    "array_frutas = mi_dataframe.values\n",
    "array_frutas"
   ]
  },
  {
   "cell_type": "code",
   "execution_count": 74,
   "id": "be2984b8-1f43-4d87-992c-92c410db69ac",
   "metadata": {},
   "outputs": [
    {
     "data": {
      "text/plain": [
       "array([['Manzana', 5],\n",
       "       ['Banana', 8]], dtype=object)"
      ]
     },
     "execution_count": 74,
     "metadata": {},
     "output_type": "execute_result"
    }
   ],
   "source": [
    "import pandas as pd\n",
    "import numpy as np\n",
    "\n",
    "mi_dataframe = pd.DataFrame({\n",
    "    'Frutas':[\"Manzana\", \"Banana\",\"Cereza\"],\n",
    "    'Cantidad':[5,8,3]\n",
    "})\n",
    "\n",
    "\n",
    "mi_dataframe_filtrado = mi_dataframe[mi_dataframe['Cantidad']>4]\n",
    "array_filtrado = mi_dataframe_filtrado.values\n",
    "array_filtrado"
   ]
  },
  {
   "cell_type": "code",
   "execution_count": 81,
   "id": "590de710-6429-4118-bda0-aec7099276b8",
   "metadata": {},
   "outputs": [
    {
     "data": {
      "text/html": [
       "<div>\n",
       "<style scoped>\n",
       "    .dataframe tbody tr th:only-of-type {\n",
       "        vertical-align: middle;\n",
       "    }\n",
       "\n",
       "    .dataframe tbody tr th {\n",
       "        vertical-align: top;\n",
       "    }\n",
       "\n",
       "    .dataframe thead th {\n",
       "        text-align: right;\n",
       "    }\n",
       "</style>\n",
       "<table border=\"1\" class=\"dataframe\">\n",
       "  <thead>\n",
       "    <tr style=\"text-align: right;\">\n",
       "      <th></th>\n",
       "      <th>Decenas</th>\n",
       "      <th>Centenas</th>\n",
       "    </tr>\n",
       "  </thead>\n",
       "  <tbody>\n",
       "    <tr>\n",
       "      <th>0</th>\n",
       "      <td>10</td>\n",
       "      <td>40</td>\n",
       "    </tr>\n",
       "    <tr>\n",
       "      <th>1</th>\n",
       "      <td>20</td>\n",
       "      <td>50</td>\n",
       "    </tr>\n",
       "    <tr>\n",
       "      <th>2</th>\n",
       "      <td>30</td>\n",
       "      <td>60</td>\n",
       "    </tr>\n",
       "  </tbody>\n",
       "</table>\n",
       "</div>"
      ],
      "text/plain": [
       "   Decenas  Centenas\n",
       "0       10        40\n",
       "1       20        50\n",
       "2       30        60"
      ]
     },
     "execution_count": 81,
     "metadata": {},
     "output_type": "execute_result"
    }
   ],
   "source": [
    "import pandas as pd\n",
    "import numpy as np\n",
    "\n",
    "mi_array = np.array([[10,40],[20,50],[30,60]])\n",
    "df_numeros = pd.DataFrame(mi_array,columns=['Decenas','Centenas'])\n",
    "df_numeros"
   ]
  },
  {
   "cell_type": "code",
   "execution_count": 4,
   "id": "6ac59eab-ff6f-46a1-b008-6a546176d3dc",
   "metadata": {},
   "outputs": [
    {
     "data": {
      "image/png": "[encoded data removed]",
      "text/plain": [
       "<Figure size 640x480 with 1 Axes>"
      ]
     },
     "metadata": {},
     "output_type": "display_data"
    }
   ],
   "source": [
    "import matplotlib.pyplot as plt\n",
    "\n",
    "numeros = [10, 15, 7, 10, 22]\n",
    "\n",
    "grafico_numeros = plt.plot(numeros)\n",
    "plt.show(grafico_numeros)"
   ]
  },
  {
   "cell_type": "code",
   "execution_count": 8,
   "id": "d4e9d10c-65a4-4a57-8803-7d89f503b0a9",
   "metadata": {},
   "outputs": [
    {
     "data": {
      "image/png": "[encoded data removed]",
      "text/plain": [
       "<Figure size 640x480 with 1 Axes>"
      ]
     },
     "metadata": {},
     "output_type": "display_data"
    }
   ],
   "source": [
    "import matplotlib.pyplot as plt\n",
    "\n",
    "\n",
    "\n",
    "numeros = [10, 15, 7, 10, 22]\n",
    "\n",
    "plt.figure(facecolor = 'green')\n",
    "grafico_verde_numeros = plt.plot(numeros)"
   ]
  },
  {
   "cell_type": "code",
   "execution_count": 10,
   "id": "5bf92372-eb6b-452a-923b-ac076b6fdd80",
   "metadata": {},
   "outputs": [
    {
     "data": {
      "image/png": "[encoded data removed]",
      "text/plain": [
       "<Figure size 640x480 with 4 Axes>"
      ]
     },
     "metadata": {},
     "output_type": "display_data"
    }
   ],
   "source": [
    "import matplotlib.pyplot as plt\n",
    "\n",
    "fig, axs = plt.subplots(nrows=2,ncols=2)"
   ]
  },
  {
   "cell_type": "code",
   "execution_count": 24,
   "id": "32636d13-2080-48db-9e9c-df56f2b98ee0",
   "metadata": {},
   "outputs": [
    {
     "data": {
      "image/png": "[encoded data removed]",
      "text/plain": [
       "<Figure size 640x480 with 1 Axes>"
      ]
     },
     "metadata": {},
     "output_type": "display_data"
    }
   ],
   "source": [
    "import matplotlib.pyplot as plt\n",
    "\n",
    "\n",
    "x = [1, 2, 3, 4, 5]\n",
    "y = [2, 3, 5, 7, 11]\n",
    "\n",
    "plt.grid(True)\n",
    "plt.plot(x,y)\n",
    "\n",
    "plt.show()\n"
   ]
  },
  {
   "cell_type": "code",
   "execution_count": 26,
   "id": "70b32982-4754-4250-b99d-6ab797d1fd11",
   "metadata": {},
   "outputs": [
    {
     "data": {
      "image/png": "[encoded data removed]",
      "text/plain": [
       "<Figure size 640x480 with 1 Axes>"
      ]
     },
     "metadata": {},
     "output_type": "display_data"
    }
   ],
   "source": [
    "import matplotlib.pyplot as plt\n",
    "\n",
    "\n",
    "x = [1, 2, 3, 4, 5]\n",
    "y = [2, 3, 5, 7, 11]\n",
    "\n",
    "plt.grid(True)\n",
    "plt.plot(x,y,'ro-')\n",
    "\n",
    "plt.show()\n"
   ]
  },
  {
   "cell_type": "code",
   "execution_count": 27,
   "id": "64c452be-fc6c-4a73-b602-550676317774",
   "metadata": {},
   "outputs": [
    {
     "data": {
      "image/png": "[encoded data removed]",
      "text/plain": [
       "<Figure size 640x480 with 1 Axes>"
      ]
     },
     "metadata": {},
     "output_type": "display_data"
    }
   ],
   "source": [
    "import matplotlib.pyplot as plt\n",
    "\n",
    "\n",
    "x = [1, 2, 3, 4, 5]\n",
    "y = [2, 3, 5, 7, 11]\n",
    "\n",
    "plt.grid(True)\n",
    "plt.plot(x,y,'ro-')\n",
    "plt.axis([0,10,0,12])\n",
    "plt.show()\n"
   ]
  },
  {
   "cell_type": "code",
   "execution_count": 34,
   "id": "3e6fba44-b2d5-4795-b04b-ef71a845bba6",
   "metadata": {},
   "outputs": [
    {
     "data": {
      "image/png": "[encoded data removed]",
      "text/plain": [
       "<Figure size 640x480 with 1 Axes>"
      ]
     },
     "metadata": {},
     "output_type": "display_data"
    }
   ],
   "source": [
    "import pandas as pd\n",
    "import matplotlib.pyplot as plt\n",
    "import numpy as np\n",
    "\n",
    "datos = np.random.randn(1000)\n",
    "plt.hist(datos)\n",
    "plt.show()"
   ]
  },
  {
   "cell_type": "code",
   "execution_count": 42,
   "id": "671039ad-451b-4b43-976f-5c3e34c2288a",
   "metadata": {},
   "outputs": [
    {
     "data": {
      "image/png": "[encoded data removed]",
      "text/plain": [
       "<Figure size 640x480 with 1 Axes>"
      ]
     },
     "metadata": {},
     "output_type": "display_data"
    }
   ],
   "source": [
    "import pandas as pd\n",
    "import matplotlib.pyplot as plt\n",
    "import numpy as np\n",
    "\n",
    "datos = np.random.randn(1000)\n",
    "plt.hist(datos,bins=30,color='blue',edgecolor='black')\n",
    "plt.show()"
   ]
  },
  {
   "cell_type": "code",
   "execution_count": 47,
   "id": "dcbc436b-47c2-4959-88c9-fe442aca8c9b",
   "metadata": {},
   "outputs": [
    {
     "data": {
      "image/png": "[encoded data removed]",
      "text/plain": [
       "<Figure size 640x480 with 1 Axes>"
      ]
     },
     "metadata": {},
     "output_type": "display_data"
    }
   ],
   "source": [
    "import pandas as pd\n",
    "import matplotlib.pyplot as plt\n",
    "import numpy as np\n",
    "\n",
    "\n",
    "\n",
    "x1 = np.random.randn(1000)\n",
    "x2 = np.random.randn(500)\n",
    "x3 = np.random.randn(100)\n",
    "\n",
    "plt.hist(x1,bins=40,alpha=0.5,histtype='stepfilled')\n",
    "plt.hist(x2,bins=40,alpha=0.5,histtype='stepfilled')\n",
    "plt.hist(x1,bins=40,alpha=0.5,histtype='stepfilled')\n",
    "\n",
    "plt.show()"
   ]
  }
 ],
 "metadata": {
  "kernelspec": {
   "display_name": "Python 3 (ipykernel)",
   "language": "python",
   "name": "python3"
  },
  "language_info": {
   "codemirror_mode": {
    "name": "ipython",
    "version": 3
   },
   "file_extension": ".py",
   "mimetype": "text/x-python",
   "name": "python",
   "nbconvert_exporter": "python",
   "pygments_lexer": "ipython3",
   "version": "3.11.0"
  }
 },
 "nbformat": 4,
 "nbformat_minor": 5
}
