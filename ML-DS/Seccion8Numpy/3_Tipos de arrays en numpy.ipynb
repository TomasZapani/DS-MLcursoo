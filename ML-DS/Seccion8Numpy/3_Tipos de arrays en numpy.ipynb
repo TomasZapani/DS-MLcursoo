{
 "cells": [
  {
   "cell_type": "code",
   "execution_count": 1,
   "id": "18860610-acdd-4a13-9cdb-09e2be5b7f80",
   "metadata": {},
   "outputs": [],
   "source": [
    "import numpy as np"
   ]
  },
  {
   "cell_type": "code",
   "execution_count": 2,
   "id": "7c5872c8-c98f-41fa-b396-0574cfdf5aef",
   "metadata": {},
   "outputs": [
    {
     "data": {
      "text/plain": [
       "array([1, 2, 3])"
      ]
     },
     "execution_count": 2,
     "metadata": {},
     "output_type": "execute_result"
    }
   ],
   "source": [
    "#Array unidimensional, pq solo tiene el largo y no el alto\n",
    "array = np.array([1,2,3])\n",
    "array"
   ]
  },
  {
   "cell_type": "code",
   "execution_count": 13,
   "id": "b6a81812-8149-4435-95db-fc1ffeb29b57",
   "metadata": {},
   "outputs": [
    {
     "data": {
      "text/plain": [
       "3"
      ]
     },
     "execution_count": 13,
     "metadata": {},
     "output_type": "execute_result"
    }
   ],
   "source": [
    "len(array)#Nos va a dev el nro total de elementos que hay en nuestro de array"
   ]
  },
  {
   "cell_type": "code",
   "execution_count": 5,
   "id": "244a7dfb-abd5-4383-8fb8-64d377a1c229",
   "metadata": {},
   "outputs": [
    {
     "data": {
      "text/plain": [
       "(3,)"
      ]
     },
     "execution_count": 5,
     "metadata": {},
     "output_type": "execute_result"
    }
   ],
   "source": [
    "array.shape#Acá vamos a ver que tiene una sola dimensión y que tiene solo el largo demostrandonos sus elementos internos"
   ]
  },
  {
   "cell_type": "code",
   "execution_count": 9,
   "id": "57e3c4d6-1cea-4f90-97cf-c33a1126a415",
   "metadata": {},
   "outputs": [
    {
     "data": {
      "text/plain": [
       "array([[1, 2, 3],\n",
       "       [4, 5, 6]])"
      ]
     },
     "execution_count": 9,
     "metadata": {},
     "output_type": "execute_result"
    }
   ],
   "source": [
    "#array bidimensional\n",
    "array_2d = np.array([[1,2,3],[4,5,6]])\n",
    "array_2d"
   ]
  },
  {
   "cell_type": "code",
   "execution_count": 10,
   "id": "93069788-38cb-4848-aba9-5c305889609e",
   "metadata": {},
   "outputs": [
    {
     "data": {
      "text/plain": [
       "2"
      ]
     },
     "execution_count": 10,
     "metadata": {},
     "output_type": "execute_result"
    }
   ],
   "source": [
    "len(array_2d)#Vemos el largo de mi array 2d y el result será 2, pq tenemos dos sublistas [[],[]]"
   ]
  },
  {
   "cell_type": "code",
   "execution_count": 11,
   "id": "df4a8eb7-3f94-49cc-badd-3564d52ef3a3",
   "metadata": {},
   "outputs": [
    {
     "data": {
      "text/plain": [
       "(2, 3)"
      ]
     },
     "execution_count": 11,
     "metadata": {},
     "output_type": "execute_result"
    }
   ],
   "source": [
    "array_2d.shape#Acá vemos su forma, y nos dará sus filas que como vimos son 2 y sus columnas que son 3"
   ]
  }
 ],
 "metadata": {
  "kernelspec": {
   "display_name": "Python 3 (ipykernel)",
   "language": "python",
   "name": "python3"
  },
  "language_info": {
   "codemirror_mode": {
    "name": "ipython",
    "version": 3
   },
   "file_extension": ".py",
   "mimetype": "text/x-python",
   "name": "python",
   "nbconvert_exporter": "python",
   "pygments_lexer": "ipython3",
   "version": "3.12.5"
  }
 },
 "nbformat": 4,
 "nbformat_minor": 5
}
