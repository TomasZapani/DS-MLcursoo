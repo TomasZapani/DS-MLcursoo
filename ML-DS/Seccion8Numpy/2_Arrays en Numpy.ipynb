{
 "cells": [
  {
   "cell_type": "code",
   "execution_count": 12,
   "id": "abc12f5d-5ad2-4fe2-87d4-3e4b32cfd6c6",
   "metadata": {},
   "outputs": [],
   "source": [
    "import pandas as pd\n",
    "import numpy as np\n",
    "import time"
   ]
  },
  {
   "cell_type": "markdown",
   "id": "e1b44403-1e53-481d-9840-df00cd7ab905",
   "metadata": {},
   "source": [
    "El array de numpy es parecido a una lista norma, el tema está en que un array de numpy es mucho más rápido, más poderoso, etc etc "
   ]
  },
  {
   "cell_type": "code",
   "execution_count": 6,
   "id": "7cbedefa-1163-4d6e-b5fd-5eafc6503eb9",
   "metadata": {},
   "outputs": [
    {
     "data": {
      "text/plain": [
       "array([1, 2, 3, 4, 5])"
      ]
     },
     "execution_count": 6,
     "metadata": {},
     "output_type": "execute_result"
    }
   ],
   "source": [
    "#Creando un array gracias con el método de np .array()\n",
    "mi_array = np.array([1,2,3,4,5])\n",
    "mi_array"
   ]
  },
  {
   "cell_type": "code",
   "execution_count": 5,
   "id": "26e5b636-e224-4715-97af-db41dd213e80",
   "metadata": {},
   "outputs": [
    {
     "data": {
      "text/plain": [
       "numpy.ndarray"
      ]
     },
     "execution_count": 5,
     "metadata": {},
     "output_type": "execute_result"
    }
   ],
   "source": [
    "type(mi_array)#Es de objeto tipo array"
   ]
  },
  {
   "cell_type": "code",
   "execution_count": 9,
   "id": "ee764d4e-0097-45fb-b357-c6762b48c02b",
   "metadata": {},
   "outputs": [],
   "source": [
    "lista_grande = list(range(1000000))#Creacion de una lista con un millon de elementos\n",
    "array_grande = np.array([lista_grande])#Metemos dentro del array la lista"
   ]
  },
  {
   "cell_type": "code",
   "execution_count": 10,
   "id": "81c89f58-2890-4c21-b4a2-fa339272da6e",
   "metadata": {},
   "outputs": [
    {
     "data": {
      "text/plain": [
       "list"
      ]
     },
     "execution_count": 10,
     "metadata": {},
     "output_type": "execute_result"
    }
   ],
   "source": [
    "type(lista_grande)#Será de tipo list"
   ]
  },
  {
   "cell_type": "code",
   "execution_count": 11,
   "id": "d1f561df-e3c9-42d9-bd01-b79b13320d43",
   "metadata": {},
   "outputs": [
    {
     "data": {
      "text/plain": [
       "numpy.ndarray"
      ]
     },
     "execution_count": 11,
     "metadata": {},
     "output_type": "execute_result"
    }
   ],
   "source": [
    "type(array_grande)#Será de tipo ndarray"
   ]
  },
  {
   "cell_type": "markdown",
   "id": "794294fd-824c-4b9c-980f-04582565aa4a",
   "metadata": {},
   "source": [
    "Comparativas de tiempo entre arrays y listas, para demostrar que los arryas son más rápidos"
   ]
  },
  {
   "cell_type": "code",
   "execution_count": 13,
   "id": "66f636fc-a8e0-4d35-9258-60dea40adc28",
   "metadata": {},
   "outputs": [
    {
     "name": "stdout",
     "output_type": "stream",
     "text": [
      "Tiempo Lista:  0.03545880317687988\n"
     ]
    }
   ],
   "source": [
    "#Vemos el tiempo en lista\n",
    "inicio_lista = time.time()#Marcar el tiempo inicial\n",
    "\n",
    "for i in lista_grande:\n",
    "    i**2#Calcula el cuadrado de cada elemento\n",
    "\n",
    "fin_lista = time.time()#Maraca el final del tiempo\n",
    "print('Tiempo Lista: ',fin_lista - inicio_lista)#Mide la dif"
   ]
  },
  {
   "cell_type": "code",
   "execution_count": 14,
   "id": "77608aee-f4e7-4440-972c-05b4ed8bd25c",
   "metadata": {},
   "outputs": [
    {
     "name": "stdout",
     "output_type": "stream",
     "text": [
      "Tiempo array:  0.002262592315673828\n"
     ]
    }
   ],
   "source": [
    "#Vemos el tiempo en array\n",
    "inicio_array = time.time()#Incio tiempo\n",
    "array_grande ** 2#Operacion vectorizada en numpy, es decir que las operaciones se aplican en todo el array sin bucles explícitos\n",
    "fin_array = time.time()#Final tiempo\n",
    "print('Tiempo array: ',fin_array - inicio_array)#Cálculo del tiempo"
   ]
  }
 ],
 "metadata": {
  "kernelspec": {
   "display_name": "Python 3 (ipykernel)",
   "language": "python",
   "name": "python3"
  },
  "language_info": {
   "codemirror_mode": {
    "name": "ipython",
    "version": 3
   },
   "file_extension": ".py",
   "mimetype": "text/x-python",
   "name": "python",
   "nbconvert_exporter": "python",
   "pygments_lexer": "ipython3",
   "version": "3.11.0"
  }
 },
 "nbformat": 4,
 "nbformat_minor": 5
}
