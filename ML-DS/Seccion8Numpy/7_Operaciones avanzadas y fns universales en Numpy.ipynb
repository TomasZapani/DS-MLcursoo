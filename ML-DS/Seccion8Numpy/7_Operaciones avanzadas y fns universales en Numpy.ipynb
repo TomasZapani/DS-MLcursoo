{
 "cells": [
  {
   "cell_type": "code",
   "execution_count": 1,
   "id": "675bc89f-f109-4000-a016-1bb987f1970f",
   "metadata": {},
   "outputs": [],
   "source": [
    "import numpy as np"
   ]
  },
  {
   "cell_type": "code",
   "execution_count": 2,
   "id": "7256c79d-c8c1-4fa9-8756-faa2487e0a5d",
   "metadata": {},
   "outputs": [
    {
     "data": {
      "text/plain": [
       "array([1, 2, 3])"
      ]
     },
     "execution_count": 2,
     "metadata": {},
     "output_type": "execute_result"
    }
   ],
   "source": [
    "array1 = np.array([1,2,3])\n",
    "array1"
   ]
  },
  {
   "cell_type": "code",
   "execution_count": 4,
   "id": "b4e6d7b3-7132-408f-915c-9e0f29dd923d",
   "metadata": {},
   "outputs": [
    {
     "data": {
      "text/plain": [
       "array([[ 0],\n",
       "       [10],\n",
       "       [20],\n",
       "       [30]])"
      ]
     },
     "execution_count": 4,
     "metadata": {},
     "output_type": "execute_result"
    }
   ],
   "source": [
    "array2 = np.array(\n",
    "                   [[0]\n",
    "                   ,[10]\n",
    "                   ,[20]\n",
    "                   ,[30]]\n",
    ")\n",
    "\n",
    "array2"
   ]
  },
  {
   "cell_type": "markdown",
   "id": "2a817052-c307-4e34-9697-cf69b1db7a2a",
   "metadata": {},
   "source": [
    "Operacion de suma con dos arrays de distintas formas, uno es unidimensional y el otro es bidimensional, esto se denomina como fenómeno broadcasting"
   ]
  },
  {
   "cell_type": "code",
   "execution_count": 5,
   "id": "cbc27bfd-9ade-4e91-8f46-9b127fb933b7",
   "metadata": {},
   "outputs": [
    {
     "data": {
      "text/plain": [
       "array([[ 1,  2,  3],\n",
       "       [11, 12, 13],\n",
       "       [21, 22, 23],\n",
       "       [31, 32, 33]])"
      ]
     },
     "execution_count": 5,
     "metadata": {},
     "output_type": "execute_result"
    }
   ],
   "source": [
    "broadcast_suma = array2 + array1\n",
    "broadcast_suma#Acá lo que sucede es que el array1 que es unidimensional se sumará con el array2 que es bidimensional, pero esto:[1,2,3] este array se sumará a [0],[10],[20],[30] con cada uno de estos arrays específicamente con sus elementos interno, por ende tendriamos algo asi: 0+1,0+2,0+3=[1,2,3], 10+1,10+2,10+3=[11,12,13] y asi... con todos los elementos del array "
   ]
  },
  {
   "cell_type": "code",
   "execution_count": 6,
   "id": "d5d2854a-af4f-4611-86b3-903d3023ac18",
   "metadata": {},
   "outputs": [
    {
     "data": {
      "text/plain": [
       "array([[ 0,  0,  0],\n",
       "       [10, 20, 30],\n",
       "       [20, 40, 60],\n",
       "       [30, 60, 90]])"
      ]
     },
     "execution_count": 6,
     "metadata": {},
     "output_type": "execute_result"
    }
   ],
   "source": [
    "broadcast_multiplic = array2 * array1\n",
    "broadcast_multiplic#Acá se produce lo mismo que arriba"
   ]
  },
  {
   "cell_type": "markdown",
   "id": "e2c569d3-1674-4172-bebd-72ce233bf2c0",
   "metadata": {},
   "source": [
    "Funciones universales en Numpy(UFUNC)"
   ]
  },
  {
   "cell_type": "code",
   "execution_count": 16,
   "id": "4a3ae7be-2018-46e8-bb8b-312f2fc9f422",
   "metadata": {},
   "outputs": [],
   "source": [
    "a = np.array([1,2,3])\n",
    "b = np.array([4,5,6])"
   ]
  },
  {
   "cell_type": "code",
   "execution_count": 17,
   "id": "f880b7c6-7695-43b6-ad79-ea61d798ca36",
   "metadata": {},
   "outputs": [
    {
     "data": {
      "text/plain": [
       "array([5, 7, 9])"
      ]
     },
     "execution_count": 17,
     "metadata": {},
     "output_type": "execute_result"
    }
   ],
   "source": [
    "resultado = np.add(a,b)\n",
    "resultado#Acá obtendremos una suma de elemento por elemento de acuerdo a la posicion de cada uno: 1+4,2+5,3+6 y esto gracias a la fn de numpy a"
   ]
  },
  {
   "cell_type": "code",
   "execution_count": 19,
   "id": "12892404-2e40-4daf-93e0-c51bf2cf2975",
   "metadata": {},
   "outputs": [
    {
     "data": {
      "text/plain": [
       "array([-3, -3, -3])"
      ]
     },
     "execution_count": 19,
     "metadata": {},
     "output_type": "execute_result"
    }
   ],
   "source": [
    "resultado = np.subtract(a,b)\n",
    "resultado#Acá sucederá lo mismo pero estamos restando"
   ]
  },
  {
   "cell_type": "code",
   "execution_count": 20,
   "id": "c481ab28-504b-460a-b640-76a798aad43d",
   "metadata": {},
   "outputs": [
    {
     "data": {
      "text/plain": [
       "array([ 4, 10, 18])"
      ]
     },
     "execution_count": 20,
     "metadata": {},
     "output_type": "execute_result"
    }
   ],
   "source": [
    "resultado = np.multiply(a,b)\n",
    "resultado#Acá sucederá lo mismo pero estamos multiplicando"
   ]
  },
  {
   "cell_type": "code",
   "execution_count": 21,
   "id": "4cb789d9-f618-4904-96de-3cc7cf885144",
   "metadata": {},
   "outputs": [
    {
     "data": {
      "text/plain": [
       "array([0.25, 0.4 , 0.5 ])"
      ]
     },
     "execution_count": 21,
     "metadata": {},
     "output_type": "execute_result"
    }
   ],
   "source": [
    "resultado = np.divide(a,b)\n",
    "resultado#Acá sucederá lo mismo pero estamos dividiendo"
   ]
  },
  {
   "cell_type": "markdown",
   "id": "99af7b57-42f7-450c-a03f-dbd1bc873529",
   "metadata": {},
   "source": [
    "Exponencial"
   ]
  },
  {
   "cell_type": "code",
   "execution_count": 26,
   "id": "3bf25104-ec9f-4259-8b44-650fc137da73",
   "metadata": {},
   "outputs": [
    {
     "data": {
      "text/plain": [
       "array([ 2.71828183,  7.3890561 , 20.08553692])"
      ]
     },
     "execution_count": 26,
     "metadata": {},
     "output_type": "execute_result"
    }
   ],
   "source": [
    "#Asi hacemos el exponencial gracias a la fn .exp()\n",
    "resultado2 = np.exp(a)\n",
    "resultado2"
   ]
  },
  {
   "cell_type": "code",
   "execution_count": null,
   "id": "ec68c8f5-28a3-427f-9d6f-8a3f9a52b1b7",
   "metadata": {},
   "outputs": [],
   "source": [
    "Logarítmo"
   ]
  },
  {
   "cell_type": "code",
   "execution_count": 34,
   "id": "dc8af5b3-89fc-4da3-bb1e-079f00c574f9",
   "metadata": {},
   "outputs": [
    {
     "data": {
      "text/plain": [
       "array([0.        , 0.69314718, 1.09861229])"
      ]
     },
     "execution_count": 34,
     "metadata": {},
     "output_type": "execute_result"
    }
   ],
   "source": [
    "resultado3 = np.log(a)\n",
    "resultado3"
   ]
  },
  {
   "cell_type": "code",
   "execution_count": 30,
   "id": "9d0a3658-f78a-4b7e-93af-fdeb9330299a",
   "metadata": {},
   "outputs": [
    {
     "data": {
      "text/plain": [
       "array([0.        , 0.30103   , 0.47712125])"
      ]
     },
     "execution_count": 30,
     "metadata": {},
     "output_type": "execute_result"
    }
   ],
   "source": [
    "resultado3 = np.log10(a)#Le podemos meter la base tb, ej:log2(),log10()....\n",
    "resultado3"
   ]
  },
  {
   "cell_type": "markdown",
   "id": "aca89187-7a52-4280-8275-189fe789e748",
   "metadata": {},
   "source": [
    "Raíz cuadrada"
   ]
  },
  {
   "cell_type": "code",
   "execution_count": 32,
   "id": "c9f994f2-1de5-43fd-a1aa-ea3b971f93a6",
   "metadata": {},
   "outputs": [
    {
     "data": {
      "text/plain": [
       "array([1.        , 1.41421356, 1.73205081])"
      ]
     },
     "execution_count": 32,
     "metadata": {},
     "output_type": "execute_result"
    }
   ],
   "source": [
    "resultado5 = np.sqrt(a)#sqrt() es la fn para obtener la raíz cuadrada\n",
    "resultado5"
   ]
  },
  {
   "cell_type": "markdown",
   "id": "6b698ae2-9578-4207-862a-35def4356db7",
   "metadata": {},
   "source": [
    "Hay mas cosas para ver sobre ufunc ya que hay muchísimas fns mas que se usan lo mejor es verlas y repasarlas en el cuaderno de JN del día 8"
   ]
  }
 ],
 "metadata": {
  "kernelspec": {
   "display_name": "Python 3 (ipykernel)",
   "language": "python",
   "name": "python3"
  },
  "language_info": {
   "codemirror_mode": {
    "name": "ipython",
    "version": 3
   },
   "file_extension": ".py",
   "mimetype": "text/x-python",
   "name": "python",
   "nbconvert_exporter": "python",
   "pygments_lexer": "ipython3",
   "version": "3.12.5"
  }
 },
 "nbformat": 4,
 "nbformat_minor": 5
}
