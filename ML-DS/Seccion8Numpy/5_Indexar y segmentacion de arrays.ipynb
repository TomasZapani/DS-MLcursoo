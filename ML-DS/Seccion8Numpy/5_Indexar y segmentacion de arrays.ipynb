{
 "cells": [
  {
   "cell_type": "code",
   "execution_count": 2,
   "id": "c23f0443-49bd-467b-9052-a6112a555427",
   "metadata": {},
   "outputs": [],
   "source": [
    "import numpy as np"
   ]
  },
  {
   "cell_type": "code",
   "execution_count": 3,
   "id": "225abc54-6f02-48c7-8b8f-2bd54b7b6af0",
   "metadata": {},
   "outputs": [],
   "source": [
    "array1d = np.array([1,2,3,4,5])"
   ]
  },
  {
   "cell_type": "code",
   "execution_count": 4,
   "id": "654b160a-166b-47bf-badb-701e615e0212",
   "metadata": {},
   "outputs": [],
   "source": [
    "array2d = np.array([\n",
    "    [1,2,3],\n",
    "    [4,5,6],\n",
    "    [7,8,9]\n",
    "])"
   ]
  },
  {
   "cell_type": "code",
   "execution_count": 5,
   "id": "54c8d9e1-dbe4-41a6-a2ac-502c242c1843",
   "metadata": {},
   "outputs": [
    {
     "data": {
      "text/plain": [
       "np.int64(1)"
      ]
     },
     "execution_count": 5,
     "metadata": {},
     "output_type": "execute_result"
    }
   ],
   "source": [
    "array1d[0]#Acceso al primer elemento del array"
   ]
  },
  {
   "cell_type": "code",
   "execution_count": 6,
   "id": "32e52c56-8b86-4505-abe4-a4266f3d182e",
   "metadata": {},
   "outputs": [
    {
     "data": {
      "text/plain": [
       "np.int64(5)"
      ]
     },
     "execution_count": 6,
     "metadata": {},
     "output_type": "execute_result"
    }
   ],
   "source": [
    "array1d[-1]#Acá al ser - llegamos al ult elemento del array"
   ]
  },
  {
   "cell_type": "code",
   "execution_count": 7,
   "id": "5f655c02-fb84-48cd-920e-b7179e7b262f",
   "metadata": {},
   "outputs": [
    {
     "data": {
      "text/plain": [
       "array([1, 2, 3])"
      ]
     },
     "execution_count": 7,
     "metadata": {},
     "output_type": "execute_result"
    }
   ],
   "source": [
    "array2d[0]#Así al ser bidimensional no accedemos al elemento, sino q accedemos a la primer fila pq el array2d está compuesta por filas y las filas por elementos todo esto pq es bidimensional"
   ]
  },
  {
   "cell_type": "markdown",
   "id": "907282da-f97c-4f6b-8f1a-a33a2bec75fc",
   "metadata": {},
   "source": [
    "Acceso a un ínidice específico de un array bidimensional"
   ]
  },
  {
   "cell_type": "code",
   "execution_count": 8,
   "id": "c17f5551-6226-4bf1-85c7-39152576d0d3",
   "metadata": {},
   "outputs": [
    {
     "data": {
      "text/plain": [
       "np.int64(6)"
      ]
     },
     "execution_count": 8,
     "metadata": {},
     "output_type": "execute_result"
    }
   ],
   "source": [
    "array2d[1][2]#Así accedo al índice osea el número específico del elemento-fila 1. El 1er [] marca el elemento y 2do [] el índice"
   ]
  },
  {
   "cell_type": "code",
   "execution_count": 9,
   "id": "600974da-9390-4c72-adaa-70113942f01d",
   "metadata": {},
   "outputs": [
    {
     "data": {
      "text/plain": [
       "np.int64(6)"
      ]
     },
     "execution_count": 9,
     "metadata": {},
     "output_type": "execute_result"
    }
   ],
   "source": [
    "array2d[1,2]#Esto es lo mismo que el de arriba, da lo mismo pero hecho de otra forma"
   ]
  },
  {
   "cell_type": "markdown",
   "id": "5cc9d7d4-fbb3-4f1e-8cab-1a417d3efea8",
   "metadata": {},
   "source": [
    "Slincing"
   ]
  },
  {
   "cell_type": "code",
   "execution_count": 10,
   "id": "c2bd231b-5144-409d-a105-5532f8a11d40",
   "metadata": {},
   "outputs": [
    {
     "data": {
      "text/plain": [
       "array([2, 3, 4])"
      ]
     },
     "execution_count": 10,
     "metadata": {},
     "output_type": "execute_result"
    }
   ],
   "source": [
    "array1d[1:4]#Accedemos de tal índice a tal otro de esta forma, desde el uno hasta el cuatro, pero hay que decir que el ult numero nunca se incluye osea el 4"
   ]
  },
  {
   "cell_type": "markdown",
   "id": "38951f61-c8ca-4edc-a61f-54a84369e7bc",
   "metadata": {},
   "source": [
    "Slicing para arrays bidimensionales"
   ]
  },
  {
   "cell_type": "code",
   "execution_count": 18,
   "id": "29477727-574a-4031-b4a5-f9552f67ab28",
   "metadata": {},
   "outputs": [
    {
     "data": {
      "text/plain": [
       "array([4, 5, 6])"
      ]
     },
     "execution_count": 18,
     "metadata": {},
     "output_type": "execute_result"
    }
   ],
   "source": [
    "array2d[1, :]#Así accedo al todos los ínidices del elemento 1, pq a todos?? pq al ponero dps del 1 los dos : quiere decir que quiero acceder a todos"
   ]
  },
  {
   "cell_type": "code",
   "execution_count": 19,
   "id": "112246c1-6a7a-4e14-a5dc-d02ff03045f2",
   "metadata": {},
   "outputs": [
    {
     "data": {
      "text/plain": [
       "array([4, 5])"
      ]
     },
     "execution_count": 19,
     "metadata": {},
     "output_type": "execute_result"
    }
   ],
   "source": [
    "array2d[1, 0:2]#Esto es similar al anterior pero acá solo accedemos a los dos 1eros indices"
   ]
  },
  {
   "cell_type": "markdown",
   "id": "7cd61977-6fc7-41ab-b885-8aaf98f6ae8e",
   "metadata": {},
   "source": [
    "Slicing para obtener una columna completa"
   ]
  },
  {
   "cell_type": "code",
   "execution_count": 23,
   "id": "4a1f4ab7-9ec8-4436-b647-969b6465a3f9",
   "metadata": {},
   "outputs": [
    {
     "data": {
      "text/plain": [
       "array([[1, 2],\n",
       "       [4, 5],\n",
       "       [7, 8]])"
      ]
     },
     "execution_count": 23,
     "metadata": {},
     "output_type": "execute_result"
    }
   ],
   "source": [
    "array2d[:,1]#Estamos accediendo  a la columna entera gracias a los : y dps específicamos q índices queremos tomar de esa columna-conj de elementos"
   ]
  },
  {
   "cell_type": "code",
   "execution_count": 26,
   "id": "247867fe-dd77-4416-8cbd-f798e3ceffff",
   "metadata": {},
   "outputs": [
    {
     "data": {
      "text/plain": [
       "array([[2, 3],\n",
       "       [5, 6],\n",
       "       [8, 9]])"
      ]
     },
     "execution_count": 26,
     "metadata": {},
     "output_type": "execute_result"
    }
   ],
   "source": [
    "array2d[:,1:3]#Lo mismo que el anterior pero... aca accedemos a más de un índice"
   ]
  },
  {
   "cell_type": "code",
   "execution_count": 24,
   "id": "ba23f313-d389-4848-855d-f84f8b6ec741",
   "metadata": {},
   "outputs": [
    {
     "data": {
      "text/plain": [
       "array([[1, 2],\n",
       "       [4, 5]])"
      ]
     },
     "execution_count": 24,
     "metadata": {},
     "output_type": "execute_result"
    }
   ],
   "source": [
    "array2d[:2,:2]#Acá accedemos desde el elemento 0 hasta el 1(acrdate que el ult num no incluye) y a los ínidices desde el 0 hasta el 1"
   ]
  },
  {
   "cell_type": "markdown",
   "id": "f5ef584c-7c6b-4594-b4a1-8ee4a1a062f7",
   "metadata": {},
   "source": [
    "Indexacion booleana:permite seleccionar elementos de un arrays segun la cond que le demos "
   ]
  },
  {
   "cell_type": "code",
   "execution_count": 27,
   "id": "5772cee7-0048-42a5-9d8e-56623c209e7b",
   "metadata": {},
   "outputs": [
    {
     "data": {
      "text/plain": [
       "array([False, False, False,  True,  True])"
      ]
     },
     "execution_count": 27,
     "metadata": {},
     "output_type": "execute_result"
    }
   ],
   "source": [
    "array1d > 3#Esto dev el array pero modif los valores y diciendo cuales cumple la cond y cuales no representados en valores booleanos"
   ]
  },
  {
   "cell_type": "code",
   "execution_count": 28,
   "id": "9830f30d-264d-47c2-970e-2414abcd6daf",
   "metadata": {},
   "outputs": [
    {
     "data": {
      "text/plain": [
       "array([[False,  True, False],\n",
       "       [ True, False,  True],\n",
       "       [False,  True, False]])"
      ]
     },
     "execution_count": 28,
     "metadata": {},
     "output_type": "execute_result"
    }
   ],
   "source": [
    "array2d  % 2 == 0#Acá tb le pasamos una cond diciendo que si es par dev los valores booleanos True o False dependiendo de quien sea par o no  "
   ]
  }
 ],
 "metadata": {
  "kernelspec": {
   "display_name": "Python 3 (ipykernel)",
   "language": "python",
   "name": "python3"
  },
  "language_info": {
   "codemirror_mode": {
    "name": "ipython",
    "version": 3
   },
   "file_extension": ".py",
   "mimetype": "text/x-python",
   "name": "python",
   "nbconvert_exporter": "python",
   "pygments_lexer": "ipython3",
   "version": "3.12.5"
  }
 },
 "nbformat": 4,
 "nbformat_minor": 5
}
