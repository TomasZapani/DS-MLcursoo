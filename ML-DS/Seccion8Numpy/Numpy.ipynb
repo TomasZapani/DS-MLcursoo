{
 "cells": [
  {
   "cell_type": "code",
   "execution_count": 1,
   "id": "24127ac2-06e6-4dd3-ae0a-f71af64b8bb4",
   "metadata": {},
   "outputs": [],
   "source": []
  }
 ],
 "metadata": {
  "kernelspec": {
   "display_name": "Python 3 (ipykernel)",
   "language": "python",
   "name": "python3"
  },
  "language_info": {
   "codemirror_mode": {
    "name": "ipython",
    "version": 3
   },
   "file_extension": ".py",
   "mimetype": "text/x-python",
   "name": "python",
   "nbconvert_exporter": "python",
   "pygments_lexer": "ipython3",
   "version": "3.12.5"
  }
 },
 "nbformat": 4,
 "nbformat_minor": 5
}
