{
 "cells": [
  {
   "cell_type": "code",
   "execution_count": 4,
   "id": "c9e6068a-21d4-4d47-8d83-70bb895b7a38",
   "metadata": {},
   "outputs": [],
   "source": [
    "#Importaciones de las librerías\n",
    "import numpy as np\n",
    "import pandas as pd"
   ]
  },
  {
   "cell_type": "markdown",
   "id": "afefe04b-eba3-48b1-94c8-899c8f3d07c0",
   "metadata": {},
   "source": [
    "Cargar datos"
   ]
  },
  {
   "cell_type": "code",
   "execution_count": 5,
   "id": "8e1054f9-bdfe-4226-adea-1c3888fa53e7",
   "metadata": {},
   "outputs": [
    {
     "data": {
      "text/html": [
       "<div>\n",
       "<style scoped>\n",
       "    .dataframe tbody tr th:only-of-type {\n",
       "        vertical-align: middle;\n",
       "    }\n",
       "\n",
       "    .dataframe tbody tr th {\n",
       "        vertical-align: top;\n",
       "    }\n",
       "\n",
       "    .dataframe thead th {\n",
       "        text-align: right;\n",
       "    }\n",
       "</style>\n",
       "<table border=\"1\" class=\"dataframe\">\n",
       "  <thead>\n",
       "    <tr style=\"text-align: right;\">\n",
       "      <th></th>\n",
       "      <th>Fecha</th>\n",
       "      <th>Temperatura</th>\n",
       "      <th>Precipitación</th>\n",
       "      <th>Humedad</th>\n",
       "    </tr>\n",
       "  </thead>\n",
       "  <tbody>\n",
       "    <tr>\n",
       "      <th>0</th>\n",
       "      <td>01/01/2010</td>\n",
       "      <td>17.440675</td>\n",
       "      <td>10.957482</td>\n",
       "      <td>52.384637</td>\n",
       "    </tr>\n",
       "    <tr>\n",
       "      <th>1</th>\n",
       "      <td>02/01/2010</td>\n",
       "      <td>25.759468</td>\n",
       "      <td>5.315628</td>\n",
       "      <td>30.633530</td>\n",
       "    </tr>\n",
       "    <tr>\n",
       "      <th>2</th>\n",
       "      <td>03/01/2010</td>\n",
       "      <td>20.138169</td>\n",
       "      <td>15.317706</td>\n",
       "      <td>41.496715</td>\n",
       "    </tr>\n",
       "    <tr>\n",
       "      <th>3</th>\n",
       "      <td>04/01/2010</td>\n",
       "      <td>17.244159</td>\n",
       "      <td>13.151008</td>\n",
       "      <td>90.684704</td>\n",
       "    </tr>\n",
       "    <tr>\n",
       "      <th>4</th>\n",
       "      <td>05/01/2010</td>\n",
       "      <td>11.182740</td>\n",
       "      <td>16.413667</td>\n",
       "      <td>22.116422</td>\n",
       "    </tr>\n",
       "  </tbody>\n",
       "</table>\n",
       "</div>"
      ],
      "text/plain": [
       "        Fecha  Temperatura  Precipitación    Humedad\n",
       "0  01/01/2010    17.440675      10.957482  52.384637\n",
       "1  02/01/2010    25.759468       5.315628  30.633530\n",
       "2  03/01/2010    20.138169      15.317706  41.496715\n",
       "3  04/01/2010    17.244159      13.151008  90.684704\n",
       "4  05/01/2010    11.182740      16.413667  22.116422"
      ]
     },
     "execution_count": 5,
     "metadata": {},
     "output_type": "execute_result"
    }
   ],
   "source": [
    "df = pd.read_csv('datos_meteorologicos.csv')\n",
    "df.head(5)"
   ]
  },
  {
   "cell_type": "markdown",
   "id": "f71461d6-b167-44a4-b50e-939014a1a785",
   "metadata": {},
   "source": [
    "Exploración de los datos con Pandas:\n",
    "1_Observar las 1eras filas\n",
    "2_Ver el tamaño del dataset\n",
    "3_Ver los nombres de la columna\n",
    "4_Ver la info gnal de los datos\n",
    "5_Obtener estadísticas de las columnas nuércias\n",
    "6_Ver si hay valores nulos"
   ]
  },
  {
   "cell_type": "code",
   "execution_count": 43,
   "id": "f6996243-6978-42fd-a994-112fa2f219c6",
   "metadata": {},
   "outputs": [
    {
     "data": {
      "text/html": [
       "<div>\n",
       "<style scoped>\n",
       "    .dataframe tbody tr th:only-of-type {\n",
       "        vertical-align: middle;\n",
       "    }\n",
       "\n",
       "    .dataframe tbody tr th {\n",
       "        vertical-align: top;\n",
       "    }\n",
       "\n",
       "    .dataframe thead th {\n",
       "        text-align: right;\n",
       "    }\n",
       "</style>\n",
       "<table border=\"1\" class=\"dataframe\">\n",
       "  <thead>\n",
       "    <tr style=\"text-align: right;\">\n",
       "      <th></th>\n",
       "      <th>Fecha</th>\n",
       "      <th>Temperatura</th>\n",
       "      <th>Precipitación</th>\n",
       "      <th>Humedad</th>\n",
       "    </tr>\n",
       "  </thead>\n",
       "  <tbody>\n",
       "    <tr>\n",
       "      <th>0</th>\n",
       "      <td>01/01/2010</td>\n",
       "      <td>17.440675</td>\n",
       "      <td>10.957482</td>\n",
       "      <td>52.384637</td>\n",
       "    </tr>\n",
       "    <tr>\n",
       "      <th>1</th>\n",
       "      <td>02/01/2010</td>\n",
       "      <td>25.759468</td>\n",
       "      <td>5.315628</td>\n",
       "      <td>30.633530</td>\n",
       "    </tr>\n",
       "    <tr>\n",
       "      <th>2</th>\n",
       "      <td>03/01/2010</td>\n",
       "      <td>20.138169</td>\n",
       "      <td>15.317706</td>\n",
       "      <td>41.496715</td>\n",
       "    </tr>\n",
       "    <tr>\n",
       "      <th>3</th>\n",
       "      <td>04/01/2010</td>\n",
       "      <td>17.244159</td>\n",
       "      <td>13.151008</td>\n",
       "      <td>90.684704</td>\n",
       "    </tr>\n",
       "    <tr>\n",
       "      <th>4</th>\n",
       "      <td>05/01/2010</td>\n",
       "      <td>11.182740</td>\n",
       "      <td>16.413667</td>\n",
       "      <td>22.116422</td>\n",
       "    </tr>\n",
       "  </tbody>\n",
       "</table>\n",
       "</div>"
      ],
      "text/plain": [
       "        Fecha  Temperatura  Precipitación    Humedad\n",
       "0  01/01/2010    17.440675      10.957482  52.384637\n",
       "1  02/01/2010    25.759468       5.315628  30.633530\n",
       "2  03/01/2010    20.138169      15.317706  41.496715\n",
       "3  04/01/2010    17.244159      13.151008  90.684704\n",
       "4  05/01/2010    11.182740      16.413667  22.116422"
      ]
     },
     "execution_count": 43,
     "metadata": {},
     "output_type": "execute_result"
    }
   ],
   "source": [
    "#Observación de las 1eras filas del df\n",
    "df.head(5)"
   ]
  },
  {
   "cell_type": "code",
   "execution_count": 44,
   "id": "a2c526f0-eebc-4201-b9db-4fcdce44524d",
   "metadata": {},
   "outputs": [
    {
     "data": {
      "text/plain": [
       "str"
      ]
     },
     "execution_count": 44,
     "metadata": {},
     "output_type": "execute_result"
    }
   ],
   "source": [
    "#Que tipo de datos son los valores de la columna fecha\n",
    "type(df['Fecha'][0])"
   ]
  },
  {
   "cell_type": "code",
   "execution_count": 45,
   "id": "56ffa612-f447-4ae4-a4ab-9d65cbbc36ed",
   "metadata": {},
   "outputs": [
    {
     "data": {
      "text/plain": [
       "(5110, 4)"
      ]
     },
     "execution_count": 45,
     "metadata": {},
     "output_type": "execute_result"
    }
   ],
   "source": [
    "#Tamaño del dataset\n",
    "df.shape\n",
    "#->Cuenta con 5110 filas y 4 columnas"
   ]
  },
  {
   "cell_type": "code",
   "execution_count": 46,
   "id": "e90d4463-e17f-448c-8738-075b0d4221c6",
   "metadata": {},
   "outputs": [
    {
     "data": {
      "text/plain": [
       "Index(['Fecha', 'Temperatura', 'Precipitación', 'Humedad'], dtype='object')"
      ]
     },
     "execution_count": 46,
     "metadata": {},
     "output_type": "execute_result"
    }
   ],
   "source": [
    "#Nombre de las columnas\n",
    "df.columns"
   ]
  },
  {
   "cell_type": "code",
   "execution_count": 47,
   "id": "a556b805-9900-4c38-8549-603215fc417e",
   "metadata": {},
   "outputs": [
    {
     "name": "stdout",
     "output_type": "stream",
     "text": [
      "<class 'pandas.core.frame.DataFrame'>\n",
      "RangeIndex: 5110 entries, 0 to 5109\n",
      "Data columns (total 4 columns):\n",
      " #   Column         Non-Null Count  Dtype  \n",
      "---  ------         --------------  -----  \n",
      " 0   Fecha          5110 non-null   object \n",
      " 1   Temperatura    4855 non-null   float64\n",
      " 2   Precipitación  4855 non-null   float64\n",
      " 3   Humedad        4855 non-null   float64\n",
      "dtypes: float64(3), object(1)\n",
      "memory usage: 159.8+ KB\n"
     ]
    }
   ],
   "source": [
    "#Ver los tipos de datos y valores nulos\n",
    "df.info()"
   ]
  },
  {
   "cell_type": "code",
   "execution_count": 48,
   "id": "0654dd51-1e4c-40b2-86ec-8250aeea5749",
   "metadata": {},
   "outputs": [
    {
     "data": {
      "text/html": [
       "<div>\n",
       "<style scoped>\n",
       "    .dataframe tbody tr th:only-of-type {\n",
       "        vertical-align: middle;\n",
       "    }\n",
       "\n",
       "    .dataframe tbody tr th {\n",
       "        vertical-align: top;\n",
       "    }\n",
       "\n",
       "    .dataframe thead th {\n",
       "        text-align: right;\n",
       "    }\n",
       "</style>\n",
       "<table border=\"1\" class=\"dataframe\">\n",
       "  <thead>\n",
       "    <tr style=\"text-align: right;\">\n",
       "      <th></th>\n",
       "      <th>Temperatura</th>\n",
       "      <th>Precipitación</th>\n",
       "      <th>Humedad</th>\n",
       "    </tr>\n",
       "  </thead>\n",
       "  <tbody>\n",
       "    <tr>\n",
       "      <th>count</th>\n",
       "      <td>4855.000000</td>\n",
       "      <td>4855.000000</td>\n",
       "      <td>4855.000000</td>\n",
       "    </tr>\n",
       "    <tr>\n",
       "      <th>mean</th>\n",
       "      <td>14.889296</td>\n",
       "      <td>9.901604</td>\n",
       "      <td>54.359061</td>\n",
       "    </tr>\n",
       "    <tr>\n",
       "      <th>std</th>\n",
       "      <td>14.440466</td>\n",
       "      <td>5.801842</td>\n",
       "      <td>26.096345</td>\n",
       "    </tr>\n",
       "    <tr>\n",
       "      <th>min</th>\n",
       "      <td>-9.996378</td>\n",
       "      <td>0.003008</td>\n",
       "      <td>10.014980</td>\n",
       "    </tr>\n",
       "    <tr>\n",
       "      <th>25%</th>\n",
       "      <td>2.651777</td>\n",
       "      <td>4.756907</td>\n",
       "      <td>31.866578</td>\n",
       "    </tr>\n",
       "    <tr>\n",
       "      <th>50%</th>\n",
       "      <td>14.693274</td>\n",
       "      <td>9.853698</td>\n",
       "      <td>54.254478</td>\n",
       "    </tr>\n",
       "    <tr>\n",
       "      <th>75%</th>\n",
       "      <td>27.381451</td>\n",
       "      <td>14.966997</td>\n",
       "      <td>77.029500</td>\n",
       "    </tr>\n",
       "    <tr>\n",
       "      <th>max</th>\n",
       "      <td>39.998201</td>\n",
       "      <td>19.999559</td>\n",
       "      <td>99.996582</td>\n",
       "    </tr>\n",
       "  </tbody>\n",
       "</table>\n",
       "</div>"
      ],
      "text/plain": [
       "       Temperatura  Precipitación      Humedad\n",
       "count  4855.000000    4855.000000  4855.000000\n",
       "mean     14.889296       9.901604    54.359061\n",
       "std      14.440466       5.801842    26.096345\n",
       "min      -9.996378       0.003008    10.014980\n",
       "25%       2.651777       4.756907    31.866578\n",
       "50%      14.693274       9.853698    54.254478\n",
       "75%      27.381451      14.966997    77.029500\n",
       "max      39.998201      19.999559    99.996582"
      ]
     },
     "execution_count": 48,
     "metadata": {},
     "output_type": "execute_result"
    }
   ],
   "source": [
    "#Descripción estadística de las columnas numéricas \n",
    "df.describe()#Ver la media,desv estándar,percentiles, etc etc"
   ]
  },
  {
   "cell_type": "code",
   "execution_count": 49,
   "id": "1603188b-2449-4eae-ba74-0c5e9bb95954",
   "metadata": {},
   "outputs": [
    {
     "data": {
      "text/plain": [
       "Fecha              0\n",
       "Temperatura      255\n",
       "Precipitación    255\n",
       "Humedad          255\n",
       "dtype: int64"
      ]
     },
     "execution_count": 49,
     "metadata": {},
     "output_type": "execute_result"
    }
   ],
   "source": [
    "#Ver los val nulos\n",
    "df.isnull().sum()#Contabiliza los val nulos por columna"
   ]
  },
  {
   "cell_type": "code",
   "execution_count": 25,
   "id": "8cce3738-430b-4101-94f9-d3f6594f6d62",
   "metadata": {},
   "outputs": [
    {
     "data": {
      "text/plain": [
       "pandas._libs.tslibs.timestamps.Timestamp"
      ]
     },
     "execution_count": 25,
     "metadata": {},
     "output_type": "execute_result"
    }
   ],
   "source": []
  },
  {
   "cell_type": "markdown",
   "id": "79acd512-039d-4c59-823f-4f5ba7cebc07",
   "metadata": {},
   "source": [
    "Convertir las columnas del df en arrays"
   ]
  },
  {
   "cell_type": "code",
   "execution_count": 41,
   "id": "70eede76-5eda-4101-8f9f-b62b09dfa5bd",
   "metadata": {},
   "outputs": [
    {
     "name": "stdout",
     "output_type": "stream",
     "text": [
      "Temperatura: [17.4406752  25.75946832 20.1381688  ... 29.87359717         nan\n",
      " 37.30804318]\n",
      "Precipatación: [10.957482    5.31562765 15.31770609 ...  4.61501177         nan\n",
      "  7.33051023]\n",
      "Humedad: [52.38463749 30.63352983 41.49671458 ... 18.36284738         nan\n",
      " 50.64621058]\n"
     ]
    }
   ],
   "source": [
    "#Acá estoy quitando la columna de fecha \n",
    "temperatura = df['Temperatura'].to_numpy()\n",
    "precipitacion =  df['Precipitación'].to_numpy()\n",
    "humedad =  df['Humedad'].to_numpy()\n",
    "\n",
    "print(f'Temperatura: {temperatura}\\nPrecipatación: {precipitacion}\\nHumedad: {humedad}')"
   ]
  },
  {
   "cell_type": "markdown",
   "id": "eb924339-7059-4035-9478-0b9d498fa2d0",
   "metadata": {},
   "source": [
    "Identif los datos faltantes en los arrays  y reemplazarlos por el promedio de los valores del respectivo array"
   ]
  },
  {
   "cell_type": "code",
   "execution_count": 63,
   "id": "f178951e-d686-466b-861e-30a1cf5c1c74",
   "metadata": {},
   "outputs": [],
   "source": [
    "#Identif los nan de cada columna\n",
    "temp_nan = np.isnan(temperatura)\n",
    "precip_nan = np.isnan(precipitacion)\n",
    "humed_nan = np.isnan(humedad)"
   ]
  },
  {
   "cell_type": "code",
   "execution_count": 64,
   "id": "df6d6444-6af0-4d3d-8d0a-8d2c0134c767",
   "metadata": {},
   "outputs": [],
   "source": [
    "#Calculamos el promedio de cada columna quitando los nan\n",
    "temp_prom = np.nanmean(temperatura)\n",
    "precip_prom = np.nanmean(precipitacion)\n",
    "hum_prom = np.nanmean(humedad)"
   ]
  },
  {
   "cell_type": "code",
   "execution_count": 65,
   "id": "1927187c-3447-4862-82d0-205c06906251",
   "metadata": {},
   "outputs": [],
   "source": [
    "#Reemplazamos los nan por el promedio con el met where\n",
    "temp_reemplazo = np.where(np.isnan(temperatura),temp_prom,temperatura)\n",
    "precip_reemplazo =  np.where(np.isnan(precipitacion),precip_prom,precipitacion)\n",
    "hum_reemplazo=np.where(np.isnan(humedad),hum_prom,humedad)"
   ]
  },
  {
   "cell_type": "code",
   "execution_count": 67,
   "id": "6f4bdc64-92cb-4122-bb0a-ba3606ad96f9",
   "metadata": {},
   "outputs": [
    {
     "data": {
      "text/plain": [
       "array([52.38463749, 30.63352983, 41.49671458, ..., 18.36284738,\n",
       "       54.3590608 , 50.64621058])"
      ]
     },
     "execution_count": 67,
     "metadata": {},
     "output_type": "execute_result"
    }
   ],
   "source": []
  },
  {
   "cell_type": "markdown",
   "id": "debac184-278d-4513-b60c-b6d87860938c",
   "metadata": {},
   "source": [
    "Hacer análisis estádisticos:\n",
    "1_Temp promedio\n",
    "2_El total de precipitaciones\n",
    "3_La máxima humedad registrada\n",
    "4_La fecha mas calurosa\n",
    "5_La fecha mas fría"
   ]
  },
  {
   "cell_type": "code",
   "execution_count": 71,
   "id": "eadea7cf-5138-468b-ab7c-fd9e27141e71",
   "metadata": {},
   "outputs": [
    {
     "data": {
      "text/plain": [
       "14.889295723531713"
      ]
     },
     "execution_count": 71,
     "metadata": {},
     "output_type": "execute_result"
    }
   ],
   "source": [
    "#Temp prom\n",
    "temp_prom = np.mean(temp_nan)\n",
    "temp_prom"
   ]
  },
  {
   "cell_type": "code",
   "execution_count": 73,
   "id": "0632a622-6eed-4eb3-9378-f3b1f2eb9fcd",
   "metadata": {},
   "outputs": [
    {
     "data": {
      "text/plain": [
       "50597.19438939993"
      ]
     },
     "execution_count": 73,
     "metadata": {},
     "output_type": "execute_result"
    }
   ],
   "source": [
    "#Total promedio de precip\n",
    "total_precip = np.sum(precip_reemplazo)\n",
    "total_precip"
   ]
  },
  {
   "cell_type": "code",
   "execution_count": 74,
   "id": "c46b7a5f-3510-44e7-a033-3aeb4c3f20d7",
   "metadata": {},
   "outputs": [
    {
     "data": {
      "text/plain": [
       "99.99658156071747"
      ]
     },
     "execution_count": 74,
     "metadata": {},
     "output_type": "execute_result"
    }
   ],
   "source": [
    "#Máx humedad registrada\n",
    "max_humedad = np.max(hum_reemplazo)\n",
    "max_humedad"
   ]
  },
  {
   "cell_type": "code",
   "execution_count": 76,
   "id": "5622e4c5-d46a-40e2-8304-97e086563494",
   "metadata": {},
   "outputs": [
    {
     "data": {
      "text/plain": [
       "39.99820092713012"
      ]
     },
     "execution_count": 76,
     "metadata": {},
     "output_type": "execute_result"
    }
   ],
   "source": [
    "#Máxima calor\n",
    "mas_calor = np.max(temp_reemplazo)\n",
    "mas_calor"
   ]
  },
  {
   "cell_type": "code",
   "execution_count": 89,
   "id": "7f25e45b-7073-4c7e-a588-216b05fa029c",
   "metadata": {},
   "outputs": [
    {
     "data": {
      "text/plain": [
       "(array([2749], dtype=int64),)"
      ]
     },
     "execution_count": 89,
     "metadata": {},
     "output_type": "execute_result"
    }
   ],
   "source": [
    "#Empezar a enlazar el calor máx con la fecha mas calurosa\n",
    "registro_mas_caluroso = np.where(temp_reemplazo == mas_calor)\n",
    "registro_mas_caluroso"
   ]
  },
  {
   "cell_type": "code",
   "execution_count": 90,
   "id": "b2fd0d4b-2faf-4fc8-b769-0a1ff85004cc",
   "metadata": {},
   "outputs": [
    {
     "data": {
      "text/plain": [
       "2749   2017-07-12\n",
       "Name: Fecha, dtype: datetime64[ns]"
      ]
     },
     "execution_count": 90,
     "metadata": {},
     "output_type": "execute_result"
    }
   ],
   "source": [
    "#Enlace con la fecha\n",
    "fecha_mas_calurosa = df.iloc[registro_mas_caluroso]['Fecha']\n",
    "fecha_mas_calurosa"
   ]
  },
  {
   "cell_type": "code",
   "execution_count": 97,
   "id": "048ae40f-2771-42d5-86d3-2ed2c7bbc451",
   "metadata": {},
   "outputs": [
    {
     "data": {
      "text/plain": [
       "Timestamp('2010-01-01 00:00:00')"
      ]
     },
     "execution_count": 97,
     "metadata": {},
     "output_type": "execute_result"
    }
   ],
   "source": [
    "#Obtener fecha mas fría\n",
    "fecha_mas_fría = df.iloc[np.where(temp_prom == np.min(temp_prom))[0][0]]['Fecha']\n",
    "fecha_mas_fría"
   ]
  }
 ],
 "metadata": {
  "kernelspec": {
   "display_name": "Python 3 (ipykernel)",
   "language": "python",
   "name": "python3"
  },
  "language_info": {
   "codemirror_mode": {
    "name": "ipython",
    "version": 3
   },
   "file_extension": ".py",
   "mimetype": "text/x-python",
   "name": "python",
   "nbconvert_exporter": "python",
   "pygments_lexer": "ipython3",
   "version": "3.11.0"
  }
 },
 "nbformat": 4,
 "nbformat_minor": 5
}
