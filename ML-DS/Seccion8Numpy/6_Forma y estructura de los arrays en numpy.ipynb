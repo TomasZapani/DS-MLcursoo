{
 "cells": [
  {
   "cell_type": "code",
   "execution_count": 1,
   "id": "54fb7f08-149a-4db6-bcb1-883bd31cdb16",
   "metadata": {},
   "outputs": [],
   "source": [
    "import numpy as np"
   ]
  },
  {
   "cell_type": "code",
   "execution_count": 2,
   "id": "46999ead-c17c-4d6d-b43a-181d136e3db0",
   "metadata": {},
   "outputs": [
    {
     "data": {
      "text/plain": [
       "array([1, 2, 3, 4, 5, 6, 7, 8, 9])"
      ]
     },
     "execution_count": 2,
     "metadata": {},
     "output_type": "execute_result"
    }
   ],
   "source": [
    "array = np.array([1,2,3,4,5,6,7,8,9])\n",
    "array"
   ]
  },
  {
   "cell_type": "code",
   "execution_count": 3,
   "id": "ee72cf55-6482-42db-bb4a-b115cffbde48",
   "metadata": {},
   "outputs": [
    {
     "data": {
      "text/plain": [
       "(9,)"
      ]
     },
     "execution_count": 3,
     "metadata": {},
     "output_type": "execute_result"
    }
   ],
   "source": [
    "array.shape#Obtendremos que tiene 9 de largo pq es un array unidimensional"
   ]
  },
  {
   "cell_type": "code",
   "execution_count": 5,
   "id": "f4bed8c2-cd98-4d34-b3bf-5834df11d612",
   "metadata": {},
   "outputs": [
    {
     "data": {
      "text/plain": [
       "array([[1, 2, 3],\n",
       "       [4, 5, 6],\n",
       "       [7, 8, 9]])"
      ]
     },
     "execution_count": 5,
     "metadata": {},
     "output_type": "execute_result"
    }
   ],
   "source": [
    "arra_mod = array.reshape(3,3)#Lo reestructuramos haciendo que tenga 3 elementos con 3 índices en cada uno gracias a .reashape()\n",
    "arra_mod"
   ]
  },
  {
   "cell_type": "code",
   "execution_count": 7,
   "id": "739c24b0-7588-4b34-b607-1049ff14386e",
   "metadata": {},
   "outputs": [
    {
     "data": {
      "text/plain": [
       "array([[1, 2, 3],\n",
       "       [4, 5, 6],\n",
       "       [7, 8, 9]])"
      ]
     },
     "execution_count": 7,
     "metadata": {},
     "output_type": "execute_result"
    }
   ],
   "source": [
    "arra_mod2 = array.reshape(-1,3)#Esto dará lo mismo que el de arriba nada mas que ese -1 lo que hace es que numpy calc las filas automáticammente pero para usarlo el array debe de tener un numero de elementos divisible por 3 para evitar errores\n",
    "arra_mod2"
   ]
  },
  {
   "cell_type": "markdown",
   "id": "7879e62e-54c8-478c-9bf8-b9f6f26ddde4",
   "metadata": {},
   "source": [
    "Transpose:metodo que voltea el array, cambia filas -> a columnas y column -> filas"
   ]
  },
  {
   "cell_type": "code",
   "execution_count": 9,
   "id": "08a5eac7-5f69-4e8b-8a62-99d7255c45f4",
   "metadata": {},
   "outputs": [
    {
     "data": {
      "text/plain": [
       "array([[1, 4, 7],\n",
       "       [2, 5, 8],\n",
       "       [3, 6, 9]])"
      ]
     },
     "execution_count": 9,
     "metadata": {},
     "output_type": "execute_result"
    }
   ],
   "source": [
    "array_volteado = arra_mod2.transpose()\n",
    "array_volteado#veremos que las filas pasan de horizont a vertical"
   ]
  },
  {
   "cell_type": "markdown",
   "id": "1bf8e490-e64a-41b9-abf9-dc70ad56b23f",
   "metadata": {},
   "source": [
    "Conv un array multidimensional a uno unidimensional"
   ]
  },
  {
   "cell_type": "code",
   "execution_count": 10,
   "id": "07b35f4a-32db-4016-9aaa-eb13f1c17b9d",
   "metadata": {},
   "outputs": [
    {
     "data": {
      "text/plain": [
       "array([1, 2, 3, 4, 5, 6, 7, 8, 9])"
      ]
     },
     "execution_count": 10,
     "metadata": {},
     "output_type": "execute_result"
    }
   ],
   "source": [
    "array_chato = arra_mod.flatten()#Mediante el met flatten conv a uno unidimensional y crea una copia aplanada del array lo que hace que ocupe lugar en memoria\n",
    "array_chato"
   ]
  },
  {
   "cell_type": "code",
   "execution_count": 11,
   "id": "a1e521a4-3b78-4c73-96f7-c8898481a151",
   "metadata": {},
   "outputs": [
    {
     "data": {
      "text/plain": [
       "array([1, 2, 3, 4, 5, 6, 7, 8, 9])"
      ]
     },
     "execution_count": 11,
     "metadata": {},
     "output_type": "execute_result"
    }
   ],
   "source": [
    "array_chato = arra_mod.ravel()#Mediante el met ravel conv a uno unidimensional pero no crea copia este, sino que crea una vista aplanada  del array original\n",
    "array_chato"
   ]
  }
 ],
 "metadata": {
  "kernelspec": {
   "display_name": "Python 3 (ipykernel)",
   "language": "python",
   "name": "python3"
  },
  "language_info": {
   "codemirror_mode": {
    "name": "ipython",
    "version": 3
   },
   "file_extension": ".py",
   "mimetype": "text/x-python",
   "name": "python",
   "nbconvert_exporter": "python",
   "pygments_lexer": "ipython3",
   "version": "3.12.5"
  }
 },
 "nbformat": 4,
 "nbformat_minor": 5
}
