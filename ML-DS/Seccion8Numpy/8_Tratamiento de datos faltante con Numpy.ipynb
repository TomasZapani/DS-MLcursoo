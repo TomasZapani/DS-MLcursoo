{
 "cells": [
  {
   "cell_type": "code",
   "execution_count": 1,
   "id": "e9456bc6-ac1a-45db-b921-11bb6ef4abc0",
   "metadata": {},
   "outputs": [],
   "source": [
    "import numpy as np"
   ]
  },
  {
   "cell_type": "code",
   "execution_count": 2,
   "id": "66c551a1-6ef4-4369-938d-7a22fe767c15",
   "metadata": {},
   "outputs": [
    {
     "data": {
      "text/plain": [
       "array([ 1.,  2., nan,  4.,  5.])"
      ]
     },
     "execution_count": 2,
     "metadata": {},
     "output_type": "execute_result"
    }
   ],
   "source": [
    "#Creamos un array con un nan apropósito\n",
    "array = np.array([1,2,np.nan,4,5])#Así le metemos el nan, con el .nan \n",
    "array"
   ]
  },
  {
   "cell_type": "markdown",
   "id": "c2e1510c-b850-4ad8-846e-bdb0e916092b",
   "metadata": {},
   "source": [
    "Comporbacion de si en un array hay un valor no válido osea un nan "
   ]
  },
  {
   "cell_type": "code",
   "execution_count": 3,
   "id": "67ce7668-8729-4aee-b7b3-7e3f874a7f83",
   "metadata": {},
   "outputs": [
    {
     "data": {
      "text/plain": [
       "array([False, False,  True, False, False])"
      ]
     },
     "execution_count": 3,
     "metadata": {},
     "output_type": "execute_result"
    }
   ],
   "source": [
    "np.isnan(array)#Nos dev cono valores booleanos, si el falso no hay y si es True sí hay un nan"
   ]
  },
  {
   "cell_type": "markdown",
   "id": "c39bbee5-87b4-43da-8b14-9d9e33c4cb0d",
   "metadata": {},
   "source": [
    "Cálculos con valores nan de por medio en un array... "
   ]
  },
  {
   "cell_type": "code",
   "execution_count": 4,
   "id": "01940b9c-c6af-494f-99ee-92826e5b5e07",
   "metadata": {},
   "outputs": [
    {
     "data": {
      "text/plain": [
       "np.float64(nan)"
      ]
     },
     "execution_count": 4,
     "metadata": {},
     "output_type": "execute_result"
    }
   ],
   "source": [
    "np.mean(array)#Si quisieramos calc el promedio de los núm que están en el array y hay un nan obtendremos esto... un num no válido"
   ]
  },
  {
   "cell_type": "code",
   "execution_count": 5,
   "id": "6d9a6499-771b-499f-8d66-7ec4220905c9",
   "metadata": {},
   "outputs": [
    {
     "data": {
      "text/plain": [
       "np.float64(3.0)"
      ]
     },
     "execution_count": 5,
     "metadata": {},
     "output_type": "execute_result"
    }
   ],
   "source": [
    "np.nanmean(array)#Pero.... lo bueno de numpy es que tiene estas cosas... podemos calc el promedio de un array con un valor nan de por medio usando el método .nanmean de la librería np "
   ]
  },
  {
   "cell_type": "markdown",
   "id": "d6f5ceca-c87d-48f0-89ea-e111d07ca680",
   "metadata": {},
   "source": [
    "En la carp de día 8 hay cuaderno de JN en el cúal están o hay un listado de las fnes faltantes"
   ]
  },
  {
   "cell_type": "markdown",
   "id": "d42eed9e-4e56-4374-82e6-7fe5c60b034f",
   "metadata": {},
   "source": [
    "fn .where():lo que hace es pasar por cada elemento dela array,osea iterarlo,preguntandose si ahi donde se cumpla una determinada  vamos hacer una cosa y si no se cumple hacemos otra cosa. Es una mezcla entre un for y un if"
   ]
  },
  {
   "cell_type": "code",
   "execution_count": 6,
   "id": "1ed0fc43-1140-40e5-befc-1bf58cb885b4",
   "metadata": {},
   "outputs": [
    {
     "data": {
      "text/plain": [
       "array([1., 2., 0., 4., 5.])"
      ]
     },
     "execution_count": 6,
     "metadata": {},
     "output_type": "execute_result"
    }
   ],
   "source": [
    "array_con_0 = np.where(np.isnan(array),0,array)#Acá lo que hacemos es que si en el array original encuentra un un elemento igual a nan tiene q reemplazarlo por 0, de lo contrario si no es nan y es número un random por ej tiene que dejar ese número ahí como está. Por ende primero pusimos la cond, dps lo que tiene que hacer si se cumple esa misma y dps lo tiene que hacer si no se cumple esa cond \n",
    "array_con_0"
   ]
  },
  {
   "cell_type": "code",
   "execution_count": 13,
   "id": "bc701ee7-06e3-48ba-b848-41a0e7211244",
   "metadata": {},
   "outputs": [
    {
     "data": {
      "text/plain": [
       "array([1., 2., 3., 4., 5.])"
      ]
     },
     "execution_count": 13,
     "metadata": {},
     "output_type": "execute_result"
    }
   ],
   "source": [
    "promedio = np.nanmean(array)\n",
    "promedio_reemplazo =  np.where(np.isnan(array),promedio,array)#Acá estamos reemplazando tb los nan pero ahora por el promedio que nos dio de todo el array entero, es decir si al iterar encuentra en el array el-los nan que los reemplace por el promdio que calc con la fn .mean()\n",
    "promedio_reemplazo"
   ]
  },
  {
   "cell_type": "code",
   "execution_count": null,
   "id": "4c21309f-c959-41e2-bc66-d2f04c9436cd",
   "metadata": {},
   "outputs": [],
   "source": [
    "Eliminar un dato faltante en un array con ~"
   ]
  },
  {
   "cell_type": "code",
   "execution_count": 18,
   "id": "07008cd1-ba4e-4f21-a297-45d096c3335c",
   "metadata": {},
   "outputs": [
    {
     "data": {
      "text/plain": [
       "array([1., 2., 4., 5.])"
      ]
     },
     "execution_count": 18,
     "metadata": {},
     "output_type": "execute_result"
    }
   ],
   "source": [
    "array_filtrado = array[~np.isnan(array)]#A ver.... si esto lo realizo sin ~ voy a obtener solo el nan, cuando lo pongo obtengo lo contrario ya que esto niega todo y obtendría todos los número del array menos el valor nan\n",
    "array_filtrado"
   ]
  },
  {
   "cell_type": "code",
   "execution_count": null,
   "id": "ac2a78b2-d338-4a94-ba08-5ddcbb60244b",
   "metadata": {},
   "outputs": [],
   "source": []
  }
 ],
 "metadata": {
  "kernelspec": {
   "display_name": "Python 3 (ipykernel)",
   "language": "python",
   "name": "python3"
  },
  "language_info": {
   "codemirror_mode": {
    "name": "ipython",
    "version": 3
   },
   "file_extension": ".py",
   "mimetype": "text/x-python",
   "name": "python",
   "nbconvert_exporter": "python",
   "pygments_lexer": "ipython3",
   "version": "3.12.5"
  }
 },
 "nbformat": 4,
 "nbformat_minor": 5
}
