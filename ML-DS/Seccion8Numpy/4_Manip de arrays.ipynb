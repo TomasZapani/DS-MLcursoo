{
 "cells": [
  {
   "cell_type": "code",
   "execution_count": 1,
   "id": "22eae63b-146d-41a9-b846-94681b175c00",
   "metadata": {},
   "outputs": [],
   "source": [
    "import numpy as np"
   ]
  },
  {
   "cell_type": "code",
   "execution_count": 3,
   "id": "78252f68-24ab-4d83-aefc-4d13120128c8",
   "metadata": {},
   "outputs": [],
   "source": [
    "#Creación de listas para dps concatenarlas\n",
    "x = [1,2,3]\n",
    "y = [1,2,3]\n",
    "z = [1,2,3]"
   ]
  },
  {
   "cell_type": "code",
   "execution_count": 4,
   "id": "3608bbdb-5302-4caf-aa6d-bd0b393d7bac",
   "metadata": {},
   "outputs": [
    {
     "data": {
      "text/plain": [
       "array([1, 2, 3, 1, 2, 3, 1, 2, 3])"
      ]
     },
     "execution_count": 4,
     "metadata": {},
     "output_type": "execute_result"
    }
   ],
   "source": [
    "#Concatenación de una lista mediaante la fn .concatenate() de numpy\n",
    "np.concatenate([x,y,z])#Esto devolverá un solo array, por el hecho de que lo hicimos con numpy"
   ]
  },
  {
   "cell_type": "code",
   "execution_count": 15,
   "id": "cdc1551b-f93e-481d-8ae4-1f24570795d1",
   "metadata": {},
   "outputs": [
    {
     "data": {
      "text/plain": [
       "array([[1, 2, 5, 6],\n",
       "       [3, 4, 7, 8]])"
      ]
     },
     "execution_count": 15,
     "metadata": {},
     "output_type": "execute_result"
    }
   ],
   "source": [
    "#Concatenamos con el valor del param axis en 1\n",
    "a = [[1,2]\n",
    "    ,[3,4]]\n",
    "\n",
    "b = [[5,6],\n",
    "    [7,8]]\n",
    "\n",
    "np.concatenate([a,b],axis = 1 )"
   ]
  },
  {
   "cell_type": "code",
   "execution_count": 17,
   "id": "2ce54b87-a7de-4720-98a3-3bd76f884056",
   "metadata": {},
   "outputs": [
    {
     "data": {
      "text/plain": [
       "array([[1, 2],\n",
       "       [3, 4],\n",
       "       [5, 6],\n",
       "       [7, 8]])"
      ]
     },
     "execution_count": 17,
     "metadata": {},
     "output_type": "execute_result"
    }
   ],
   "source": [
    "np.concatenate([a,b],axis = 0 )"
   ]
  },
  {
   "cell_type": "code",
   "execution_count": 18,
   "id": "61e0c624-efbe-481f-aa44-2e7e81e6002f",
   "metadata": {},
   "outputs": [
    {
     "data": {
      "text/plain": [
       "array([[1, 2],\n",
       "       [3, 4],\n",
       "       [5, 6],\n",
       "       [7, 8]])"
      ]
     },
     "execution_count": 18,
     "metadata": {},
     "output_type": "execute_result"
    }
   ],
   "source": [
    "#Concatenamos con el valor del param axis en 0\n",
    "array_concatenado = np.concatenate([a,b],axis = 0)\n",
    "array_concatenado"
   ]
  },
  {
   "cell_type": "code",
   "execution_count": 19,
   "id": "b4494e49-c7aa-4433-bc9c-87e0ae26146d",
   "metadata": {},
   "outputs": [
    {
     "data": {
      "text/plain": [
       "(4, 2)"
      ]
     },
     "execution_count": 19,
     "metadata": {},
     "output_type": "execute_result"
    }
   ],
   "source": [
    "array_concatenado.shape"
   ]
  },
  {
   "cell_type": "code",
   "execution_count": 20,
   "id": "a5f7fce9-88a8-4da4-b48b-64cf07916757",
   "metadata": {},
   "outputs": [
    {
     "data": {
      "text/plain": [
       "array([[1, 2, 3, 4],\n",
       "       [5, 6, 7, 8]])"
      ]
     },
     "execution_count": 20,
     "metadata": {},
     "output_type": "execute_result"
    }
   ],
   "source": [
    "#Reformar nuestro array, que quede igual como con el axis = 1 la forma pero con el orden del axis = 0\n",
    "array_reformado = array_concatenado.reshape(2,4)\n",
    "array_reformado"
   ]
  },
  {
   "cell_type": "code",
   "execution_count": 21,
   "id": "c824bb05-6619-4675-aec6-160c01705642",
   "metadata": {},
   "outputs": [
    {
     "data": {
      "text/plain": [
       "array([[ 2,  4,  6,  8],\n",
       "       [10, 12, 14, 16]])"
      ]
     },
     "execution_count": 21,
     "metadata": {},
     "output_type": "execute_result"
    }
   ],
   "source": [
    "#Sumamos dos mismos arrays\n",
    "array_suamdo = array_reformado +  array_reformado\n",
    "array_suamdo"
   ]
  },
  {
   "cell_type": "code",
   "execution_count": 24,
   "id": "43eede60-2de6-4c38-9985-1b1600854f1c",
   "metadata": {},
   "outputs": [
    {
     "data": {
      "text/plain": [
       "array([[ 1,  4,  9, 16],\n",
       "       [25, 36, 49, 64]])"
      ]
     },
     "execution_count": 24,
     "metadata": {},
     "output_type": "execute_result"
    }
   ],
   "source": [
    "#Multiplicamos dos mismos arrays\n",
    "array_multipli = array_reformado *  array_reformado\n",
    "array_multipli"
   ]
  },
  {
   "cell_type": "code",
   "execution_count": 26,
   "id": "7e3fa7b3-6b58-4106-9ae6-1a3604a5b6de",
   "metadata": {},
   "outputs": [
    {
     "data": {
      "text/plain": [
       "array([[1., 2., 3., 4.],\n",
       "       [5., 6., 7., 8.]])"
      ]
     },
     "execution_count": 26,
     "metadata": {},
     "output_type": "execute_result"
    }
   ],
   "source": [
    "#Calculos de la raíz cudrada en un array con la fn sqrt() de numpy\n",
    "raices = np.sqrt(array_multipli)\n",
    "raices"
   ]
  }
 ],
 "metadata": {
  "kernelspec": {
   "display_name": "Python 3 (ipykernel)",
   "language": "python",
   "name": "python3"
  },
  "language_info": {
   "codemirror_mode": {
    "name": "ipython",
    "version": 3
   },
   "file_extension": ".py",
   "mimetype": "text/x-python",
   "name": "python",
   "nbconvert_exporter": "python",
   "pygments_lexer": "ipython3",
   "version": "3.12.5"
  }
 },
 "nbformat": 4,
 "nbformat_minor": 5
}
