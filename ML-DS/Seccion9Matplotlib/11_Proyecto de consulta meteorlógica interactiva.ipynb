{
 "cells": [
  {
   "cell_type": "code",
   "execution_count": null,
   "id": "e5b0bcb9-a007-4956-a434-154946be2dfd",
   "metadata": {},
   "outputs": [],
   "source": [
    "Primer Proyecto con una utilidad real y desafiante para hacerlo"
   ]
  },
  {
   "cell_type": "code",
   "execution_count": 3,
   "id": "9c759ae7-97bc-4c92-8b28-9ca2c37daad2",
   "metadata": {},
   "outputs": [],
   "source": [
    "import matplotlib.pyplot as plt\n",
    "import numpy as np\n",
    "import pandas as pd\n",
    "%matplotlib inline"
   ]
  },
  {
   "cell_type": "code",
   "execution_count": null,
   "id": "4067feb1-3429-4bdb-b4ef-a32dadc8abef",
   "metadata": {},
   "outputs": [],
   "source": [
    "Resolucion mía con ayuda de chat:"
   ]
  },
  {
   "cell_type": "code",
   "execution_count": 2,
   "id": "317454e9-46e5-4981-81e7-67c2fd6531ae",
   "metadata": {},
   "outputs": [
    {
     "data": {
      "text/html": [
       "<div>\n",
       "<style scoped>\n",
       "    .dataframe tbody tr th:only-of-type {\n",
       "        vertical-align: middle;\n",
       "    }\n",
       "\n",
       "    .dataframe tbody tr th {\n",
       "        vertical-align: top;\n",
       "    }\n",
       "\n",
       "    .dataframe thead th {\n",
       "        text-align: right;\n",
       "    }\n",
       "</style>\n",
       "<table border=\"1\" class=\"dataframe\">\n",
       "  <thead>\n",
       "    <tr style=\"text-align: right;\">\n",
       "      <th></th>\n",
       "      <th>Fecha</th>\n",
       "      <th>Ciudad</th>\n",
       "      <th>Temperatura Maxima</th>\n",
       "      <th>Temperatura Minima</th>\n",
       "      <th>Precipitacion</th>\n",
       "      <th>Velocidad del Viento</th>\n",
       "      <th>Humedad Relativa</th>\n",
       "    </tr>\n",
       "  </thead>\n",
       "  <tbody>\n",
       "    <tr>\n",
       "      <th>0</th>\n",
       "      <td>1/1/2023</td>\n",
       "      <td>Buenos Aires</td>\n",
       "      <td>27</td>\n",
       "      <td>18</td>\n",
       "      <td>0.0</td>\n",
       "      <td>22.7</td>\n",
       "      <td>68.8</td>\n",
       "    </tr>\n",
       "    <tr>\n",
       "      <th>1</th>\n",
       "      <td>1/1/2023</td>\n",
       "      <td>Cordoba</td>\n",
       "      <td>35</td>\n",
       "      <td>18</td>\n",
       "      <td>0.0</td>\n",
       "      <td>33.8</td>\n",
       "      <td>61.7</td>\n",
       "    </tr>\n",
       "    <tr>\n",
       "      <th>2</th>\n",
       "      <td>1/1/2023</td>\n",
       "      <td>Rosario</td>\n",
       "      <td>23</td>\n",
       "      <td>21</td>\n",
       "      <td>0.0</td>\n",
       "      <td>10.6</td>\n",
       "      <td>80.0</td>\n",
       "    </tr>\n",
       "    <tr>\n",
       "      <th>3</th>\n",
       "      <td>1/1/2023</td>\n",
       "      <td>Mendoza</td>\n",
       "      <td>35</td>\n",
       "      <td>21</td>\n",
       "      <td>0.0</td>\n",
       "      <td>23.8</td>\n",
       "      <td>76.8</td>\n",
       "    </tr>\n",
       "    <tr>\n",
       "      <th>4</th>\n",
       "      <td>1/1/2023</td>\n",
       "      <td>Tucuman</td>\n",
       "      <td>36</td>\n",
       "      <td>18</td>\n",
       "      <td>17.2</td>\n",
       "      <td>25.7</td>\n",
       "      <td>54.9</td>\n",
       "    </tr>\n",
       "  </tbody>\n",
       "</table>\n",
       "</div>"
      ],
      "text/plain": [
       "      Fecha        Ciudad  Temperatura Maxima  Temperatura Minima  \\\n",
       "0  1/1/2023  Buenos Aires                  27                  18   \n",
       "1  1/1/2023       Cordoba                  35                  18   \n",
       "2  1/1/2023       Rosario                  23                  21   \n",
       "3  1/1/2023       Mendoza                  35                  21   \n",
       "4  1/1/2023       Tucuman                  36                  18   \n",
       "\n",
       "   Precipitacion  Velocidad del Viento  Humedad Relativa  \n",
       "0            0.0                  22.7              68.8  \n",
       "1            0.0                  33.8              61.7  \n",
       "2            0.0                  10.6              80.0  \n",
       "3            0.0                  23.8              76.8  \n",
       "4           17.2                  25.7              54.9  "
      ]
     },
     "execution_count": 2,
     "metadata": {},
     "output_type": "execute_result"
    }
   ],
   "source": [
    "df = pd.read_csv('Datos+Meteorológicos_Arg_2023.csv')\n",
    "df.head()"
   ]
  },
  {
   "cell_type": "code",
   "execution_count": 6,
   "id": "a4b23cde-5bc9-4078-b59b-4bb5720dca7e",
   "metadata": {},
   "outputs": [
    {
     "data": {
      "text/plain": [
       "str"
      ]
     },
     "execution_count": 6,
     "metadata": {},
     "output_type": "execute_result"
    }
   ],
   "source": [
    "#Qué tipo de dato es fecha?\n",
    "type(df['Fecha'][0])"
   ]
  },
  {
   "cell_type": "code",
   "execution_count": 7,
   "id": "4319e8cf-c2b9-4ef4-9a90-a5ecbbeef353",
   "metadata": {},
   "outputs": [
    {
     "data": {
      "text/html": [
       "<div>\n",
       "<style scoped>\n",
       "    .dataframe tbody tr th:only-of-type {\n",
       "        vertical-align: middle;\n",
       "    }\n",
       "\n",
       "    .dataframe tbody tr th {\n",
       "        vertical-align: top;\n",
       "    }\n",
       "\n",
       "    .dataframe thead th {\n",
       "        text-align: right;\n",
       "    }\n",
       "</style>\n",
       "<table border=\"1\" class=\"dataframe\">\n",
       "  <thead>\n",
       "    <tr style=\"text-align: right;\">\n",
       "      <th></th>\n",
       "      <th>Fecha</th>\n",
       "      <th>Ciudad</th>\n",
       "      <th>Temperatura Maxima</th>\n",
       "      <th>Temperatura Minima</th>\n",
       "      <th>Precipitacion</th>\n",
       "      <th>Velocidad del Viento</th>\n",
       "      <th>Humedad Relativa</th>\n",
       "    </tr>\n",
       "  </thead>\n",
       "  <tbody>\n",
       "    <tr>\n",
       "      <th>0</th>\n",
       "      <td>2023-01-01</td>\n",
       "      <td>Buenos Aires</td>\n",
       "      <td>27</td>\n",
       "      <td>18</td>\n",
       "      <td>0.0</td>\n",
       "      <td>22.7</td>\n",
       "      <td>68.8</td>\n",
       "    </tr>\n",
       "    <tr>\n",
       "      <th>1</th>\n",
       "      <td>2023-01-01</td>\n",
       "      <td>Cordoba</td>\n",
       "      <td>35</td>\n",
       "      <td>18</td>\n",
       "      <td>0.0</td>\n",
       "      <td>33.8</td>\n",
       "      <td>61.7</td>\n",
       "    </tr>\n",
       "    <tr>\n",
       "      <th>2</th>\n",
       "      <td>2023-01-01</td>\n",
       "      <td>Rosario</td>\n",
       "      <td>23</td>\n",
       "      <td>21</td>\n",
       "      <td>0.0</td>\n",
       "      <td>10.6</td>\n",
       "      <td>80.0</td>\n",
       "    </tr>\n",
       "    <tr>\n",
       "      <th>3</th>\n",
       "      <td>2023-01-01</td>\n",
       "      <td>Mendoza</td>\n",
       "      <td>35</td>\n",
       "      <td>21</td>\n",
       "      <td>0.0</td>\n",
       "      <td>23.8</td>\n",
       "      <td>76.8</td>\n",
       "    </tr>\n",
       "    <tr>\n",
       "      <th>4</th>\n",
       "      <td>2023-01-01</td>\n",
       "      <td>Tucuman</td>\n",
       "      <td>36</td>\n",
       "      <td>18</td>\n",
       "      <td>17.2</td>\n",
       "      <td>25.7</td>\n",
       "      <td>54.9</td>\n",
       "    </tr>\n",
       "  </tbody>\n",
       "</table>\n",
       "</div>"
      ],
      "text/plain": [
       "       Fecha        Ciudad  Temperatura Maxima  Temperatura Minima  \\\n",
       "0 2023-01-01  Buenos Aires                  27                  18   \n",
       "1 2023-01-01       Cordoba                  35                  18   \n",
       "2 2023-01-01       Rosario                  23                  21   \n",
       "3 2023-01-01       Mendoza                  35                  21   \n",
       "4 2023-01-01       Tucuman                  36                  18   \n",
       "\n",
       "   Precipitacion  Velocidad del Viento  Humedad Relativa  \n",
       "0            0.0                  22.7              68.8  \n",
       "1            0.0                  33.8              61.7  \n",
       "2            0.0                  10.6              80.0  \n",
       "3            0.0                  23.8              76.8  \n",
       "4           17.2                  25.7              54.9  "
      ]
     },
     "execution_count": 7,
     "metadata": {},
     "output_type": "execute_result"
    }
   ],
   "source": [
    "#Tranformamos al fotmato time y le damos el format con el que está originalmente para que lo interprete de forma original asi puede cambiarlo bien\n",
    "df['Fecha'] = pd.to_datetime(df['Fecha'],format = '%d/%m/%Y')\n",
    "df.head(5)"
   ]
  },
  {
   "cell_type": "code",
   "execution_count": 8,
   "id": "511815be-2bac-4236-b49f-9ed290e57900",
   "metadata": {
    "scrolled": true
   },
   "outputs": [
    {
     "data": {
      "text/html": [
       "<div>\n",
       "<style scoped>\n",
       "    .dataframe tbody tr th:only-of-type {\n",
       "        vertical-align: middle;\n",
       "    }\n",
       "\n",
       "    .dataframe tbody tr th {\n",
       "        vertical-align: top;\n",
       "    }\n",
       "\n",
       "    .dataframe thead th {\n",
       "        text-align: right;\n",
       "    }\n",
       "</style>\n",
       "<table border=\"1\" class=\"dataframe\">\n",
       "  <thead>\n",
       "    <tr style=\"text-align: right;\">\n",
       "      <th></th>\n",
       "      <th>Fecha</th>\n",
       "      <th>Ciudad</th>\n",
       "      <th>Temperatura Maxima</th>\n",
       "      <th>Temperatura Minima</th>\n",
       "      <th>Precipitacion</th>\n",
       "      <th>Velocidad del Viento</th>\n",
       "      <th>Humedad Relativa</th>\n",
       "      <th>Ciudad_ID</th>\n",
       "    </tr>\n",
       "  </thead>\n",
       "  <tbody>\n",
       "    <tr>\n",
       "      <th>0</th>\n",
       "      <td>2023-01-01</td>\n",
       "      <td>Buenos Aires</td>\n",
       "      <td>27</td>\n",
       "      <td>18</td>\n",
       "      <td>0.0</td>\n",
       "      <td>22.7</td>\n",
       "      <td>68.8</td>\n",
       "      <td>0</td>\n",
       "    </tr>\n",
       "    <tr>\n",
       "      <th>1</th>\n",
       "      <td>2023-01-01</td>\n",
       "      <td>Cordoba</td>\n",
       "      <td>35</td>\n",
       "      <td>18</td>\n",
       "      <td>0.0</td>\n",
       "      <td>33.8</td>\n",
       "      <td>61.7</td>\n",
       "      <td>1</td>\n",
       "    </tr>\n",
       "    <tr>\n",
       "      <th>2</th>\n",
       "      <td>2023-01-01</td>\n",
       "      <td>Rosario</td>\n",
       "      <td>23</td>\n",
       "      <td>21</td>\n",
       "      <td>0.0</td>\n",
       "      <td>10.6</td>\n",
       "      <td>80.0</td>\n",
       "      <td>2</td>\n",
       "    </tr>\n",
       "    <tr>\n",
       "      <th>3</th>\n",
       "      <td>2023-01-01</td>\n",
       "      <td>Mendoza</td>\n",
       "      <td>35</td>\n",
       "      <td>21</td>\n",
       "      <td>0.0</td>\n",
       "      <td>23.8</td>\n",
       "      <td>76.8</td>\n",
       "      <td>3</td>\n",
       "    </tr>\n",
       "    <tr>\n",
       "      <th>4</th>\n",
       "      <td>2023-01-01</td>\n",
       "      <td>Tucuman</td>\n",
       "      <td>36</td>\n",
       "      <td>18</td>\n",
       "      <td>17.2</td>\n",
       "      <td>25.7</td>\n",
       "      <td>54.9</td>\n",
       "      <td>4</td>\n",
       "    </tr>\n",
       "    <tr>\n",
       "      <th>...</th>\n",
       "      <td>...</td>\n",
       "      <td>...</td>\n",
       "      <td>...</td>\n",
       "      <td>...</td>\n",
       "      <td>...</td>\n",
       "      <td>...</td>\n",
       "      <td>...</td>\n",
       "      <td>...</td>\n",
       "    </tr>\n",
       "    <tr>\n",
       "      <th>1820</th>\n",
       "      <td>2023-12-31</td>\n",
       "      <td>Buenos Aires</td>\n",
       "      <td>15</td>\n",
       "      <td>12</td>\n",
       "      <td>0.0</td>\n",
       "      <td>17.9</td>\n",
       "      <td>49.2</td>\n",
       "      <td>0</td>\n",
       "    </tr>\n",
       "    <tr>\n",
       "      <th>1821</th>\n",
       "      <td>2023-12-31</td>\n",
       "      <td>Cordoba</td>\n",
       "      <td>15</td>\n",
       "      <td>7</td>\n",
       "      <td>0.0</td>\n",
       "      <td>17.8</td>\n",
       "      <td>62.4</td>\n",
       "      <td>1</td>\n",
       "    </tr>\n",
       "    <tr>\n",
       "      <th>1822</th>\n",
       "      <td>2023-12-31</td>\n",
       "      <td>Rosario</td>\n",
       "      <td>14</td>\n",
       "      <td>8</td>\n",
       "      <td>0.0</td>\n",
       "      <td>38.2</td>\n",
       "      <td>31.2</td>\n",
       "      <td>2</td>\n",
       "    </tr>\n",
       "    <tr>\n",
       "      <th>1823</th>\n",
       "      <td>2023-12-31</td>\n",
       "      <td>Mendoza</td>\n",
       "      <td>13</td>\n",
       "      <td>9</td>\n",
       "      <td>84.8</td>\n",
       "      <td>27.6</td>\n",
       "      <td>35.3</td>\n",
       "      <td>3</td>\n",
       "    </tr>\n",
       "    <tr>\n",
       "      <th>1824</th>\n",
       "      <td>2023-12-31</td>\n",
       "      <td>Tucuman</td>\n",
       "      <td>15</td>\n",
       "      <td>10</td>\n",
       "      <td>0.0</td>\n",
       "      <td>30.0</td>\n",
       "      <td>49.1</td>\n",
       "      <td>4</td>\n",
       "    </tr>\n",
       "  </tbody>\n",
       "</table>\n",
       "<p>1825 rows × 8 columns</p>\n",
       "</div>"
      ],
      "text/plain": [
       "          Fecha        Ciudad  Temperatura Maxima  Temperatura Minima  \\\n",
       "0    2023-01-01  Buenos Aires                  27                  18   \n",
       "1    2023-01-01       Cordoba                  35                  18   \n",
       "2    2023-01-01       Rosario                  23                  21   \n",
       "3    2023-01-01       Mendoza                  35                  21   \n",
       "4    2023-01-01       Tucuman                  36                  18   \n",
       "...         ...           ...                 ...                 ...   \n",
       "1820 2023-12-31  Buenos Aires                  15                  12   \n",
       "1821 2023-12-31       Cordoba                  15                   7   \n",
       "1822 2023-12-31       Rosario                  14                   8   \n",
       "1823 2023-12-31       Mendoza                  13                   9   \n",
       "1824 2023-12-31       Tucuman                  15                  10   \n",
       "\n",
       "      Precipitacion  Velocidad del Viento  Humedad Relativa  Ciudad_ID  \n",
       "0               0.0                  22.7              68.8          0  \n",
       "1               0.0                  33.8              61.7          1  \n",
       "2               0.0                  10.6              80.0          2  \n",
       "3               0.0                  23.8              76.8          3  \n",
       "4              17.2                  25.7              54.9          4  \n",
       "...             ...                   ...               ...        ...  \n",
       "1820            0.0                  17.9              49.2          0  \n",
       "1821            0.0                  17.8              62.4          1  \n",
       "1822            0.0                  38.2              31.2          2  \n",
       "1823           84.8                  27.6              35.3          3  \n",
       "1824            0.0                  30.0              49.1          4  \n",
       "\n",
       "[1825 rows x 8 columns]"
      ]
     },
     "execution_count": 8,
     "metadata": {},
     "output_type": "execute_result"
    }
   ],
   "source": [
    "#Creación de una serie donde le metamos los ids a cada ciudad\n",
    "df['Ciudad_ID'] = df['Ciudad'].factorize()[0]#La fn factorize() genera-asigna estos ids acada city y nosotros de los que el nos genera solo tomamos la primera parte [0]-> el ID\n",
    "df"
   ]
  },
  {
   "cell_type": "code",
   "execution_count": 9,
   "id": "8643fd9b-a517-4c0b-a0f1-e6a95cc18b2d",
   "metadata": {},
   "outputs": [
    {
     "data": {
      "text/html": [
       "<div>\n",
       "<style scoped>\n",
       "    .dataframe tbody tr th:only-of-type {\n",
       "        vertical-align: middle;\n",
       "    }\n",
       "\n",
       "    .dataframe tbody tr th {\n",
       "        vertical-align: top;\n",
       "    }\n",
       "\n",
       "    .dataframe thead th {\n",
       "        text-align: right;\n",
       "    }\n",
       "</style>\n",
       "<table border=\"1\" class=\"dataframe\">\n",
       "  <thead>\n",
       "    <tr style=\"text-align: right;\">\n",
       "      <th></th>\n",
       "      <th>Fecha</th>\n",
       "      <th>Ciudad</th>\n",
       "      <th>Temperatura Maxima</th>\n",
       "      <th>Temperatura Minima</th>\n",
       "      <th>Precipitacion</th>\n",
       "      <th>Velocidad del Viento</th>\n",
       "      <th>Humedad Relativa</th>\n",
       "      <th>Ciudad_ID</th>\n",
       "      <th>Mes</th>\n",
       "    </tr>\n",
       "  </thead>\n",
       "  <tbody>\n",
       "    <tr>\n",
       "      <th>0</th>\n",
       "      <td>2023-01-01</td>\n",
       "      <td>Buenos Aires</td>\n",
       "      <td>27</td>\n",
       "      <td>18</td>\n",
       "      <td>0.0</td>\n",
       "      <td>22.7</td>\n",
       "      <td>68.8</td>\n",
       "      <td>0</td>\n",
       "      <td>1</td>\n",
       "    </tr>\n",
       "    <tr>\n",
       "      <th>1</th>\n",
       "      <td>2023-01-01</td>\n",
       "      <td>Cordoba</td>\n",
       "      <td>35</td>\n",
       "      <td>18</td>\n",
       "      <td>0.0</td>\n",
       "      <td>33.8</td>\n",
       "      <td>61.7</td>\n",
       "      <td>1</td>\n",
       "      <td>1</td>\n",
       "    </tr>\n",
       "    <tr>\n",
       "      <th>2</th>\n",
       "      <td>2023-01-01</td>\n",
       "      <td>Rosario</td>\n",
       "      <td>23</td>\n",
       "      <td>21</td>\n",
       "      <td>0.0</td>\n",
       "      <td>10.6</td>\n",
       "      <td>80.0</td>\n",
       "      <td>2</td>\n",
       "      <td>1</td>\n",
       "    </tr>\n",
       "    <tr>\n",
       "      <th>3</th>\n",
       "      <td>2023-01-01</td>\n",
       "      <td>Mendoza</td>\n",
       "      <td>35</td>\n",
       "      <td>21</td>\n",
       "      <td>0.0</td>\n",
       "      <td>23.8</td>\n",
       "      <td>76.8</td>\n",
       "      <td>3</td>\n",
       "      <td>1</td>\n",
       "    </tr>\n",
       "    <tr>\n",
       "      <th>4</th>\n",
       "      <td>2023-01-01</td>\n",
       "      <td>Tucuman</td>\n",
       "      <td>36</td>\n",
       "      <td>18</td>\n",
       "      <td>17.2</td>\n",
       "      <td>25.7</td>\n",
       "      <td>54.9</td>\n",
       "      <td>4</td>\n",
       "      <td>1</td>\n",
       "    </tr>\n",
       "    <tr>\n",
       "      <th>...</th>\n",
       "      <td>...</td>\n",
       "      <td>...</td>\n",
       "      <td>...</td>\n",
       "      <td>...</td>\n",
       "      <td>...</td>\n",
       "      <td>...</td>\n",
       "      <td>...</td>\n",
       "      <td>...</td>\n",
       "      <td>...</td>\n",
       "    </tr>\n",
       "    <tr>\n",
       "      <th>1820</th>\n",
       "      <td>2023-12-31</td>\n",
       "      <td>Buenos Aires</td>\n",
       "      <td>15</td>\n",
       "      <td>12</td>\n",
       "      <td>0.0</td>\n",
       "      <td>17.9</td>\n",
       "      <td>49.2</td>\n",
       "      <td>0</td>\n",
       "      <td>12</td>\n",
       "    </tr>\n",
       "    <tr>\n",
       "      <th>1821</th>\n",
       "      <td>2023-12-31</td>\n",
       "      <td>Cordoba</td>\n",
       "      <td>15</td>\n",
       "      <td>7</td>\n",
       "      <td>0.0</td>\n",
       "      <td>17.8</td>\n",
       "      <td>62.4</td>\n",
       "      <td>1</td>\n",
       "      <td>12</td>\n",
       "    </tr>\n",
       "    <tr>\n",
       "      <th>1822</th>\n",
       "      <td>2023-12-31</td>\n",
       "      <td>Rosario</td>\n",
       "      <td>14</td>\n",
       "      <td>8</td>\n",
       "      <td>0.0</td>\n",
       "      <td>38.2</td>\n",
       "      <td>31.2</td>\n",
       "      <td>2</td>\n",
       "      <td>12</td>\n",
       "    </tr>\n",
       "    <tr>\n",
       "      <th>1823</th>\n",
       "      <td>2023-12-31</td>\n",
       "      <td>Mendoza</td>\n",
       "      <td>13</td>\n",
       "      <td>9</td>\n",
       "      <td>84.8</td>\n",
       "      <td>27.6</td>\n",
       "      <td>35.3</td>\n",
       "      <td>3</td>\n",
       "      <td>12</td>\n",
       "    </tr>\n",
       "    <tr>\n",
       "      <th>1824</th>\n",
       "      <td>2023-12-31</td>\n",
       "      <td>Tucuman</td>\n",
       "      <td>15</td>\n",
       "      <td>10</td>\n",
       "      <td>0.0</td>\n",
       "      <td>30.0</td>\n",
       "      <td>49.1</td>\n",
       "      <td>4</td>\n",
       "      <td>12</td>\n",
       "    </tr>\n",
       "  </tbody>\n",
       "</table>\n",
       "<p>1825 rows × 9 columns</p>\n",
       "</div>"
      ],
      "text/plain": [
       "          Fecha        Ciudad  Temperatura Maxima  Temperatura Minima  \\\n",
       "0    2023-01-01  Buenos Aires                  27                  18   \n",
       "1    2023-01-01       Cordoba                  35                  18   \n",
       "2    2023-01-01       Rosario                  23                  21   \n",
       "3    2023-01-01       Mendoza                  35                  21   \n",
       "4    2023-01-01       Tucuman                  36                  18   \n",
       "...         ...           ...                 ...                 ...   \n",
       "1820 2023-12-31  Buenos Aires                  15                  12   \n",
       "1821 2023-12-31       Cordoba                  15                   7   \n",
       "1822 2023-12-31       Rosario                  14                   8   \n",
       "1823 2023-12-31       Mendoza                  13                   9   \n",
       "1824 2023-12-31       Tucuman                  15                  10   \n",
       "\n",
       "      Precipitacion  Velocidad del Viento  Humedad Relativa  Ciudad_ID  Mes  \n",
       "0               0.0                  22.7              68.8          0    1  \n",
       "1               0.0                  33.8              61.7          1    1  \n",
       "2               0.0                  10.6              80.0          2    1  \n",
       "3               0.0                  23.8              76.8          3    1  \n",
       "4              17.2                  25.7              54.9          4    1  \n",
       "...             ...                   ...               ...        ...  ...  \n",
       "1820            0.0                  17.9              49.2          0   12  \n",
       "1821            0.0                  17.8              62.4          1   12  \n",
       "1822            0.0                  38.2              31.2          2   12  \n",
       "1823           84.8                  27.6              35.3          3   12  \n",
       "1824            0.0                  30.0              49.1          4   12  \n",
       "\n",
       "[1825 rows x 9 columns]"
      ]
     },
     "execution_count": 9,
     "metadata": {},
     "output_type": "execute_result"
    }
   ],
   "source": [
    "df['Mes'] = df['Fecha'].dt.month\n",
    "df"
   ]
  },
  {
   "cell_type": "code",
   "execution_count": 16,
   "id": "72795c27-242f-45e8-9f99-e4e340e258a4",
   "metadata": {},
   "outputs": [
    {
     "name": "stdout",
     "output_type": "stream",
     "text": [
      "\n",
      "Ciudades disponibles:\n",
      "0: Buenos Aires\n",
      "1: Cordoba\n",
      "2: Rosario\n",
      "3: Mendoza\n",
      "4: Tucuman\n"
     ]
    },
    {
     "name": "stdin",
     "output_type": "stream",
     "text": [
      "\n",
      "Ingrese el ID de la ciudad que desea seleccionar:  1\n",
      "\n",
      "Ingrese el número del mes (1-12):  900\n"
     ]
    },
    {
     "name": "stdout",
     "output_type": "stream",
     "text": [
      "Error: Mes no válido. Intente nuevamente.\n",
      "\n",
      "Ciudades disponibles:\n",
      "0: Buenos Aires\n",
      "1: Cordoba\n",
      "2: Rosario\n",
      "3: Mendoza\n",
      "4: Tucuman\n"
     ]
    },
    {
     "name": "stdin",
     "output_type": "stream",
     "text": [
      "\n",
      "Ingrese el ID de la ciudad que desea seleccionar:  ew\n"
     ]
    },
    {
     "name": "stdout",
     "output_type": "stream",
     "text": [
      "Error: Debe ingresar un número válido. Intente nuevamente.\n",
      "\n",
      "Ciudades disponibles:\n",
      "0: Buenos Aires\n",
      "1: Cordoba\n",
      "2: Rosario\n",
      "3: Mendoza\n",
      "4: Tucuman\n"
     ]
    },
    {
     "name": "stdin",
     "output_type": "stream",
     "text": [
      "\n",
      "Ingrese el ID de la ciudad que desea seleccionar:  3\n",
      "\n",
      "Ingrese el número del mes (1-12):  4\n"
     ]
    },
    {
     "data": {
      "image/png": "[encoded data removed]",
      "text/plain": [
       "<Figure size 600x400 with 1 Axes>"
      ]
     },
     "metadata": {},
     "output_type": "display_data"
    },
    {
     "name": "stdin",
     "output_type": "stream",
     "text": [
      "\n",
      "¿Desea consultar otra ciudad/mes? (s/n):  n\n"
     ]
    },
    {
     "name": "stdout",
     "output_type": "stream",
     "text": [
      "¡Gracias por usar el programa! Hasta luego.\n"
     ]
    }
   ],
   "source": [
    "#Importacion de las lib\n",
    "import numpy as np\n",
    "import matplotlib.pyplot as plt\n",
    "import pandas as pd\n",
    "\n",
    "# Obtener valores únicos de las ciudades y los meses con la fn .unique()\n",
    "var = df['Ciudad_ID'].unique()\n",
    "var2 = df['Mes'].unique()\n",
    "\n",
    "# Diccionario de ciudades para mostrar nombres en lugar de IDs\n",
    "ciudades_dict = dict(zip(var, df['Ciudad'].unique()))\n",
    "\n",
    "# Función para elegir ciudad y mes\n",
    "def ElegirCiudad():\n",
    "    while True:  # Bucle para repetir la selección si el usuario quiere continuar\n",
    "\n",
    "        #Impresión para mostrar las ciudades disp con repectivo ID\n",
    "        print(\"\\nCiudades disponibles:\")\n",
    "        for key, value in ciudades_dict.items():\n",
    "            print(f\"{key}: {value}\")\n",
    "        \n",
    "        try:\n",
    "            #Variable para almacenar la selccion del user\n",
    "            C = int(input(\"\\nIngrese el ID de la ciudad que desea seleccionar: \"))\n",
    "            #Si el user elige un ID-ciudad que no está en var...\n",
    "            if C not in var:\n",
    "                #Que imprima error\n",
    "                print(\"Error: Ciudad no encontrada. Intente nuevamente.\")\n",
    "                continue#hace que el programa vuelva al inicio del bucle, permitiendo que el usuario ingrese otra ciudad sin que el código siga ejecutándose.\n",
    "            #Variable para alamcenar la eleccion del mes\n",
    "            M = int(input(\"\\nIngrese el número del mes (1-12): \"))\n",
    "            #Si el user elige un  mes que no está en var2...\n",
    "            if M not in var2:\n",
    "                #Q imprima error\n",
    "                print(\"Error: Mes no válido. Intente nuevamente.\")\n",
    "                continue#hace que el programa vuelva al inicio del bucle, permitiendo que el usuario ingrese de nuevo la ciudad sin que el código siga ejecutándose.\n",
    "            \n",
    "            # Obtener el nombre de la ciudad\n",
    "            nombre_C = ciudades_dict[C]#convierte el ID de la ciudad (C) en su nombre real utilizando un diccionario (ciudades_dict).\n",
    "\n",
    "            # Filtrar temperatura por ciudad y mes\n",
    "            filtro = (df['Ciudad_ID'] == C) & (df['Mes'] == M)\n",
    "            temp_data = df.loc[filtro, ['Temperatura Maxima', 'Temperatura Minima']]\n",
    "\n",
    "            # Verificar si hay datos de temperatura\n",
    "            if not temp_data.empty:\n",
    "                temp_max = temp_data['Temperatura Maxima'].values[0]\n",
    "                temp_min = temp_data['Temperatura Minima'].values[0]\n",
    "\n",
    "                #Verificar si los valores de temp_max y temp_min no son NaN (valores faltantes)\n",
    "                if not pd.isna(temp_max) and not pd.isna(temp_min): \n",
    "                    # Crear histograma\n",
    "                    data = [temp_max, temp_min]\n",
    "                    colors = ['red', 'blue']\n",
    "                    labels = ['Temp Máx', 'Temp Mín']\n",
    "                    \n",
    "                    x = np.arange(len(data))  # Posiciones para las barras correctamente en el eje x para evit errores, segund el tamaño-len de data\n",
    "                    plt.figure(figsize=(6, 4))#Creamos la figura\n",
    "                    plt.bar(x, data, color=colors, alpha=0.7)#Generamos el gráf de barra\n",
    "                    # Agregamos valores en el medio a l barra, es decir, si temp_max=21 y la min=19 esos valores estarán en las barras\n",
    "                    for i, v in enumerate(data):\n",
    "                        plt.text(i, v / 2, f\"{v}°C\", ha='center', va='center',fontsize=12, fontweight='bold',color='white')\n",
    "\n",
    "                    plt.xticks(x, labels)\n",
    "                    plt.ylabel(\"Temperatura (°C)\")\n",
    "                    plt.title(f\"Histograma de Temperaturas en {nombre_C} - Mes {M}\")\n",
    "                    plt.show()  # Mostrar el histograma\n",
    "\n",
    "                    # Ahora preguntar después de mostrar el gráfico\n",
    "                    opcion = input(\"\\n¿Desea consultar otra ciudad/mes? (s/n): \").strip().lower()\n",
    "                    #strip:Elimina espacios en blanco al inicio y final del texto ingresado.\n",
    "                    #lower:Convierte la entrada a minúsculas para evitar errores con mayúsculas.\n",
    "                    if opcion != 's':#Si la rta no es igual a s, osea es n.... que se imprima el msj de gracias y se rompa el bluce\n",
    "                        print(\"¡Gracias por usar el programa! Hasta luego.\")\n",
    "                        break  # Salir del bucle\n",
    "\n",
    "                else:#En caso de las temp sean NaN\n",
    "                    print(\"\\nNo hay datos de temperatura para esta ciudad y mes.\")\n",
    "            else:#En caso de que temp_data  sea empty-vacia\n",
    "                print(\"\\nNo se encontraron registros de temperatura para esta ciudad y mes.\")\n",
    "\n",
    "        except ValueError:#En caso de que el user ponga un str y no un int\n",
    "            print(\"Error: Debe ingresar un número válido. Intente nuevamente.\")\n",
    "            continue  # Reinicia el bucle en caso de error\n",
    "\n",
    "# Llamar a la función\n",
    "ElegirCiudad()\n"
   ]
  },
  {
   "cell_type": "markdown",
   "id": "3a6a610f-937a-4405-b3bc-896562b5fc77",
   "metadata": {},
   "source": [
    "Resolución más simples inspirandome en la resol del docente de Udemy:"
   ]
  },
  {
   "cell_type": "code",
   "execution_count": 29,
   "id": "68d21e69-b83f-4696-9ad1-126a15fb750b",
   "metadata": {},
   "outputs": [
    {
     "data": {
      "text/html": [
       "<div>\n",
       "<style scoped>\n",
       "    .dataframe tbody tr th:only-of-type {\n",
       "        vertical-align: middle;\n",
       "    }\n",
       "\n",
       "    .dataframe tbody tr th {\n",
       "        vertical-align: top;\n",
       "    }\n",
       "\n",
       "    .dataframe thead th {\n",
       "        text-align: right;\n",
       "    }\n",
       "</style>\n",
       "<table border=\"1\" class=\"dataframe\">\n",
       "  <thead>\n",
       "    <tr style=\"text-align: right;\">\n",
       "      <th></th>\n",
       "      <th>Fecha</th>\n",
       "      <th>Ciudad</th>\n",
       "      <th>Temperatura Maxima</th>\n",
       "      <th>Temperatura Minima</th>\n",
       "      <th>Precipitacion</th>\n",
       "      <th>Velocidad del Viento</th>\n",
       "      <th>Humedad Relativa</th>\n",
       "    </tr>\n",
       "  </thead>\n",
       "  <tbody>\n",
       "    <tr>\n",
       "      <th>0</th>\n",
       "      <td>1/1/2023</td>\n",
       "      <td>Buenos Aires</td>\n",
       "      <td>27</td>\n",
       "      <td>18</td>\n",
       "      <td>0.0</td>\n",
       "      <td>22.7</td>\n",
       "      <td>68.8</td>\n",
       "    </tr>\n",
       "    <tr>\n",
       "      <th>1</th>\n",
       "      <td>1/1/2023</td>\n",
       "      <td>Cordoba</td>\n",
       "      <td>35</td>\n",
       "      <td>18</td>\n",
       "      <td>0.0</td>\n",
       "      <td>33.8</td>\n",
       "      <td>61.7</td>\n",
       "    </tr>\n",
       "    <tr>\n",
       "      <th>2</th>\n",
       "      <td>1/1/2023</td>\n",
       "      <td>Rosario</td>\n",
       "      <td>23</td>\n",
       "      <td>21</td>\n",
       "      <td>0.0</td>\n",
       "      <td>10.6</td>\n",
       "      <td>80.0</td>\n",
       "    </tr>\n",
       "    <tr>\n",
       "      <th>3</th>\n",
       "      <td>1/1/2023</td>\n",
       "      <td>Mendoza</td>\n",
       "      <td>35</td>\n",
       "      <td>21</td>\n",
       "      <td>0.0</td>\n",
       "      <td>23.8</td>\n",
       "      <td>76.8</td>\n",
       "    </tr>\n",
       "    <tr>\n",
       "      <th>4</th>\n",
       "      <td>1/1/2023</td>\n",
       "      <td>Tucuman</td>\n",
       "      <td>36</td>\n",
       "      <td>18</td>\n",
       "      <td>17.2</td>\n",
       "      <td>25.7</td>\n",
       "      <td>54.9</td>\n",
       "    </tr>\n",
       "    <tr>\n",
       "      <th>...</th>\n",
       "      <td>...</td>\n",
       "      <td>...</td>\n",
       "      <td>...</td>\n",
       "      <td>...</td>\n",
       "      <td>...</td>\n",
       "      <td>...</td>\n",
       "      <td>...</td>\n",
       "    </tr>\n",
       "    <tr>\n",
       "      <th>1820</th>\n",
       "      <td>31/12/2023</td>\n",
       "      <td>Buenos Aires</td>\n",
       "      <td>15</td>\n",
       "      <td>12</td>\n",
       "      <td>0.0</td>\n",
       "      <td>17.9</td>\n",
       "      <td>49.2</td>\n",
       "    </tr>\n",
       "    <tr>\n",
       "      <th>1821</th>\n",
       "      <td>31/12/2023</td>\n",
       "      <td>Cordoba</td>\n",
       "      <td>15</td>\n",
       "      <td>7</td>\n",
       "      <td>0.0</td>\n",
       "      <td>17.8</td>\n",
       "      <td>62.4</td>\n",
       "    </tr>\n",
       "    <tr>\n",
       "      <th>1822</th>\n",
       "      <td>31/12/2023</td>\n",
       "      <td>Rosario</td>\n",
       "      <td>14</td>\n",
       "      <td>8</td>\n",
       "      <td>0.0</td>\n",
       "      <td>38.2</td>\n",
       "      <td>31.2</td>\n",
       "    </tr>\n",
       "    <tr>\n",
       "      <th>1823</th>\n",
       "      <td>31/12/2023</td>\n",
       "      <td>Mendoza</td>\n",
       "      <td>13</td>\n",
       "      <td>9</td>\n",
       "      <td>84.8</td>\n",
       "      <td>27.6</td>\n",
       "      <td>35.3</td>\n",
       "    </tr>\n",
       "    <tr>\n",
       "      <th>1824</th>\n",
       "      <td>31/12/2023</td>\n",
       "      <td>Tucuman</td>\n",
       "      <td>15</td>\n",
       "      <td>10</td>\n",
       "      <td>0.0</td>\n",
       "      <td>30.0</td>\n",
       "      <td>49.1</td>\n",
       "    </tr>\n",
       "  </tbody>\n",
       "</table>\n",
       "<p>1825 rows × 7 columns</p>\n",
       "</div>"
      ],
      "text/plain": [
       "           Fecha        Ciudad  Temperatura Maxima  Temperatura Minima  \\\n",
       "0       1/1/2023  Buenos Aires                  27                  18   \n",
       "1       1/1/2023       Cordoba                  35                  18   \n",
       "2       1/1/2023       Rosario                  23                  21   \n",
       "3       1/1/2023       Mendoza                  35                  21   \n",
       "4       1/1/2023       Tucuman                  36                  18   \n",
       "...          ...           ...                 ...                 ...   \n",
       "1820  31/12/2023  Buenos Aires                  15                  12   \n",
       "1821  31/12/2023       Cordoba                  15                   7   \n",
       "1822  31/12/2023       Rosario                  14                   8   \n",
       "1823  31/12/2023       Mendoza                  13                   9   \n",
       "1824  31/12/2023       Tucuman                  15                  10   \n",
       "\n",
       "      Precipitacion  Velocidad del Viento  Humedad Relativa  \n",
       "0               0.0                  22.7              68.8  \n",
       "1               0.0                  33.8              61.7  \n",
       "2               0.0                  10.6              80.0  \n",
       "3               0.0                  23.8              76.8  \n",
       "4              17.2                  25.7              54.9  \n",
       "...             ...                   ...               ...  \n",
       "1820            0.0                  17.9              49.2  \n",
       "1821            0.0                  17.8              62.4  \n",
       "1822            0.0                  38.2              31.2  \n",
       "1823           84.8                  27.6              35.3  \n",
       "1824            0.0                  30.0              49.1  \n",
       "\n",
       "[1825 rows x 7 columns]"
      ]
     },
     "execution_count": 29,
     "metadata": {},
     "output_type": "execute_result"
    }
   ],
   "source": [
    "df = pd.read_csv('Datos+Meteorológicos_Arg_2023.csv')\n",
    "df"
   ]
  },
  {
   "cell_type": "code",
   "execution_count": 30,
   "id": "fdfe7fc9-0e5b-4b40-9ec4-0e7c476ba48a",
   "metadata": {},
   "outputs": [
    {
     "data": {
      "text/plain": [
       "pandas._libs.tslibs.timestamps.Timestamp"
      ]
     },
     "execution_count": 30,
     "metadata": {},
     "output_type": "execute_result"
    }
   ],
   "source": [
    "#Tranformamos el tipo de dato de fecha de str a time\n",
    "df['Fecha'] = pd.to_datetime(df['Fecha'],format='%d/%m/%Y')\n",
    "type(df['Fecha'][0])"
   ]
  },
  {
   "cell_type": "markdown",
   "id": "b43f4339-6494-492d-b0b1-e132aa036821",
   "metadata": {},
   "source": [
    "Extraemos la ciudades del df"
   ]
  },
  {
   "cell_type": "code",
   "execution_count": 31,
   "id": "f46c9604-35f2-481b-b257-3d59fcbac3a9",
   "metadata": {},
   "outputs": [
    {
     "data": {
      "text/plain": [
       "['Buenos Aires', 'Cordoba', 'Rosario', 'Mendoza', 'Tucuman']"
      ]
     },
     "execution_count": 31,
     "metadata": {},
     "output_type": "execute_result"
    }
   ],
   "source": [
    "#Creamos una lista vacía\n",
    "lista_C = []\n",
    "\n",
    "#Bucle for para que la var c recorra \n",
    "for c in df['Ciudad']:#Q c recorra la serie ciudad\n",
    "    if c not in lista_C:#Si c no está en la lista...\n",
    "        lista_C.append(c)#Q se agregue con la fn .append() a ella\n",
    "lista_C#Verif si se añadió"
   ]
  },
  {
   "cell_type": "markdown",
   "id": "4beb8a70-0801-4104-b0d0-277fe53448c3",
   "metadata": {},
   "source": [
    "Extraemos los meses del df "
   ]
  },
  {
   "cell_type": "code",
   "execution_count": 32,
   "id": "9a162c39-a7ba-4f5d-af76-f465011031cd",
   "metadata": {},
   "outputs": [
    {
     "data": {
      "text/plain": [
       "array([ 1,  2,  3,  4,  5,  6,  7,  8,  9, 10, 11, 12], dtype=int32)"
      ]
     },
     "execution_count": 32,
     "metadata": {},
     "output_type": "execute_result"
    }
   ],
   "source": [
    "#Crearemos una serie exclusiva para los meses y de ahí extraeremos los 12 meses\n",
    "df['Mes'] = df['Fecha'].dt.month\n",
    "Meses = df['Mes'].unique()\n",
    "Meses"
   ]
  },
  {
   "cell_type": "markdown",
   "id": "41245894-c336-4a2f-806f-5e63340fc9da",
   "metadata": {},
   "source": [
    "Inicio de la creación del programa(funcion)"
   ]
  },
  {
   "cell_type": "code",
   "execution_count": 37,
   "id": "88dec626-e30d-4c77-bdcf-f9de43a0a6f7",
   "metadata": {},
   "outputs": [],
   "source": [
    "def ConsulTemp():\n",
    "\n",
    "    #Bucle para que si el user quiere seguir viendo las temp lo pueda hacer\n",
    "    while True:\n",
    "\n",
    "        \n",
    "        #Solicit city:\n",
    "        #Imprimimos las opc de las ciudades\n",
    "        print(\"Ciudades a elegir: Buenos Aires,Cordoba,Rosario,Medoza,Tucuman\")\n",
    "        C = input('Ingrese la ciudad que desea escoger: ').title()\n",
    "\n",
    "\n",
    "        \n",
    "        #Solicit mes\n",
    "        print('Meses a elegir: 1:enero, 2:febrero, 3:marzo, 4:abril, 5:mayo, 6:junio, 7:julio, 8:agosto, 9:septiembre, 10:octubre, 11:noviembre y 12:diciembre')\n",
    "        M = int(input('Ingresa el número del mes que deseas escoger: '))\n",
    "\n",
    "\n",
    "        \n",
    "       \n",
    "        #Verif los inputs de meses y cities solicitados:\n",
    "        if C not in lista_C or M not in Meses:\n",
    "            print('Error en la elección de la ciudad o mes') \n",
    "            continue#Volvemos el princip del bucle while\n",
    "\n",
    "\n",
    "\n",
    "        \n",
    "        #Crear el df filtrado en base al df original q tenemos\n",
    "        datos_de_temp_de_C_M  = df[(df['Ciudad'] == C)&(df['Fecha'].dt.month == M)]#Si el mes y ciudad elegido es uno de los meses-cities del df original...\n",
    "\n",
    "\n",
    "        \n",
    "        #Graficamos las temp de ese df filtrado:\n",
    "        #1:Creamos la pared\n",
    "        plt.figure(figsize=(10,6))\n",
    "        #2:Iniciamos a crear los gráf de temp M y m\n",
    "        plt.plot(datos_de_temp_de_C_M ['Fecha'],datos_de_temp_de_C_M ['Temperatura Maxima'],label='Máxima',color='red',linestyle='-')\n",
    "        plt.plot(datos_de_temp_de_C_M ['Fecha'],datos_de_temp_de_C_M ['Temperatura Minima'],label='Mínima',color='blue',linestyle='-')\n",
    "        #3:Título\n",
    "        plt.title(f'Temperaturas máxima y mínimas del mes {M} en {C}')\n",
    "        #4:Nombre en el eje x\n",
    "        plt.xlabel('Fechas')\n",
    "        #5:Nombre en el eje y\n",
    "        plt.ylabel('Temp')\n",
    "        #6:Leyenda\n",
    "        plt.legend()\n",
    "        #7:Mostrar\n",
    "        plt.show()\n",
    "        \n",
    "\n",
    "        #Preg si el user quiere seguir o no consultando las temp\n",
    "        Si_No = input('Queres seguir consultando temp?(s/n): ')\n",
    "        if Si_No.lower() == 'n':\n",
    "            print('Gracias por probarme, Saludos!!')\n",
    "            break\n",
    "      "
   ]
  },
  {
   "cell_type": "code",
   "execution_count": 38,
   "id": "b57a8ca9-81d8-4622-9b27-a9bc7cac8b2f",
   "metadata": {},
   "outputs": [
    {
     "name": "stdout",
     "output_type": "stream",
     "text": [
      "Ciudades a elegir: Buenos Aires,Cordoba,Rosario,Medoza,Tucuman\n"
     ]
    },
    {
     "name": "stdin",
     "output_type": "stream",
     "text": [
      "Ingrese la ciudad que desea escoger:  mendoza\n"
     ]
    },
    {
     "name": "stdout",
     "output_type": "stream",
     "text": [
      "Meses a elegir: 1:enero, 2:febrero, 3:marzo, 4:abril, 5:mayo, 6:junio, 7:julio, 8:agosto, 9:septiembre, 10:octubre, 11:noviembre y 12:diciembre\n"
     ]
    },
    {
     "name": "stdin",
     "output_type": "stream",
     "text": [
      "Ingresa el número del mes que deseas escoger:  12\n"
     ]
    },
    {
     "data": {
      "image/png": "[encoded data removed]",
      "text/plain": [
       "<Figure size 1000x600 with 1 Axes>"
      ]
     },
     "metadata": {},
     "output_type": "display_data"
    },
    {
     "name": "stdin",
     "output_type": "stream",
     "text": [
      "Queres seguir consultando temp?(s/n):  s\n"
     ]
    },
    {
     "name": "stdout",
     "output_type": "stream",
     "text": [
      "Ciudades a elegir: Buenos Aires,Cordoba,Rosario,Medoza,Tucuman\n"
     ]
    },
    {
     "name": "stdin",
     "output_type": "stream",
     "text": [
      "Ingrese la ciudad que desea escoger:  fasdfsda\n"
     ]
    },
    {
     "name": "stdout",
     "output_type": "stream",
     "text": [
      "Meses a elegir: 1:enero, 2:febrero, 3:marzo, 4:abril, 5:mayo, 6:junio, 7:julio, 8:agosto, 9:septiembre, 10:octubre, 11:noviembre y 12:diciembre\n"
     ]
    },
    {
     "name": "stdin",
     "output_type": "stream",
     "text": [
      "Ingresa el número del mes que deseas escoger:  3\n"
     ]
    },
    {
     "name": "stdout",
     "output_type": "stream",
     "text": [
      "Error en la elección de la ciudad o mes\n",
      "Ciudades a elegir: Buenos Aires,Cordoba,Rosario,Medoza,Tucuman\n"
     ]
    },
    {
     "name": "stdin",
     "output_type": "stream",
     "text": [
      "Ingrese la ciudad que desea escoger:  2\n"
     ]
    },
    {
     "name": "stdout",
     "output_type": "stream",
     "text": [
      "Meses a elegir: 1:enero, 2:febrero, 3:marzo, 4:abril, 5:mayo, 6:junio, 7:julio, 8:agosto, 9:septiembre, 10:octubre, 11:noviembre y 12:diciembre\n"
     ]
    },
    {
     "name": "stdin",
     "output_type": "stream",
     "text": [
      "Ingresa el número del mes que deseas escoger:  2\n"
     ]
    },
    {
     "name": "stdout",
     "output_type": "stream",
     "text": [
      "Error en la elección de la ciudad o mes\n",
      "Ciudades a elegir: Buenos Aires,Cordoba,Rosario,Medoza,Tucuman\n"
     ]
    },
    {
     "name": "stdin",
     "output_type": "stream",
     "text": [
      "Ingrese la ciudad que desea escoger:  dasf\n"
     ]
    },
    {
     "name": "stdout",
     "output_type": "stream",
     "text": [
      "Meses a elegir: 1:enero, 2:febrero, 3:marzo, 4:abril, 5:mayo, 6:junio, 7:julio, 8:agosto, 9:septiembre, 10:octubre, 11:noviembre y 12:diciembre\n"
     ]
    },
    {
     "name": "stdin",
     "output_type": "stream",
     "text": [
      "Ingresa el número del mes que deseas escoger:  dafs\n"
     ]
    },
    {
     "ename": "ValueError",
     "evalue": "invalid literal for int() with base 10: 'dafs'",
     "output_type": "error",
     "traceback": [
      "\u001b[1;31m---------------------------------------------------------------------------\u001b[0m",
      "\u001b[1;31mValueError\u001b[0m                                Traceback (most recent call last)",
      "Cell \u001b[1;32mIn[38], line 1\u001b[0m\n\u001b[1;32m----> 1\u001b[0m \u001b[43mConsulTemp\u001b[49m\u001b[43m(\u001b[49m\u001b[43m)\u001b[49m\n",
      "Cell \u001b[1;32mIn[37], line 16\u001b[0m, in \u001b[0;36mConsulTemp\u001b[1;34m()\u001b[0m\n\u001b[0;32m     14\u001b[0m \u001b[38;5;66;03m#Solicit mes\u001b[39;00m\n\u001b[0;32m     15\u001b[0m \u001b[38;5;28mprint\u001b[39m(\u001b[38;5;124m'\u001b[39m\u001b[38;5;124mMeses a elegir: 1:enero, 2:febrero, 3:marzo, 4:abril, 5:mayo, 6:junio, 7:julio, 8:agosto, 9:septiembre, 10:octubre, 11:noviembre y 12:diciembre\u001b[39m\u001b[38;5;124m'\u001b[39m)\n\u001b[1;32m---> 16\u001b[0m M \u001b[38;5;241m=\u001b[39m \u001b[38;5;28;43mint\u001b[39;49m\u001b[43m(\u001b[49m\u001b[38;5;28;43minput\u001b[39;49m\u001b[43m(\u001b[49m\u001b[38;5;124;43m'\u001b[39;49m\u001b[38;5;124;43mIngresa el número del mes que deseas escoger: \u001b[39;49m\u001b[38;5;124;43m'\u001b[39;49m\u001b[43m)\u001b[49m\u001b[43m)\u001b[49m\n\u001b[0;32m     21\u001b[0m \u001b[38;5;66;03m#Verif los inputs de meses y cities solicitados:\u001b[39;00m\n\u001b[0;32m     22\u001b[0m \u001b[38;5;28;01mif\u001b[39;00m C \u001b[38;5;129;01mnot\u001b[39;00m \u001b[38;5;129;01min\u001b[39;00m lista_C \u001b[38;5;129;01mor\u001b[39;00m M \u001b[38;5;129;01mnot\u001b[39;00m \u001b[38;5;129;01min\u001b[39;00m Meses:\n",
      "\u001b[1;31mValueError\u001b[0m: invalid literal for int() with base 10: 'dafs'"
     ]
    }
   ],
   "source": [
    "ConsulTemp()"
   ]
  }
 ],
 "metadata": {
  "kernelspec": {
   "display_name": "Python 3 (ipykernel)",
   "language": "python",
   "name": "python3"
  },
  "language_info": {
   "codemirror_mode": {
    "name": "ipython",
    "version": 3
   },
   "file_extension": ".py",
   "mimetype": "text/x-python",
   "name": "python",
   "nbconvert_exporter": "python",
   "pygments_lexer": "ipython3",
   "version": "3.12.5"
  }
 },
 "nbformat": 4,
 "nbformat_minor": 5
}
