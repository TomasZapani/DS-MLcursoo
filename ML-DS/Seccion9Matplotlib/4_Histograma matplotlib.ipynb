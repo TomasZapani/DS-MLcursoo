{
 "cells": [
  {
   "cell_type": "code",
   "execution_count": 6,
   "id": "8762a314-57e5-482e-a5fd-affb0b5b85c6",
   "metadata": {},
   "outputs": [],
   "source": [
    "import matplotlib.pyplot as plt\n",
    "import pandas as pd\n",
    "import numpy as np\n",
    "%matplotlib inline"
   ]
  },
  {
   "cell_type": "markdown",
   "id": "472fa4cf-ea4e-4f17-a96f-5142e3a16448",
   "metadata": {},
   "source": [
    "este gráfico distribuye los datos que le demos y muestra con que frecuencia se repite cada uno"
   ]
  },
  {
   "cell_type": "code",
   "execution_count": 3,
   "id": "b490932f-fd7c-4e0d-b130-8507d3f0f6f5",
   "metadata": {},
   "outputs": [
    {
     "data": {
      "text/html": [
       "<div>\n",
       "<style scoped>\n",
       "    .dataframe tbody tr th:only-of-type {\n",
       "        vertical-align: middle;\n",
       "    }\n",
       "\n",
       "    .dataframe tbody tr th {\n",
       "        vertical-align: top;\n",
       "    }\n",
       "\n",
       "    .dataframe thead th {\n",
       "        text-align: right;\n",
       "    }\n",
       "</style>\n",
       "<table border=\"1\" class=\"dataframe\">\n",
       "  <thead>\n",
       "    <tr style=\"text-align: right;\">\n",
       "      <th></th>\n",
       "      <th>Fecha</th>\n",
       "      <th>Producto</th>\n",
       "      <th>Cantidad</th>\n",
       "      <th>Precio Unitario</th>\n",
       "      <th>Total Venta</th>\n",
       "    </tr>\n",
       "  </thead>\n",
       "  <tbody>\n",
       "    <tr>\n",
       "      <th>0</th>\n",
       "      <td>1/17/2023</td>\n",
       "      <td>Electrónic</td>\n",
       "      <td>7</td>\n",
       "      <td>200</td>\n",
       "      <td>1400</td>\n",
       "    </tr>\n",
       "    <tr>\n",
       "      <th>1</th>\n",
       "      <td>9/1/2023</td>\n",
       "      <td>Electrónic</td>\n",
       "      <td>8</td>\n",
       "      <td>200</td>\n",
       "      <td>1600</td>\n",
       "    </tr>\n",
       "    <tr>\n",
       "      <th>2</th>\n",
       "      <td>7/29/2023</td>\n",
       "      <td>Juguetes</td>\n",
       "      <td>3</td>\n",
       "      <td>30</td>\n",
       "      <td>90</td>\n",
       "    </tr>\n",
       "    <tr>\n",
       "      <th>3</th>\n",
       "      <td>10/4/2023</td>\n",
       "      <td>Alimentos</td>\n",
       "      <td>4</td>\n",
       "      <td>10</td>\n",
       "      <td>40</td>\n",
       "    </tr>\n",
       "    <tr>\n",
       "      <th>4</th>\n",
       "      <td>2/28/2023</td>\n",
       "      <td>Electrónic</td>\n",
       "      <td>6</td>\n",
       "      <td>200</td>\n",
       "      <td>1200</td>\n",
       "    </tr>\n",
       "    <tr>\n",
       "      <th>...</th>\n",
       "      <td>...</td>\n",
       "      <td>...</td>\n",
       "      <td>...</td>\n",
       "      <td>...</td>\n",
       "      <td>...</td>\n",
       "    </tr>\n",
       "    <tr>\n",
       "      <th>995</th>\n",
       "      <td>4/27/2023</td>\n",
       "      <td>Alimentos</td>\n",
       "      <td>2</td>\n",
       "      <td>10</td>\n",
       "      <td>20</td>\n",
       "    </tr>\n",
       "    <tr>\n",
       "      <th>996</th>\n",
       "      <td>6/9/2023</td>\n",
       "      <td>Ropa</td>\n",
       "      <td>10</td>\n",
       "      <td>50</td>\n",
       "      <td>500</td>\n",
       "    </tr>\n",
       "    <tr>\n",
       "      <th>997</th>\n",
       "      <td>8/21/2023</td>\n",
       "      <td>Alimentos</td>\n",
       "      <td>8</td>\n",
       "      <td>10</td>\n",
       "      <td>80</td>\n",
       "    </tr>\n",
       "    <tr>\n",
       "      <th>998</th>\n",
       "      <td>3/28/2023</td>\n",
       "      <td>Electrónic</td>\n",
       "      <td>6</td>\n",
       "      <td>200</td>\n",
       "      <td>1200</td>\n",
       "    </tr>\n",
       "    <tr>\n",
       "      <th>999</th>\n",
       "      <td>3/7/2023</td>\n",
       "      <td>Electrónic</td>\n",
       "      <td>4</td>\n",
       "      <td>200</td>\n",
       "      <td>800</td>\n",
       "    </tr>\n",
       "  </tbody>\n",
       "</table>\n",
       "<p>1000 rows × 5 columns</p>\n",
       "</div>"
      ],
      "text/plain": [
       "         Fecha    Producto  Cantidad  Precio Unitario  Total Venta\n",
       "0    1/17/2023  Electrónic         7              200         1400\n",
       "1     9/1/2023  Electrónic         8              200         1600\n",
       "2    7/29/2023    Juguetes         3               30           90\n",
       "3    10/4/2023   Alimentos         4               10           40\n",
       "4    2/28/2023  Electrónic         6              200         1200\n",
       "..         ...         ...       ...              ...          ...\n",
       "995  4/27/2023   Alimentos         2               10           20\n",
       "996   6/9/2023        Ropa        10               50          500\n",
       "997  8/21/2023   Alimentos         8               10           80\n",
       "998  3/28/2023  Electrónic         6              200         1200\n",
       "999   3/7/2023  Electrónic         4              200          800\n",
       "\n",
       "[1000 rows x 5 columns]"
      ]
     },
     "execution_count": 3,
     "metadata": {},
     "output_type": "execute_result"
    }
   ],
   "source": [
    "df = pd.read_csv('Ventas.csv')\n",
    "df"
   ]
  },
  {
   "cell_type": "code",
   "execution_count": null,
   "id": "72b93d04-3c0b-4269-bb15-ef4c700394cf",
   "metadata": {},
   "outputs": [],
   "source": [
    "Fn para crear un histograma"
   ]
  },
  {
   "cell_type": "code",
   "execution_count": 5,
   "id": "31637daf-0616-4d5f-a7fc-ba835223de81",
   "metadata": {},
   "outputs": [
    {
     "data": {
      "image/png": "[encoded data removed]",
      "text/plain": [
       "<Figure size 640x480 with 1 Axes>"
      ]
     },
     "metadata": {},
     "output_type": "display_data"
    }
   ],
   "source": [
    "#Gráficamos los productos del df\n",
    "plt.hist(df['Producto']);#Solo nos pide el eje x y el eje y lo calcula de acuerdo a la cant de veces que se repitan nuestras x\n",
    "#Le podemos pasar cualquier cosa como arg, una serie, lista, un array unidimensional de np,etc"
   ]
  },
  {
   "cell_type": "code",
   "execution_count": null,
   "id": "871ce493-0a70-4847-97cf-09e5d0a1d803",
   "metadata": {},
   "outputs": [],
   "source": [
    "Creación de un gráfico de ejemplo, demostrando una porcion de la realidad"
   ]
  },
  {
   "cell_type": "code",
   "execution_count": 8,
   "id": "9154d408-3c99-4e9c-b948-b34d3e80c40b",
   "metadata": {},
   "outputs": [
    {
     "data": {
      "text/plain": [
       "array([-2.08293646e+00, -4.15868321e-01, -3.77064835e-01,  3.49092366e-01,\n",
       "        1.11448672e+00,  9.11963931e-01,  2.18824161e-01,  7.37744033e-01,\n",
       "       -5.47992483e-01, -1.40413814e+00, -1.14804731e+00,  9.34980492e-01,\n",
       "        5.15468739e-01,  3.16908470e-01,  1.27588237e+00, -1.21077243e-01,\n",
       "        7.42714447e-01, -2.48377859e-01,  2.92096386e-01, -1.75803742e+00,\n",
       "        2.93380956e-01,  1.38770513e-01, -8.90566251e-01,  7.97316912e-01,\n",
       "        1.51954661e-01,  2.17439301e-01,  9.06449473e-01, -2.12214493e-01,\n",
       "        1.06874261e-01,  1.18117975e-01,  1.39686799e+00,  1.68272531e+00,\n",
       "        1.34382695e+00,  4.65036907e-01, -6.49377167e-01,  3.66579250e-01,\n",
       "        2.27383714e-01, -1.12684710e+00,  3.97472634e-01,  4.55355107e-01,\n",
       "        9.61180641e-01, -1.39645697e+00, -6.92395385e-01,  6.39071237e-01,\n",
       "       -5.25323946e-01,  4.38295893e-01, -1.32919604e+00, -1.24309773e+00,\n",
       "        4.83184866e-01, -1.84449389e+00, -2.89325324e-01,  8.10421515e-01,\n",
       "        2.87588898e-01,  7.41723483e-01,  9.30602728e-01, -9.89813503e-01,\n",
       "       -4.63116638e-02, -2.29145693e+00, -8.55095037e-01,  2.96777717e-01,\n",
       "        5.03782539e-01, -4.97843076e-01, -8.54818422e-01, -2.20078723e-01,\n",
       "       -9.47362153e-01,  9.23987095e-01, -1.02881198e+00, -3.15558574e+00,\n",
       "       -3.48197232e-01, -9.07718120e-01,  4.09811588e-01, -1.75595208e+00,\n",
       "        4.71046707e-01,  9.94204232e-01,  8.22732380e-01,  8.85304253e-01,\n",
       "       -2.21454581e+00,  9.88060914e-01, -4.75163015e-02, -4.49186922e-01,\n",
       "       -1.63256458e+00,  1.45496841e+00,  8.11565246e-01, -7.36385979e-01,\n",
       "       -7.79050379e-01,  1.58749091e-01,  7.31545865e-01, -1.55724478e+00,\n",
       "       -8.97592807e-01, -4.09930741e-01, -1.85983207e-01, -6.97994136e-01,\n",
       "       -9.38314981e-01, -5.86066707e-01, -2.78691563e-01,  1.24390949e+00,\n",
       "        1.22248638e-01, -3.60603600e-01, -7.03119356e-01, -1.46364437e+00,\n",
       "       -1.04514398e+00, -2.43111426e-01, -7.36198076e-01,  1.10518087e+00,\n",
       "       -5.45217137e-01, -2.02975299e-03,  8.05592255e-01,  6.04688568e-01,\n",
       "       -1.84968082e-01, -2.19412748e-01, -2.14890474e-01,  8.52282008e-01,\n",
       "       -1.78557146e+00, -5.57239516e-01, -2.84318012e+00, -4.44472448e-01,\n",
       "       -2.95008919e-01, -9.60172538e-01,  2.49236256e-01,  3.51814531e-01,\n",
       "       -9.22411660e-01, -5.55411253e-01,  1.43345716e-01, -1.61990296e+00,\n",
       "        1.58433535e+00,  1.63067343e+00,  1.06282698e+00,  4.11239622e-01,\n",
       "        2.08186456e-01,  6.15553131e-02,  4.68491612e-01,  9.73373469e-01,\n",
       "        4.56160795e-01,  8.48453953e-01, -1.06013436e+00,  1.80729818e-01,\n",
       "        9.99745484e-01, -4.39049899e-01, -1.22127008e+00,  5.47560400e-01,\n",
       "        6.76971675e-01,  3.80442182e-02, -3.79789831e-01, -2.25990025e+00,\n",
       "        1.59457789e+00,  1.50784639e-01, -1.76084670e+00, -2.22116215e+00,\n",
       "        6.87722958e-01,  5.40349162e-01, -5.51789818e-01,  4.37188840e-01,\n",
       "        3.18341428e-01,  1.06637115e-01, -1.22646784e+00,  8.23734952e-01,\n",
       "        8.74019800e-01, -6.55807973e-01, -5.90975975e-01, -2.22171001e-01,\n",
       "       -1.80355017e+00,  1.52745154e-01, -7.63638436e-01,  2.32010476e+00,\n",
       "       -7.29737354e-01, -2.01173784e+00,  2.37807634e+00,  8.55214845e-01,\n",
       "       -2.11965043e+00,  7.54783510e-01, -9.70162790e-01,  2.74976440e-01,\n",
       "       -4.56325778e-01,  2.93166861e+00,  2.09851102e-01,  6.88136748e-01,\n",
       "       -2.33619974e+00,  3.54032542e-01, -7.19833596e-01,  7.67795549e-01,\n",
       "        1.24370361e+00, -9.15505297e-01, -9.75743988e-01,  1.59960073e+00,\n",
       "       -2.56200185e-01, -4.45337330e-01, -1.08584404e-01, -1.68334806e+00,\n",
       "       -5.01730381e-02,  2.86990873e+00, -2.25862122e-01, -6.77112797e-01,\n",
       "        1.12698632e+00,  7.80926036e-01, -1.35658295e+00, -8.91711378e-01,\n",
       "        8.03194801e-01, -1.22098691e-01, -7.67919649e-01,  8.12727243e-03,\n",
       "        9.91206824e-01,  1.41845248e+00,  1.47551925e-01,  5.52944695e-01,\n",
       "        1.60607703e+00, -1.34003037e-01, -7.86898707e-01, -2.91498584e-01,\n",
       "       -9.34203170e-01,  1.41286195e+00,  5.89685557e-01, -7.97431705e-01,\n",
       "       -1.00528986e+00, -2.49630003e+00, -4.57564845e-01,  3.39582224e-02,\n",
       "        1.15308580e-01,  7.97973539e-01,  5.01334625e-01, -9.76726381e-02,\n",
       "        2.03766681e-01, -8.87156551e-01, -6.45356735e-01,  6.37636837e-01,\n",
       "       -1.76919986e+00, -1.00289783e+00,  7.05396748e-01, -1.52043417e+00,\n",
       "       -6.51908095e-01, -5.31673856e-01, -1.61656236e+00, -3.86802139e-01,\n",
       "        5.65284132e-02,  2.42585426e-01, -1.90019192e-01,  5.11232434e-01,\n",
       "       -2.94335290e-02, -1.77976287e-01, -1.96650289e+00,  1.21013229e-01,\n",
       "        2.94237076e-01,  9.16139589e-01, -6.73691049e-01,  1.33408878e+00,\n",
       "        6.34024571e-01, -4.97030541e-01,  6.27524160e-01,  1.32969245e+00,\n",
       "        1.27819381e+00,  1.36213891e+00,  1.02683708e+00,  1.15618195e+00,\n",
       "        6.50316559e-01,  2.20190656e+00,  1.30366391e+00,  3.20024318e-01,\n",
       "       -2.26574186e-01, -1.37720841e+00,  3.14168351e+00,  2.26554231e-01,\n",
       "        1.02586719e+00,  1.01452977e+00,  4.08123681e-01, -1.32680915e+00,\n",
       "        1.73735318e+00,  5.48411641e-01,  8.54892054e-01, -1.57968347e+00,\n",
       "        1.06185657e+00, -2.15102293e+00,  7.11622582e-01,  8.55426484e-01,\n",
       "        1.65165073e+00, -1.10793841e+00,  9.87050831e-01, -5.03110366e-01,\n",
       "       -9.27674061e-01,  1.34950210e+00,  3.05956598e-01, -1.68057845e+00,\n",
       "       -5.38365148e-01, -8.44023092e-01,  4.79872042e-01,  1.28771845e+00,\n",
       "        2.08479830e-01, -6.11405399e-01,  1.22615675e+00, -6.17275966e-01,\n",
       "        1.46176638e-01, -6.07150710e-02,  2.69895426e+00,  2.00746360e-01,\n",
       "        7.06873733e-01,  5.83323491e-01,  3.29841814e-01,  1.38684462e-01,\n",
       "        1.18353261e+00, -4.37070112e-01,  5.92086013e-01, -6.01554139e-02,\n",
       "        1.29193853e+00,  1.61414961e+00, -1.37881451e+00, -2.48732515e-01,\n",
       "       -6.93907888e-01, -1.32772658e-01,  1.97754246e+00,  6.66869045e-01,\n",
       "       -1.37914672e+00,  8.67985273e-01, -2.15007883e+00, -8.23309778e-01,\n",
       "       -3.67702852e-01, -7.56028380e-01,  6.00058821e-01,  6.88740902e-01,\n",
       "        1.11133882e+00, -5.53692020e-01, -4.64953206e-01, -8.05923411e-01,\n",
       "        9.20415896e-01,  6.24759744e-01, -4.42145381e-01,  1.40773248e+00,\n",
       "       -4.40740406e-01, -2.84449760e-01,  1.87573324e-01,  1.12011590e-02,\n",
       "        1.90385299e+00, -2.56895527e+00,  1.06746825e+00,  7.77045079e-01,\n",
       "        1.32502137e+00,  1.29922346e+00, -1.08162436e-01, -9.63900670e-01,\n",
       "        7.53758878e-01, -2.67034256e-01, -2.02926073e+00,  2.05638748e+00,\n",
       "        5.93270375e-01, -4.20472068e-02,  2.04269124e-01,  6.88175450e-01,\n",
       "        1.43926367e-02, -2.90015027e-01, -1.41068925e+00, -6.66561515e-01,\n",
       "       -2.05471495e-01, -1.12252698e+00, -5.47350930e-01,  5.40962865e-01,\n",
       "       -7.36313093e-01, -2.71689326e-02, -1.39730101e+00, -6.23166545e-01,\n",
       "        7.83589772e-01, -4.56024271e-01, -9.11239508e-01,  4.05730797e-01,\n",
       "        2.74841954e-01, -3.51747962e-01,  2.38689504e+00,  3.07466418e-01,\n",
       "        7.70409142e-03,  3.95663487e-01,  1.09607146e+00, -6.50553774e-01,\n",
       "        5.17032760e-01, -1.52558831e+00,  7.40647384e-01,  7.72507724e-01,\n",
       "        2.68079650e-01,  2.24199756e+00,  6.57008623e-01,  3.34602913e+00,\n",
       "       -1.69820531e+00,  8.26218267e-01, -4.50683450e-01,  3.04141931e-01,\n",
       "       -1.23501335e+00, -1.67124829e+00,  1.28603851e+00,  3.72517401e-01,\n",
       "       -3.01261736e-01,  5.38519951e-01,  1.76989674e+00,  3.99130514e-01,\n",
       "        4.72044185e-02, -1.24290509e+00, -7.32625163e-01, -3.44087252e-02,\n",
       "       -2.91635260e-02,  9.29992457e-01,  1.09195302e+00,  9.43965741e-01,\n",
       "       -3.43545734e-01, -1.22415555e-01,  1.50119158e+00, -6.98879345e-01,\n",
       "       -2.67977580e-01,  2.05949285e-01,  1.09878729e+00,  4.73395485e-01,\n",
       "       -1.70754984e-01, -1.01888809e+00,  1.20548517e+00,  1.81127910e+00,\n",
       "        1.59540949e+00,  1.07477242e+00, -1.68560447e-01, -8.06352992e-01,\n",
       "        2.82266977e-01,  4.62815887e-01,  5.96094931e-01,  9.38951439e-01,\n",
       "       -3.96098358e-01,  8.02868798e-01, -3.12682936e-01,  8.06803549e-01,\n",
       "       -1.82327830e+00,  9.23818084e-01,  1.84051712e-01,  1.10769348e+00,\n",
       "        7.65017170e-01, -8.48453517e-01, -2.01750664e+00,  2.83177620e-01,\n",
       "        8.74325714e-01, -8.51294022e-01, -9.17786094e-01,  1.62395200e+00,\n",
       "        1.13533675e+00, -5.07294733e-01, -1.16069415e+00,  1.49276555e+00,\n",
       "       -8.12340491e-01,  8.87920637e-02,  1.54967040e+00,  5.32870408e-01,\n",
       "       -4.38377932e-01, -2.83922872e+00,  2.68119573e-01, -8.30504215e-01,\n",
       "       -3.21828931e-01, -1.17811973e+00, -7.39239553e-01, -4.13674473e-01,\n",
       "        4.29324278e-01,  1.92718771e+00, -1.72848064e+00, -1.64382637e-01,\n",
       "       -1.51664998e+00,  1.93011462e-01,  1.01505329e+00, -1.04199853e+00,\n",
       "        1.38290072e-01,  1.77768331e-01, -2.22328433e-01, -6.03108354e-01,\n",
       "        1.82883344e+00, -7.82588354e-01,  9.02950487e-02, -7.89145100e-01,\n",
       "        1.29111150e+00, -1.06531470e-01,  1.91952763e+00,  7.26108299e-01,\n",
       "        2.88813157e-01,  5.66521877e-01,  2.24410898e+00, -2.24069569e+00,\n",
       "       -1.02501709e-01,  1.14050305e+00, -2.52986663e-02,  2.20019226e-01,\n",
       "       -6.32824162e-01,  9.71476105e-01,  1.92150867e+00,  3.17868637e-01,\n",
       "       -4.37986985e-01,  7.05758919e-02, -5.16297257e-01, -5.08851774e-01,\n",
       "        8.97956515e-02, -9.80813718e-01, -5.62450649e-02, -2.13156997e-02,\n",
       "        1.19801674e+00,  7.51973674e-01, -9.54697386e-01, -5.86407789e-01,\n",
       "        7.56020718e-01, -4.18785646e-01,  1.08013192e+00, -2.85935256e+00,\n",
       "        2.05310686e+00,  2.92542005e-01, -1.12192860e+00, -8.30579917e-01,\n",
       "        2.10251753e-01, -1.75536088e-01,  3.74813666e-01, -2.04862047e+00,\n",
       "       -1.21905835e+00, -1.95771176e+00,  4.34298893e-01,  4.70763174e-01,\n",
       "       -5.63169454e-01, -4.42305486e-02,  2.68370164e+00,  6.07623909e-01,\n",
       "        1.28111603e+00, -1.96412255e+00,  3.57900972e-01,  2.90820356e-01,\n",
       "       -3.32005543e-01,  5.31393513e-01, -8.09719072e-01, -6.94653058e-02,\n",
       "       -1.27316801e+00,  1.32405223e+00, -1.52809082e-01,  1.12939726e+00,\n",
       "       -1.09247083e+00, -3.59379109e-01,  1.61009595e-01, -2.22508635e-01,\n",
       "        7.79455855e-01, -8.79965849e-01,  1.08911179e+00, -2.65536602e-01,\n",
       "       -2.20170213e+00,  5.94924014e-01,  2.29933981e+00,  5.35526195e-01,\n",
       "       -4.65080315e-01, -1.14960268e+00,  3.42070991e-01,  1.25537705e+00,\n",
       "       -5.79224330e-01, -1.43506968e+00,  5.32081394e-02,  4.06691110e-02,\n",
       "        1.82080588e+00,  1.63465900e-01,  5.05204661e-01,  7.36554443e-01,\n",
       "        1.90240930e+00,  6.74550223e-01,  1.22632420e-01,  7.19300858e-01,\n",
       "       -1.08981685e+00, -7.93220286e-01, -9.70678231e-01,  1.79388427e-01,\n",
       "       -1.50111107e-01,  2.45586628e-02, -8.76416833e-01, -1.36591333e-01,\n",
       "       -4.43137508e-01,  1.08844483e+00, -3.94107769e-01,  1.25860305e+00,\n",
       "       -8.01794840e-01, -8.64883994e-01, -2.26441814e-02, -8.37329076e-01,\n",
       "       -4.54086717e-01,  1.04117088e+00,  1.02177773e+00, -8.61531264e-01,\n",
       "        1.08515951e+00,  4.48499927e-01, -1.69152708e-01,  1.89674094e+00,\n",
       "        5.84659821e-01, -2.85460117e-01, -1.32289068e+00, -1.76164354e+00,\n",
       "       -4.37099623e-01, -1.60987599e-01, -7.31787129e-01, -1.99360717e+00,\n",
       "        3.10416277e-01,  1.75817759e-01, -2.65816928e-01,  4.66722676e-02,\n",
       "       -3.17790727e-01,  1.33959257e+00,  1.89984521e+00,  9.03430961e-01,\n",
       "       -1.23025670e+00, -1.46724831e+00, -6.76198266e-01, -6.61153075e-01,\n",
       "        2.03268669e-01,  7.58306806e-02, -9.27302087e-01, -8.35302118e-02,\n",
       "       -8.89821506e-02, -4.64738992e-01, -8.37038206e-01,  8.34188443e-01,\n",
       "       -2.09965693e+00, -1.42026138e+00,  1.15238175e+00,  1.09143556e+00,\n",
       "       -8.48596923e-02,  7.45569010e-01,  3.04569112e-01, -9.39857190e-01,\n",
       "       -1.91954081e+00, -4.57210777e-01,  2.54888380e+00, -3.89561517e-01,\n",
       "       -1.68249457e+00, -2.79733694e-01, -1.82532469e+00, -4.84837378e-01,\n",
       "        7.90899682e-01,  1.20975761e+00, -8.65565273e-01,  8.23037958e-01,\n",
       "       -5.18354522e-01,  1.18979808e-01, -8.60724047e-01, -3.57323981e-01,\n",
       "        1.90617146e-01, -6.98152160e-02,  1.68152126e+00,  1.16532451e+00,\n",
       "       -6.22355561e-01, -7.13190407e-01, -4.60311533e-01, -1.81516137e+00,\n",
       "        1.07477918e+00, -1.14787949e-01, -7.71512917e-01, -1.04908809e-01,\n",
       "        7.32962621e-01,  2.39223073e+00,  3.17479345e+00,  7.01013193e-01,\n",
       "        2.14575958e-01,  1.27605635e-01, -9.98306040e-02, -1.10799704e+00,\n",
       "        8.43280933e-01,  9.91807179e-01,  4.55857909e-01, -1.54065438e-01,\n",
       "       -1.21800022e-01,  5.42970670e-01, -1.14986392e+00,  5.69719748e-01,\n",
       "       -2.49681068e+00,  6.25886753e-01,  1.56988837e-01, -5.07912310e-01,\n",
       "        8.53493331e-02,  3.45469128e-01, -5.43183349e-01,  7.11797266e-01,\n",
       "       -1.01843369e+00, -9.91442101e-01,  4.61293851e-01, -7.35108764e-02,\n",
       "       -3.47049068e-01,  1.26761850e-01, -2.29608142e+00,  5.20659640e-01,\n",
       "        1.54503940e+00,  1.55235268e-01, -6.99799396e-02,  6.16611211e-01,\n",
       "       -2.56912319e-01, -1.59439208e+00, -8.85150188e-02,  6.13394438e-01,\n",
       "       -4.34709924e-01, -4.90681528e-01, -1.09469227e+00,  4.89205777e-02,\n",
       "       -3.99558623e-01, -5.27045046e-01, -2.77622893e+00, -8.72969062e-01,\n",
       "        1.20531864e-01, -1.32820606e-01,  9.16162907e-01, -7.08403502e-01,\n",
       "        8.04717350e-01,  2.10065199e-01,  6.34585374e-01,  4.57256594e-01,\n",
       "       -1.36213423e-01,  8.53947941e-01,  1.40698663e+00,  1.34124697e+00,\n",
       "       -2.44753038e+00, -6.41940919e-01,  7.24377428e-01,  4.55234641e-01,\n",
       "       -6.13825185e-01, -7.09448700e-01,  8.04851270e-01,  7.26254846e-01,\n",
       "        5.03835907e-01, -4.96519770e-01, -6.73542087e-02,  1.19315278e-01,\n",
       "        1.36774634e+00, -8.93363171e-01, -1.84377957e+00, -7.49659042e-02,\n",
       "       -6.41321529e-01, -1.45182588e-01, -6.70930971e-01,  7.50689207e-01,\n",
       "       -6.85735779e-01,  6.55563039e-01,  2.47126721e-01,  1.07033199e+00,\n",
       "       -1.31888681e-01,  6.19851240e-01,  2.02307704e+00, -7.45084059e-01,\n",
       "        4.74785044e-02, -2.85278339e-01, -2.06058923e+00, -1.72955363e+00,\n",
       "        1.58938764e-01,  2.73117604e-01,  1.20647330e-01,  6.07560686e-01,\n",
       "        2.48178748e-01,  5.76466932e-01, -5.43860573e-02,  1.20080387e+00,\n",
       "        9.71722056e-01,  1.02700653e-01,  1.14661669e+00, -1.10600339e-01,\n",
       "        7.91776750e-01,  8.09438254e-02,  2.83590513e-01,  1.45533208e+00,\n",
       "        8.39485884e-01, -4.43287805e-01, -3.27101435e-02, -7.56624865e-01,\n",
       "        3.22711077e-01,  5.47123613e-02,  1.41088245e-01, -2.63315071e-01,\n",
       "       -2.52534523e-01,  3.07034303e-01, -2.55239082e-02,  1.04278471e-01,\n",
       "       -6.65999982e-01,  5.14533653e-01,  1.41868581e+00,  1.12321839e+00,\n",
       "        1.40742360e+00,  8.76638447e-02,  1.05540013e-01, -1.10609385e+00,\n",
       "        2.02233060e+00,  8.44443091e-01, -1.22153355e+00, -1.33528770e+00,\n",
       "       -2.41800748e-01,  2.07425682e+00,  1.18889571e+00,  2.17776001e-02,\n",
       "        3.51651269e-01, -1.34194562e-01, -1.28001136e-01, -2.27931049e-01,\n",
       "        2.22419234e+00, -1.07463745e+00,  4.00802924e-01, -2.70546594e-01,\n",
       "       -3.79904777e-01, -5.00966623e-01, -2.39502641e-01,  1.13325597e-01,\n",
       "        6.15980702e-01, -6.70192596e-02,  1.08498522e+00,  1.55434255e+00,\n",
       "        1.93980358e+00, -1.18725331e+00, -1.38596389e-01, -2.47657432e-01,\n",
       "        7.41556388e-01, -5.26487200e-02,  4.36092927e-01,  3.80291191e-02,\n",
       "        9.52656845e-01,  3.70212358e-01, -5.09378164e-01,  8.14635863e-01,\n",
       "       -2.21981252e+00, -1.27708453e+00, -1.07358124e+00, -1.00302565e+00,\n",
       "       -8.45089495e-02,  9.57679903e-01,  5.38801278e-01, -7.35522301e-01,\n",
       "       -1.48439962e+00, -1.06790431e+00, -8.20798549e-01, -2.56213786e-02,\n",
       "        8.77172378e-01,  1.21962309e+00, -4.79885127e-01, -1.57105919e+00,\n",
       "       -1.77545446e-01, -2.50827293e+00, -1.92313987e-01, -1.53427371e-01,\n",
       "        1.03498922e-01, -1.70810310e-01,  1.70489226e+00,  9.44055983e-01,\n",
       "        1.52035483e-01, -7.89252886e-01, -6.05899791e-01,  5.47371100e-01,\n",
       "        8.62957929e-01, -1.21417911e+00,  8.64560376e-01, -1.12946917e+00,\n",
       "       -9.94430090e-01,  5.57779384e-01,  1.03700065e+00,  1.51956434e-01,\n",
       "       -9.69335132e-01,  3.33898534e-01,  1.82158675e-01, -2.16223092e-01,\n",
       "        1.26393812e+00, -4.25484907e-01, -4.21040669e-01, -4.81285681e-01,\n",
       "       -7.87888499e-01,  4.64651092e-01,  6.76217565e-01, -3.43205524e-01,\n",
       "        1.10677699e-01, -1.01010221e+00, -1.81252882e+00, -1.20288741e-02,\n",
       "        4.35425665e-01,  2.39614059e-01, -9.98046931e-01, -1.18643177e-01,\n",
       "       -2.16063391e+00, -6.54407250e-01, -2.16935925e-01, -1.65856400e+00,\n",
       "       -7.41667809e-01,  5.86285056e-01,  2.97505204e-01,  4.95159871e-01,\n",
       "        1.00108548e-01,  5.64623034e-01, -8.86627484e-01, -1.46379360e+00,\n",
       "       -7.96294340e-01, -5.94836847e-02, -1.32454309e+00,  1.20952052e+00,\n",
       "       -5.79761111e-01,  1.11222834e+00,  4.58293356e-01, -8.36614877e-01,\n",
       "        6.03418259e-02,  1.72658670e+00, -6.46443019e-01,  7.47699698e-01,\n",
       "        6.88815021e-01, -2.91933379e-01,  9.65917811e-01,  3.58835696e-01,\n",
       "       -8.48858779e-01, -6.75569331e-01,  5.32101448e-01,  2.70249317e+00,\n",
       "        9.72756119e-02, -1.30382309e+00, -5.95317739e-01, -3.49508228e-01,\n",
       "       -1.34591238e+00,  1.17412086e+00, -8.52772392e-01,  1.42875337e-01,\n",
       "       -7.72592559e-01,  2.05067364e-01,  2.94099514e-01,  2.40520184e-01,\n",
       "       -6.18971626e-01,  1.25956630e+00,  1.22792557e+00,  5.01803343e-02,\n",
       "       -5.94548041e-01, -1.32071723e+00,  1.35336911e+00,  4.95157527e-01,\n",
       "        2.13466464e-01,  5.47712047e-01,  5.01976825e-01,  2.01097264e+00,\n",
       "       -2.18421745e-02, -1.18400236e-01, -2.11629848e-01,  1.66092300e+00,\n",
       "        1.87819527e+00, -6.22772272e-01, -8.66804792e-01, -1.79501409e-01,\n",
       "       -4.76387282e-01, -1.21580404e+00, -1.35518997e+00,  6.44506732e-01,\n",
       "       -2.15182191e-01,  4.10317688e-01,  2.18664620e-02,  9.57286104e-01,\n",
       "       -7.02428566e-01, -1.51153164e+00, -3.48475281e-01, -1.27774395e+00,\n",
       "        5.42564462e-01, -8.32433168e-01,  9.74853158e-01,  3.07971573e-02,\n",
       "       -1.88318783e-01, -3.01472205e-01, -1.30148404e+00,  1.25913078e+00,\n",
       "        1.65243384e+00, -9.82936379e-01, -8.81198026e-01, -5.91020149e-01,\n",
       "       -8.25826911e-01, -6.75678276e-01, -1.03632338e+00,  7.78087751e-02,\n",
       "       -1.67781006e+00, -8.93406894e-01,  7.92488080e-01,  7.87942183e-01,\n",
       "       -4.17088114e-01, -1.49815764e+00,  1.70408257e-01,  1.43009724e+00,\n",
       "       -6.55680980e-01, -1.68856954e+00,  1.08526064e-01, -1.21516971e+00,\n",
       "        1.02858826e+00, -2.86627198e-01,  1.78135579e-01, -1.95560319e-01,\n",
       "        5.22412717e-01, -1.50979551e+00, -5.42593680e-01,  1.69083445e-01,\n",
       "        4.93984971e-01, -4.96229669e-01, -2.21285011e+00,  1.23365178e+00,\n",
       "        4.88630402e-02, -2.85376439e-01,  1.40301251e+00,  5.62569696e-01,\n",
       "       -5.85697098e-01, -8.07488396e-01,  6.02362345e-01, -1.11693150e-01,\n",
       "       -2.87156320e-01, -7.10206560e-01, -8.00902316e-01,  1.00469786e+00,\n",
       "        4.93429465e-01,  7.26012238e-01, -7.47733685e-01, -1.21890837e+00,\n",
       "       -2.19373599e+00,  4.08799494e-01, -8.49850864e-01,  5.60112946e-01,\n",
       "       -1.48297116e+00,  2.87072002e-01, -3.95175609e-01, -2.26415599e-01])"
      ]
     },
     "execution_count": 8,
     "metadata": {},
     "output_type": "execute_result"
    }
   ],
   "source": [
    "#Creamos mil numeros aleatorios \n",
    "numeros = np.random.randn(1000)#random tiene la fn randn que crea un conj de numero con la cant que le pasemos\n",
    "numeros"
   ]
  },
  {
   "cell_type": "code",
   "execution_count": 10,
   "id": "ccb08894-617f-4906-8fa1-85395e296880",
   "metadata": {},
   "outputs": [
    {
     "data": {
      "image/png": "[encoded data removed]",
      "text/plain": [
       "<Figure size 640x480 with 1 Axes>"
      ]
     },
     "metadata": {},
     "output_type": "display_data"
    }
   ],
   "source": [
    "#Gráficamos los mil generados, esto demuestra que el promedio de los num generado ronda en 0(el pico de la montaña está ahi) y la desviacion estándar(cuanto se alejan los demas num del promedio) es cercana a 1\n",
    "plt.hist(numeros);"
   ]
  },
  {
   "cell_type": "code",
   "execution_count": 11,
   "id": "a244f807-00f7-4809-b292-d7de03713428",
   "metadata": {},
   "outputs": [
    {
     "data": {
      "image/png": "[encoded data removed]",
      "text/plain": [
       "<Figure size 640x480 with 1 Axes>"
      ]
     },
     "metadata": {},
     "output_type": "display_data"
    }
   ],
   "source": [
    "#Graficamos a nuestro gusto, le metemos mas contenedores gracias el param bins\n",
    "plt.hist(numeros,bins=40);#Con el param bins se agrupa en menor distancia y permite observar de mejor forma, básicamente pone los datos en 40 contenedores "
   ]
  },
  {
   "cell_type": "code",
   "execution_count": 13,
   "id": "6d38a526-adeb-4981-aa39-ccb176e5c53c",
   "metadata": {},
   "outputs": [
    {
     "data": {
      "image/png": "[encoded data removed]",
      "text/plain": [
       "<Figure size 640x480 with 1 Axes>"
      ]
     },
     "metadata": {},
     "output_type": "display_data"
    }
   ],
   "source": [
    "#Graficamos a nuestro gusto, le cambiamos la opacicidad del gráf gracias al param alpha\n",
    "plt.hist(numeros,bins=40,alpha=0.5);"
   ]
  },
  {
   "cell_type": "code",
   "execution_count": 20,
   "id": "4f9eba80-e181-44de-870f-f119a11a7678",
   "metadata": {},
   "outputs": [
    {
     "data": {
      "image/png": "[encoded data removed]",
      "text/plain": [
       "<Figure size 640x480 with 1 Axes>"
      ]
     },
     "metadata": {},
     "output_type": "display_data"
    }
   ],
   "source": [
    "#Graficamos a nuestro gusto, le cambiamo el colo del gráf gracias al param color\n",
    "plt.hist(numeros,bins=40,alpha=1,color='yellow');"
   ]
  },
  {
   "cell_type": "code",
   "execution_count": 21,
   "id": "302ff7b0-75a0-4229-bd74-da8c9208db77",
   "metadata": {},
   "outputs": [
    {
     "data": {
      "image/png": "[encoded data removed]",
      "text/plain": [
       "<Figure size 640x480 with 1 Axes>"
      ]
     },
     "metadata": {},
     "output_type": "display_data"
    }
   ],
   "source": [
    "#Graficamos a nuestro gusto, le cambiamo el color con este parám de los bordes  del gráfico gracias a edgecolor\n",
    "plt.hist(numeros,bins=40,alpha=1,color='yellow',edgecolor='blue');"
   ]
  },
  {
   "cell_type": "code",
   "execution_count": 22,
   "id": "2b3df1dc-2eac-49a1-b941-bb8a151a1149",
   "metadata": {},
   "outputs": [
    {
     "data": {
      "image/png": "[encoded data removed]",
      "text/plain": [
       "<Figure size 640x480 with 1 Axes>"
      ]
     },
     "metadata": {},
     "output_type": "display_data"
    }
   ],
   "source": [
    "#Graficamos a nuestro gusto, le borramos el relleno del gráf con este parámetro histtype y hacemos que solo aparezca el borde\n",
    "plt.hist(numeros,bins=40,alpha=1,color='yellow',edgecolor='blue',histtype='step');"
   ]
  },
  {
   "cell_type": "markdown",
   "id": "43f4061e-be49-4272-8d9e-b126a127f777",
   "metadata": {},
   "source": [
    "Representar varios histogramas en un mismo axes-marco"
   ]
  },
  {
   "cell_type": "code",
   "execution_count": 28,
   "id": "2ca15daf-bb27-43e2-9a4d-d7eacf61f2c5",
   "metadata": {},
   "outputs": [
    {
     "data": {
      "image/png": "[encoded data removed]",
      "text/plain": [
       "<Figure size 640x480 with 1 Axes>"
      ]
     },
     "metadata": {},
     "output_type": "display_data"
    }
   ],
   "source": [
    "x1 = np.random.randn(1000)\n",
    "x2 = np.random.randn(500)\n",
    "x3 = np.random.randn(100)\n",
    "\n",
    "#Le pasamos 3 histogramas bajo un mismo marco-cuadro, todo en uno \n",
    "plt.hist(x1,histtype='stepfilled',alpha=0.3,bins=40)\n",
    "plt.hist(x2,histtype='stepfilled',alpha=0.3,bins=40)\n",
    "plt.hist(x3,histtype='stepfilled',alpha=0.3,bins=40);"
   ]
  }
 ],
 "metadata": {
  "kernelspec": {
   "display_name": "Python 3 (ipykernel)",
   "language": "python",
   "name": "python3"
  },
  "language_info": {
   "codemirror_mode": {
    "name": "ipython",
    "version": 3
   },
   "file_extension": ".py",
   "mimetype": "text/x-python",
   "name": "python",
   "nbconvert_exporter": "python",
   "pygments_lexer": "ipython3",
   "version": "3.12.5"
  }
 },
 "nbformat": 4,
 "nbformat_minor": 5
}
